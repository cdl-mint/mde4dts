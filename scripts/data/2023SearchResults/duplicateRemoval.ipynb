{
 "cells": [
  {
   "cell_type": "code",
   "execution_count": 71,
   "metadata": {},
   "outputs": [],
   "source": [
    "import pandas as pd"
   ]
  },
  {
   "cell_type": "code",
   "execution_count": 72,
   "metadata": {},
   "outputs": [],
   "source": [
    "# Step 1: Read the CSV file\n",
    "df = pd.read_csv('Fused.csv', header=None, sep=\"|\")  # Replace 'path_to_your_file.csv' with your actual file path"
   ]
  },
  {
   "cell_type": "code",
   "execution_count": 73,
   "metadata": {},
   "outputs": [],
   "source": [
    "# Step 2: Assign the first row as header\n",
    "headers = df.iloc[0]\n",
    "df = pd.DataFrame(df.values[1:], columns=headers)"
   ]
  },
  {
   "cell_type": "code",
   "execution_count": 74,
   "metadata": {},
   "outputs": [
    {
     "data": {
      "text/plain": [
       "Index(['ID', 'Authors', 'Title', 'Publication year', 'Publisher',\n",
       "       'Proceedings title', 'URLs', 'DOI', 'Abstract', 'Keywords', 'Series'],\n",
       "      dtype='object', name=0)"
      ]
     },
     "execution_count": 74,
     "metadata": {},
     "output_type": "execute_result"
    }
   ],
   "source": [
    "df.columns"
   ]
  },
  {
   "cell_type": "code",
   "execution_count": 75,
   "metadata": {},
   "outputs": [],
   "source": [
    "# Step 3: Sort the DataFrame based on the \"title\" column alphabetically\n",
    "df = df.sort_values(by=['Title'])"
   ]
  },
  {
   "cell_type": "code",
   "execution_count": 76,
   "metadata": {},
   "outputs": [
    {
     "data": {
      "text/plain": [
       "<bound method IndexOpsMixin.tolist of 220    10th International Conference on Interoperabil...\n",
       "183    10th International Conference on Model-Driven ...\n",
       "305    14th European Conference on Software Architect...\n",
       "294    1st International Conference on Systems Modell...\n",
       "285    2022 IEEE 19th International Conference on Sof...\n",
       "                             ...                        \n",
       "7      Using trace alignments for measuring the simil...\n",
       "372    Virtual Soccer Champions: A Case Study on Arti...\n",
       "215    Virtual Soccer Champions: A Case Study on Arti...\n",
       "15     Virtual soccer champions: a case study on arti...\n",
       "70     Workshop Management and Control System Based o...\n",
       "Name: Title, Length: 431, dtype: object>"
      ]
     },
     "execution_count": 76,
     "metadata": {},
     "output_type": "execute_result"
    }
   ],
   "source": [
    "df['Title'].to_list"
   ]
  },
  {
   "cell_type": "code",
   "execution_count": 77,
   "metadata": {},
   "outputs": [],
   "source": [
    "# Step 2: Drop duplicates based on the \"title\" column\n",
    "df = df.drop_duplicates(subset=['Title'])"
   ]
  },
  {
   "cell_type": "code",
   "execution_count": 78,
   "metadata": {},
   "outputs": [],
   "source": [
    "df = df[df['Title'].str.lower() != df['Title']]"
   ]
  },
  {
   "cell_type": "code",
   "execution_count": 79,
   "metadata": {},
   "outputs": [],
   "source": [
    "# Step 4: Write the resulting DataFrame to a new CSV file\n",
    "df.to_csv('no_duplicates.csv', index=False, sep=\"|\")  # Replace 'path_to_your_output_file.csv' with your desired output file path"
   ]
  },
  {
   "cell_type": "code",
   "execution_count": 80,
   "metadata": {},
   "outputs": [],
   "source": [
    "df2 = pd.read_csv(\"../titles_all.csv\", sep=\"|\", header=None)"
   ]
  },
  {
   "cell_type": "code",
   "execution_count": 81,
   "metadata": {},
   "outputs": [],
   "source": [
    "headers = ['Title']"
   ]
  },
  {
   "cell_type": "code",
   "execution_count": 82,
   "metadata": {},
   "outputs": [],
   "source": [
    "df2 = pd.DataFrame(df2.values[0:], columns=headers)"
   ]
  },
  {
   "cell_type": "code",
   "execution_count": 83,
   "metadata": {},
   "outputs": [],
   "source": [
    "# Remove titles in df that are present in df2\n",
    "df_filtered = df[~df['Title'].isin(df2['Title'])]"
   ]
  },
  {
   "cell_type": "code",
   "execution_count": 84,
   "metadata": {},
   "outputs": [],
   "source": [
    "# Step 4: Write the resulting DataFrame to a new CSV file\n",
    "df_filtered.to_csv('no_duplicates_and_intersected_with_titles_all.csv', index=False, sep=\"|\")  # Replace 'path_to_your_output_file.csv' with your desired output file path"
   ]
  }
 ],
 "metadata": {
  "kernelspec": {
   "display_name": "Python 3",
   "language": "python",
   "name": "python3"
  },
  "language_info": {
   "codemirror_mode": {
    "name": "ipython",
    "version": 3
   },
   "file_extension": ".py",
   "mimetype": "text/x-python",
   "name": "python",
   "nbconvert_exporter": "python",
   "pygments_lexer": "ipython3",
   "version": "3.11.2"
  }
 },
 "nbformat": 4,
 "nbformat_minor": 2
}
