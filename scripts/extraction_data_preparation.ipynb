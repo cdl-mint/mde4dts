{
 "cells": [
  {
   "cell_type": "markdown",
   "metadata": {},
   "source": [
    "# packages"
   ]
  },
  {
   "cell_type": "code",
   "execution_count": 11,
   "metadata": {},
   "outputs": [],
   "source": [
    "#import subprocess\n",
    "#import sys\n",
    "\n",
    "#def install(package):\n",
    "#    subprocess.check_call([sys.executable, \"-m\", \"pip\", \"install\", package])\n",
    "\n",
    "#install(\"pandas\")\n",
    "#install(\"numpy\")\n",
    "#install(\"matplotlib\")\n",
    "#install(\"openpyxl\")"
   ]
  },
  {
   "cell_type": "markdown",
   "metadata": {},
   "source": [
    "# imports"
   ]
  },
  {
   "cell_type": "code",
   "execution_count": 12,
   "metadata": {},
   "outputs": [],
   "source": [
    "import pandas as pd\n",
    "import numpy as np\n",
    "import json\n",
    "import csv\n",
    "import os"
   ]
  },
  {
   "cell_type": "code",
   "execution_count": 13,
   "metadata": {},
   "outputs": [],
   "source": [
    "heads = ['ID', 'Title', 'model processing technique', 'source', 'source category', 'source sub-category 1', 'source sub-category 2', 'source model target category', 'target', 'target category', 'target sub-category 1', 'target sub-category 2', 'target model target category', 'Technological Readiness Level', 'system lifecycle phase', 'twinning target', 'twin lifecycle phase', 'use case domain','Use Case']\n"
   ]
  },
  {
   "cell_type": "markdown",
   "metadata": {},
   "source": [
    "# Read Extraction Data from CSV"
   ]
  },
  {
   "cell_type": "code",
   "execution_count": 14,
   "metadata": {},
   "outputs": [
    {
     "data": {
      "text/html": [
       "<div>\n",
       "<style scoped>\n",
       "    .dataframe tbody tr th:only-of-type {\n",
       "        vertical-align: middle;\n",
       "    }\n",
       "\n",
       "    .dataframe tbody tr th {\n",
       "        vertical-align: top;\n",
       "    }\n",
       "\n",
       "    .dataframe thead th {\n",
       "        text-align: right;\n",
       "    }\n",
       "</style>\n",
       "<table border=\"1\" class=\"dataframe\">\n",
       "  <thead>\n",
       "    <tr style=\"text-align: right;\">\n",
       "      <th></th>\n",
       "      <th>ID</th>\n",
       "      <th>Title</th>\n",
       "      <th>model processing technique</th>\n",
       "      <th>source</th>\n",
       "      <th>source category</th>\n",
       "      <th>source sub-category 1</th>\n",
       "      <th>source sub-category 2</th>\n",
       "      <th>source model target category</th>\n",
       "      <th>target</th>\n",
       "      <th>target category</th>\n",
       "      <th>target sub-category 1</th>\n",
       "      <th>target sub-category 2</th>\n",
       "      <th>target model target category</th>\n",
       "      <th>Technological Readiness Level</th>\n",
       "      <th>system lifecycle phase</th>\n",
       "      <th>twinning target</th>\n",
       "      <th>twin lifecycle phase</th>\n",
       "      <th>use case domain</th>\n",
       "      <th>Use Case</th>\n",
       "    </tr>\n",
       "  </thead>\n",
       "  <tbody>\n",
       "    <tr>\n",
       "      <th>0</th>\n",
       "      <td>1</td>\n",
       "      <td>A digital twin-driven hybrid approach for the ...</td>\n",
       "      <td>Model Interpretation</td>\n",
       "      <td>hybrid model (physical, geometric, behavior, r...</td>\n",
       "      <td>behavior + structure model</td>\n",
       "      <td>data</td>\n",
       "      <td>NaN</td>\n",
       "      <td>PT</td>\n",
       "      <td>performance degredation measurement algorithm</td>\n",
       "      <td>Software</td>\n",
       "      <td>data processing</td>\n",
       "      <td>NaN</td>\n",
       "      <td>NaN</td>\n",
       "      <td>Evaluation Research</td>\n",
       "      <td>Design</td>\n",
       "      <td>Individual Systems</td>\n",
       "      <td>As-Operated</td>\n",
       "      <td>C - Manufacturing</td>\n",
       "      <td>Transmission of CNC Machine</td>\n",
       "    </tr>\n",
       "    <tr>\n",
       "      <th>1</th>\n",
       "      <td>1</td>\n",
       "      <td>A digital twin-driven hybrid approach for the ...</td>\n",
       "      <td>Model Interpretation</td>\n",
       "      <td>runtime data</td>\n",
       "      <td>structural model</td>\n",
       "      <td>data</td>\n",
       "      <td>NaN</td>\n",
       "      <td>PT</td>\n",
       "      <td>simulation engine</td>\n",
       "      <td>Software</td>\n",
       "      <td>simulation software</td>\n",
       "      <td>NaN</td>\n",
       "      <td>NaN</td>\n",
       "      <td>NaN</td>\n",
       "      <td>Design</td>\n",
       "      <td>NaN</td>\n",
       "      <td>NaN</td>\n",
       "      <td>NaN</td>\n",
       "      <td>NaN</td>\n",
       "    </tr>\n",
       "    <tr>\n",
       "      <th>2</th>\n",
       "      <td>2</td>\n",
       "      <td>A framework for Model-Driven Engineering of re...</td>\n",
       "      <td>Code Generation</td>\n",
       "      <td>SysML: BDD</td>\n",
       "      <td>structural model</td>\n",
       "      <td>data</td>\n",
       "      <td>NaN</td>\n",
       "      <td>PT</td>\n",
       "      <td>Knowledge Base of software digital twins (Meta...</td>\n",
       "      <td>Software</td>\n",
       "      <td>data storage</td>\n",
       "      <td>NaN</td>\n",
       "      <td>NaN</td>\n",
       "      <td>Validation Research</td>\n",
       "      <td>Design</td>\n",
       "      <td>Individual Systems</td>\n",
       "      <td>As-Designed</td>\n",
       "      <td>H - Transport</td>\n",
       "      <td>limited traffic zone access control</td>\n",
       "    </tr>\n",
       "    <tr>\n",
       "      <th>3</th>\n",
       "      <td>2</td>\n",
       "      <td>A framework for Model-Driven Engineering of re...</td>\n",
       "      <td>Model Interpretation</td>\n",
       "      <td>Fault Trees</td>\n",
       "      <td>behavior model</td>\n",
       "      <td>discrete behavior</td>\n",
       "      <td>NaN</td>\n",
       "      <td>PT</td>\n",
       "      <td>FaultTreeAnalyzer (metamodel proposed in Figur...</td>\n",
       "      <td>Software</td>\n",
       "      <td>control</td>\n",
       "      <td>NaN</td>\n",
       "      <td>NaN</td>\n",
       "      <td>NaN</td>\n",
       "      <td>Design</td>\n",
       "      <td>NaN</td>\n",
       "      <td>NaN</td>\n",
       "      <td>NaN</td>\n",
       "      <td>NaN</td>\n",
       "    </tr>\n",
       "    <tr>\n",
       "      <th>4</th>\n",
       "      <td>3</td>\n",
       "      <td>A Methodology for Digital Twin Modeling and De...</td>\n",
       "      <td>Code Generation</td>\n",
       "      <td>AutomationML models</td>\n",
       "      <td>structural model</td>\n",
       "      <td>data</td>\n",
       "      <td>NaN</td>\n",
       "      <td>PT</td>\n",
       "      <td>DT runtime memory</td>\n",
       "      <td>software</td>\n",
       "      <td>other software</td>\n",
       "      <td>NaN</td>\n",
       "      <td>NaN</td>\n",
       "      <td>Validation Research</td>\n",
       "      <td>Operate</td>\n",
       "      <td>Systems of Systems</td>\n",
       "      <td>As-Operated</td>\n",
       "      <td>C - Manufacturing</td>\n",
       "      <td>refinery automationsystem with four valves</td>\n",
       "    </tr>\n",
       "  </tbody>\n",
       "</table>\n",
       "</div>"
      ],
      "text/plain": [
       "   ID                                              Title  \\\n",
       "0   1  A digital twin-driven hybrid approach for the ...   \n",
       "1   1  A digital twin-driven hybrid approach for the ...   \n",
       "2   2  A framework for Model-Driven Engineering of re...   \n",
       "3   2  A framework for Model-Driven Engineering of re...   \n",
       "4   3  A Methodology for Digital Twin Modeling and De...   \n",
       "\n",
       "  model processing technique  \\\n",
       "0       Model Interpretation   \n",
       "1       Model Interpretation   \n",
       "2            Code Generation   \n",
       "3       Model Interpretation   \n",
       "4            Code Generation   \n",
       "\n",
       "                                              source  \\\n",
       "0  hybrid model (physical, geometric, behavior, r...   \n",
       "1                                       runtime data   \n",
       "2                                         SysML: BDD   \n",
       "3                                        Fault Trees   \n",
       "4                                AutomationML models   \n",
       "\n",
       "              source category source sub-category 1 source sub-category 2  \\\n",
       "0  behavior + structure model                  data                   NaN   \n",
       "1            structural model                  data                   NaN   \n",
       "2            structural model                  data                   NaN   \n",
       "3              behavior model     discrete behavior                   NaN   \n",
       "4            structural model                  data                   NaN   \n",
       "\n",
       "  source model target category  \\\n",
       "0                           PT   \n",
       "1                           PT   \n",
       "2                           PT   \n",
       "3                           PT   \n",
       "4                           PT   \n",
       "\n",
       "                                              target target category  \\\n",
       "0      performance degredation measurement algorithm        Software   \n",
       "1                                  simulation engine        Software   \n",
       "2  Knowledge Base of software digital twins (Meta...        Software   \n",
       "3  FaultTreeAnalyzer (metamodel proposed in Figur...        Software   \n",
       "4                                  DT runtime memory        software   \n",
       "\n",
       "  target sub-category 1 target sub-category 2 target model target category  \\\n",
       "0       data processing                   NaN                          NaN   \n",
       "1   simulation software                   NaN                          NaN   \n",
       "2          data storage                   NaN                          NaN   \n",
       "3               control                   NaN                          NaN   \n",
       "4        other software                   NaN                          NaN   \n",
       "\n",
       "  Technological Readiness Level system lifecycle phase     twinning target  \\\n",
       "0           Evaluation Research                 Design  Individual Systems   \n",
       "1                           NaN                 Design                 NaN   \n",
       "2           Validation Research                 Design  Individual Systems   \n",
       "3                           NaN                 Design                 NaN   \n",
       "4           Validation Research                Operate  Systems of Systems   \n",
       "\n",
       "  twin lifecycle phase    use case domain  \\\n",
       "0          As-Operated  C - Manufacturing   \n",
       "1                  NaN                NaN   \n",
       "2          As-Designed      H - Transport   \n",
       "3                  NaN                NaN   \n",
       "4          As-Operated  C - Manufacturing   \n",
       "\n",
       "                                      Use Case  \n",
       "0                  Transmission of CNC Machine  \n",
       "1                                          NaN  \n",
       "2          limited traffic zone access control  \n",
       "3                                          NaN  \n",
       "4  refinery automationsystem with four valves   "
      ]
     },
     "execution_count": 14,
     "metadata": {},
     "output_type": "execute_result"
    }
   ],
   "source": [
    "data = pd.read_csv(filepath_or_buffer=\"./data/04 extraction consolidation results.csv\",sep=\";\")\n",
    "titles = data.drop_duplicates(subset=[\"ID\"])\n",
    "titles = titles[\"Title\"]\n",
    "data.head()"
   ]
  },
  {
   "cell_type": "markdown",
   "metadata": {},
   "source": [
    "# create JSON from CSV"
   ]
  },
  {
   "cell_type": "code",
   "execution_count": 15,
   "metadata": {},
   "outputs": [],
   "source": [
    "keys = [ 'Technological Readiness Level',  'twinning target', 'twin lifecycle phase', 'use case domain', 'Use Case']\n",
    "mde_keys = ['model processing technique', 'system lifecycle phase', 'source', 'source category', 'source sub-category 1', 'source sub-category 2','source model target category', 'target', 'target category', 'target sub-category 1', 'target sub-category 2', 'target model target category',]"
   ]
  },
  {
   "cell_type": "code",
   "execution_count": 16,
   "metadata": {},
   "outputs": [],
   "source": [
    "result = {}\n"
   ]
  },
  {
   "cell_type": "code",
   "execution_count": 17,
   "metadata": {},
   "outputs": [],
   "source": [
    "data.reset_index()\n",
    "for title in titles:\n",
    "    rownum = 0\n",
    "    current_rows = data[data[\"Title\"] == title]\n",
    "    current_row = current_rows.iloc[0]\n",
    "    result[title] = {}\n",
    "    for key in keys:\n",
    "        if current_row[key] is None or pd.isna(current_row[key]):\n",
    "            result[title][key] = None\n",
    "        else:\n",
    "            result[title][key] = current_row[key]\n",
    "            if key == \"use case domain\" and current_row[key] == \"Accommodation\":\n",
    "                print(title)\n",
    "    result[title][\"modelTrafos\"] = []\n",
    "    for index, technique_in in current_rows.iterrows():\n",
    "        technique_out = {}\n",
    "        for key in mde_keys:\n",
    "            if technique_in[key] is None or pd.isna(technique_in[key]):\n",
    "                technique_out[key] = None \n",
    "            else:\n",
    "                technique_out[key] = technique_in[key]\n",
    "        result[title][\"modelTrafos\"].append(technique_out)"
   ]
  },
  {
   "cell_type": "code",
   "execution_count": 18,
   "metadata": {},
   "outputs": [],
   "source": [
    "json_object = json.dumps(result, indent = 4) \n",
    "\n",
    "with open(\"./data/data_consolidated_semistructured.json\", \"w+\") as outfile:\n",
    "    outfile.write(json_object)"
   ]
  },
  {
   "cell_type": "markdown",
   "metadata": {},
   "source": [
    "# create list of venues"
   ]
  },
  {
   "cell_type": "code",
   "execution_count": 19,
   "metadata": {},
   "outputs": [
    {
     "name": "stdout",
     "output_type": "stream",
     "text": [
      "64\n",
      "64\n",
      "Index(['ID', 'Title', 'model processing technique', 'source',\n",
      "       'source category', 'source sub-category 1', 'source sub-category 2',\n",
      "       'source model target category', 'target', 'target category',\n",
      "       'target sub-category 1', 'target sub-category 2',\n",
      "       'target model target category', 'Technological Readiness Level',\n",
      "       'system lifecycle phase', 'twinning target', 'twin lifecycle phase',\n",
      "       'use case domain', 'Use Case', 'Publication Title', 'Authors',\n",
      "       'Publication Year', 'Publisher'],\n",
      "      dtype='object')\n"
     ]
    }
   ],
   "source": [
    "metadata = pd.read_csv(\"./data/00 Search Results.csv\", sep=\";\", encoding=\"latin-1\")\n",
    "metadata = metadata.drop_duplicates(subset=['Title'])\n",
    "data_merged = data.drop_duplicates(subset=[\"ID\"])\n",
    "print(len(data_merged))\n",
    "data_merged = data_merged.merge(metadata, how='left', on='Title')\n",
    "print(len(data_merged))\n",
    "print(data_merged.columns)"
   ]
  },
  {
   "cell_type": "code",
   "execution_count": 20,
   "metadata": {},
   "outputs": [],
   "source": [
    "data_merged.to_csv(\"test.csv\", sep=\";\")"
   ]
  },
  {
   "cell_type": "code",
   "execution_count": null,
   "metadata": {},
   "outputs": [],
   "source": []
  }
 ],
 "metadata": {
  "kernelspec": {
   "display_name": "Python 3 (ipykernel)",
   "language": "python",
   "name": "python3"
  },
  "language_info": {
   "codemirror_mode": {
    "name": "ipython",
    "version": 3
   },
   "file_extension": ".py",
   "mimetype": "text/x-python",
   "name": "python",
   "nbconvert_exporter": "python",
   "pygments_lexer": "ipython3",
   "version": "3.10.3"
  }
 },
 "nbformat": 4,
 "nbformat_minor": 2
}
