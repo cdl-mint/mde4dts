{
 "cells": [
  {
   "cell_type": "code",
   "execution_count": 1,
   "id": "6eeffd1e",
   "metadata": {},
   "outputs": [],
   "source": [
    "import pandas as pd"
   ]
  },
  {
   "cell_type": "code",
   "execution_count": 2,
   "id": "fad89a35",
   "metadata": {},
   "outputs": [],
   "source": [
    "titles = pd.read_csv(\"snowballing_merged.csv\", sep=\";\", encoding=\"latin-1\")"
   ]
  },
  {
   "cell_type": "code",
   "execution_count": 7,
   "id": "ba574d5b",
   "metadata": {},
   "outputs": [],
   "source": [
    "titles_unique = titles[\"Title\"].str.lower().unique()"
   ]
  },
  {
   "cell_type": "code",
   "execution_count": 8,
   "id": "5ee423b8",
   "metadata": {},
   "outputs": [],
   "source": [
    "titles = pd.DataFrame(titles_unique, columns=[\"Title\"])"
   ]
  },
  {
   "cell_type": "code",
   "execution_count": 6,
   "id": "97b84e01",
   "metadata": {},
   "outputs": [],
   "source": [
    "search_results = pd.read_csv(\"./data/search_results.csv\", sep=\";\", encoding=\"latin-1\")"
   ]
  },
  {
   "cell_type": "code",
   "execution_count": 9,
   "id": "88a31609",
   "metadata": {},
   "outputs": [
    {
     "data": {
      "text/html": [
       "<div>\n",
       "<style scoped>\n",
       "    .dataframe tbody tr th:only-of-type {\n",
       "        vertical-align: middle;\n",
       "    }\n",
       "\n",
       "    .dataframe tbody tr th {\n",
       "        vertical-align: top;\n",
       "    }\n",
       "\n",
       "    .dataframe thead th {\n",
       "        text-align: right;\n",
       "    }\n",
       "</style>\n",
       "<table border=\"1\" class=\"dataframe\">\n",
       "  <thead>\n",
       "    <tr style=\"text-align: right;\">\n",
       "      <th></th>\n",
       "      <th>Title</th>\n",
       "    </tr>\n",
       "  </thead>\n",
       "  <tbody>\n",
       "    <tr>\n",
       "      <th>0</th>\n",
       "      <td>a catalog of design patterns for compositional...</td>\n",
       "    </tr>\n",
       "    <tr>\n",
       "      <th>1</th>\n",
       "      <td>a conceptual framework for smart production pl...</td>\n",
       "    </tr>\n",
       "    <tr>\n",
       "      <th>2</th>\n",
       "      <td>a conceptual model for digital shadows in indu...</td>\n",
       "    </tr>\n",
       "    <tr>\n",
       "      <th>3</th>\n",
       "      <td>a cost--benefit analysis simulation for the di...</td>\n",
       "    </tr>\n",
       "    <tr>\n",
       "      <th>4</th>\n",
       "      <td>a digital shadow reference model for worldwide...</td>\n",
       "    </tr>\n",
       "    <tr>\n",
       "      <th>...</th>\n",
       "      <td>...</td>\n",
       "    </tr>\n",
       "    <tr>\n",
       "      <th>1196</th>\n",
       "      <td>domain-specific conceptual modelling: concepts...</td>\n",
       "    </tr>\n",
       "    <tr>\n",
       "      <th>1197</th>\n",
       "      <td>the adoxx metamodeling platform</td>\n",
       "    </tr>\n",
       "    <tr>\n",
       "      <th>1198</th>\n",
       "      <td>gmbh the adoscript programming language</td>\n",
       "    </tr>\n",
       "    <tr>\n",
       "      <th>1199</th>\n",
       "      <td>the djitellopy python library</td>\n",
       "    </tr>\n",
       "    <tr>\n",
       "      <th>1200</th>\n",
       "      <td>the physics of notations: towards a scientific...</td>\n",
       "    </tr>\n",
       "  </tbody>\n",
       "</table>\n",
       "<p>1201 rows × 1 columns</p>\n",
       "</div>"
      ],
      "text/plain": [
       "                                                  Title\n",
       "0     a catalog of design patterns for compositional...\n",
       "1     a conceptual framework for smart production pl...\n",
       "2     a conceptual model for digital shadows in indu...\n",
       "3     a cost--benefit analysis simulation for the di...\n",
       "4     a digital shadow reference model for worldwide...\n",
       "...                                                 ...\n",
       "1196  domain-specific conceptual modelling: concepts...\n",
       "1197                    the adoxx metamodeling platform\n",
       "1198            gmbh the adoscript programming language\n",
       "1199                      the djitellopy python library\n",
       "1200  the physics of notations: towards a scientific...\n",
       "\n",
       "[1201 rows x 1 columns]"
      ]
     },
     "execution_count": 9,
     "metadata": {},
     "output_type": "execute_result"
    }
   ],
   "source": [
    "titles"
   ]
  },
  {
   "cell_type": "code",
   "execution_count": null,
   "id": "fa582276",
   "metadata": {},
   "outputs": [],
   "source": []
  }
 ],
 "metadata": {
  "kernelspec": {
   "display_name": "Python 3 (ipykernel)",
   "language": "python",
   "name": "python3"
  },
  "language_info": {
   "codemirror_mode": {
    "name": "ipython",
    "version": 3
   },
   "file_extension": ".py",
   "mimetype": "text/x-python",
   "name": "python",
   "nbconvert_exporter": "python",
   "pygments_lexer": "ipython3",
   "version": "3.10.3"
  }
 },
 "nbformat": 4,
 "nbformat_minor": 5
}
