{
 "cells": [
  {
   "cell_type": "code",
   "execution_count": 1,
   "id": "7bb9c04f",
   "metadata": {},
   "outputs": [],
   "source": [
    "import pandas as pd\n",
    "from scholarly import scholarly, ProxyGenerator\n",
    "from habanero import Crossref\n",
    "from pyscopus import Scopus\n",
    "\n",
    "scopus = Scopus(\"f130ed2ec5730526ea6c672a96600fd7\")"
   ]
  },
  {
   "cell_type": "markdown",
   "id": "a490fcc9",
   "metadata": {},
   "source": [
    "# [Worked] Get Metadata based on Titles from Scopus"
   ]
  },
  {
   "cell_type": "code",
   "execution_count": 17,
   "id": "ee74c32e",
   "metadata": {},
   "outputs": [
    {
     "data": {
      "text/html": [
       "<div>\n",
       "<style scoped>\n",
       "    .dataframe tbody tr th:only-of-type {\n",
       "        vertical-align: middle;\n",
       "    }\n",
       "\n",
       "    .dataframe tbody tr th {\n",
       "        vertical-align: top;\n",
       "    }\n",
       "\n",
       "    .dataframe thead th {\n",
       "        text-align: right;\n",
       "    }\n",
       "</style>\n",
       "<table border=\"1\" class=\"dataframe\">\n",
       "  <thead>\n",
       "    <tr style=\"text-align: right;\">\n",
       "      <th></th>\n",
       "      <th>Title</th>\n",
       "    </tr>\n",
       "  </thead>\n",
       "  <tbody>\n",
       "    <tr>\n",
       "      <th>0</th>\n",
       "      <td>Knowledge-based lifecycle management approach ...</td>\n",
       "    </tr>\n",
       "    <tr>\n",
       "      <th>1</th>\n",
       "      <td>Unified IoT ontology to enable interoperabilit...</td>\n",
       "    </tr>\n",
       "    <tr>\n",
       "      <th>2</th>\n",
       "      <td>Agile Manifesto</td>\n",
       "    </tr>\n",
       "    <tr>\n",
       "      <th>3</th>\n",
       "      <td>Development of a knowledge-based design suppor...</td>\n",
       "    </tr>\n",
       "    <tr>\n",
       "      <th>4</th>\n",
       "      <td>Framework for the agile development of innovat...</td>\n",
       "    </tr>\n",
       "  </tbody>\n",
       "</table>\n",
       "</div>"
      ],
      "text/plain": [
       "                                               Title\n",
       "0  Knowledge-based lifecycle management approach ...\n",
       "1  Unified IoT ontology to enable interoperabilit...\n",
       "2                                   Agile Manifesto \n",
       "3  Development of a knowledge-based design suppor...\n",
       "4  Framework for the agile development of innovat..."
      ]
     },
     "execution_count": 17,
     "metadata": {},
     "output_type": "execute_result"
    }
   ],
   "source": [
    "titles = pd.read_csv(\"snowballing_additional_backward.csv\", sep=\";\")\n",
    "titles.head()"
   ]
  },
  {
   "cell_type": "code",
   "execution_count": null,
   "id": "a35c0ede",
   "metadata": {
    "scrolled": true
   },
   "outputs": [],
   "source": [
    "ids = []\n",
    "failed_titles = []\n",
    "for title in titles[\"Title\"]:\n",
    "    try:\n",
    "        result = scopus.search(\"Title(\" + title + \")\")\n",
    "        ids.append(result[\"scopus_id\"])\n",
    "        print(\"success\")\n",
    "    except Exception as e:\n",
    "        print(\"failed: \", e)\n",
    "        failed_titles.append(title)"
   ]
  },
  {
   "cell_type": "markdown",
   "id": "8fe6c38d",
   "metadata": {},
   "source": [
    "### persist scopus ids"
   ]
  },
  {
   "cell_type": "code",
   "execution_count": 20,
   "id": "81de8c40",
   "metadata": {},
   "outputs": [],
   "source": [
    "id_test = []\n",
    "for row in ids:\n",
    "    if not row.empty:\n",
    "        id_test.append(row[0])\n",
    "id_list = pd.Series(id_test)\n",
    "id_list.to_csv(\"scopus_ids_additional_backward.csv\", sep=\";\", index=False)\n",
    "failed_list = pd.Series(failed_titles)\n",
    "failed_list.to_csv(\"scopus_failed_backward.csv\", sep=\";\", index=False)"
   ]
  },
  {
   "cell_type": "markdown",
   "id": "cf811889",
   "metadata": {},
   "source": [
    "### load scopus ids from previous run, and get metadata for those ids"
   ]
  },
  {
   "cell_type": "code",
   "execution_count": 2,
   "id": "cc8ae09a",
   "metadata": {},
   "outputs": [],
   "source": [
    "scopus_ids = pd.read_csv(\"scopus_ids_additional_backward.csv\", sep=\";\", encoding=\"latin-1\")"
   ]
  },
  {
   "cell_type": "code",
   "execution_count": null,
   "id": "1c70a170",
   "metadata": {},
   "outputs": [],
   "source": [
    "columns = [\"title\", \"abstract\", \"dc:publisher\", \"prism:aggregationType\", \"prism:publicationName\", \"prism:coverDate\", \"prism:url\"]\n",
    "result = pd.DataFrame(columns=columns)\n",
    "failed_ids = []\n",
    "for index, scopus_id in scopus_ids.iterrows():\n",
    "    try:\n",
    "        pub_info = scopus.retrieve_abstract(scopus_id[0])\n",
    "        new_line = {}\n",
    "        print(\"success\")\n",
    "        for column in columns:\n",
    "            new_line[column] = pub_info[column]\n",
    "        result = result.append(new_line, ignore_index=True)\n",
    "    except Exception as ex:\n",
    "        failed_ids.append(scopus_id)\n",
    "        print(\"failed\", ex)\n",
    "        continue\n",
    "    "
   ]
  },
  {
   "cell_type": "code",
   "execution_count": 38,
   "id": "eb286a9c",
   "metadata": {},
   "outputs": [
    {
     "name": "stderr",
     "output_type": "stream",
     "text": [
      "C:\\Users\\Daniel Lehner\\AppData\\Local\\Temp\\ipykernel_14724\\3248324592.py:5: FutureWarning: The frame.append method is deprecated and will be removed from pandas in a future version. Use pandas.concat instead.\n",
      "  result = result.append(new_line, ignore_index=True)\n"
     ]
    }
   ],
   "source": [
    "pub_info = scopus.retrieve_abstract(\"85143907362\")\n",
    "new_line = {}\n",
    "for column in columns:\n",
    "            new_line[column] = pub_info[column]\n",
    "result = result.append(new_line, ignore_index=True)"
   ]
  },
  {
   "cell_type": "markdown",
   "id": "a22a026b",
   "metadata": {},
   "source": [
    "## persist metadata in file finally.csv"
   ]
  },
  {
   "cell_type": "code",
   "execution_count": 23,
   "id": "7369b017",
   "metadata": {},
   "outputs": [],
   "source": [
    "result.to_csv(\"snowballing_metadata.csv\", sep=\";\")"
   ]
  },
  {
   "cell_type": "code",
   "execution_count": 5,
   "id": "4dc94afb",
   "metadata": {},
   "outputs": [],
   "source": [
    "len(failed_ids)\n",
    "pd.Series(failed_ids).to_csv(\"failed_ids.csv\", sep=\";\", index=False)"
   ]
  }
 ],
 "metadata": {
  "kernelspec": {
   "display_name": "Python 3 (ipykernel)",
   "language": "python",
   "name": "python3"
  },
  "language_info": {
   "codemirror_mode": {
    "name": "ipython",
    "version": 3
   },
   "file_extension": ".py",
   "mimetype": "text/x-python",
   "name": "python",
   "nbconvert_exporter": "python",
   "pygments_lexer": "ipython3",
   "version": "3.10.3"
  }
 },
 "nbformat": 4,
 "nbformat_minor": 5
}
