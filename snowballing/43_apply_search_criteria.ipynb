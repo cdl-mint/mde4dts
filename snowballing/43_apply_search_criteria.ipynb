{
 "cells": [
  {
   "cell_type": "code",
   "execution_count": 1,
   "metadata": {},
   "outputs": [],
   "source": [
    "import pandas as pd"
   ]
  },
  {
   "cell_type": "code",
   "execution_count": 2,
   "metadata": {},
   "outputs": [],
   "source": [
    "dt_synonyms = [\"digital twin\", \"digital twins\"]\n",
    "mde_synonyms = [\"model driven\", \"model-driven\"]\n",
    "columns = [\"title\", \"abstract\", \"prism:publicationName\"]\n",
    "data = pd.read_csv(\"finally.csv\", sep=\";\", encoding=\"latin-1\")\n"
   ]
  },
  {
   "cell_type": "code",
   "execution_count": 25,
   "metadata": {},
   "outputs": [],
   "source": [
    "papers_reduced = []\n",
    "for id, row in data.iterrows():\n",
    "    dt_detected = False \n",
    "    mde_detected = False\n",
    "    for col in columns:\n",
    "        for dt in dt_synonyms:\n",
    "            if dt in row[col].lower():\n",
    "                dt_detected = True\n",
    "        for mde in mde_synonyms:\n",
    "            if mde in row[col].lower():\n",
    "                mde_detected = True\n",
    "    if dt_detected and mde_detected:\n",
    "        papers_reduced.append(row[\"title\"])\n",
    "    \n",
    "    \n",
    "    "
   ]
  },
  {
   "cell_type": "code",
   "execution_count": 62,
   "metadata": {},
   "outputs": [],
   "source": [
    "titles = pd.DataFrame(columns=[\"title\"])\n",
    "titles[\"title\"] = papers_reduced\n",
    "titles = titles.drop_duplicates()"
   ]
  },
  {
   "cell_type": "code",
   "execution_count": 66,
   "metadata": {},
   "outputs": [],
   "source": [
    "\n",
    "snowballing_meta = titles.merge(data, how='left', on='title')\n",
    "snowballing_meta = snowballing_meta.drop_duplicates(subset=[\"title\"])"
   ]
  },
  {
   "cell_type": "code",
   "execution_count": 67,
   "metadata": {},
   "outputs": [
    {
     "data": {
      "text/plain": [
       "(31, 8)"
      ]
     },
     "execution_count": 67,
     "metadata": {},
     "output_type": "execute_result"
    }
   ],
   "source": [
    "snowballing_meta.to_csv(\"snowballing_metadata.csv\", sep=\";\")\n",
    "snowballing_meta.shape"
   ]
  },
  {
   "cell_type": "markdown",
   "metadata": {},
   "source": [
    "# Get missing titles"
   ]
  },
  {
   "cell_type": "code",
   "execution_count": 53,
   "metadata": {},
   "outputs": [],
   "source": [
    "all_titles_scopus = data[\"title\"].str.lower()\n",
    "all_titles_snowballing = pd.read_csv(\"snowballing_cleaned_reduced.csv\", sep=\";\", encoding=\"latin-1\")\n",
    "all_titles_snowballing[\"Title\"] = all_titles_snowballing[\"Title\"].str.lower()"
   ]
  },
  {
   "cell_type": "code",
   "execution_count": 54,
   "metadata": {},
   "outputs": [],
   "source": [
    "missing_titles = all_titles_snowballing[\"Title\"][~all_titles_snowballing[\"Title\"].isin(all_titles_scopus)]"
   ]
  },
  {
   "cell_type": "code",
   "execution_count": 56,
   "metadata": {},
   "outputs": [],
   "source": [
    "missing_titles.to_csv(\"missing_titles.csv\", sep=\";\")"
   ]
  },
  {
   "cell_type": "code",
   "execution_count": null,
   "metadata": {},
   "outputs": [],
   "source": []
  }
 ],
 "metadata": {
  "kernelspec": {
   "display_name": "Python 3",
   "language": "python",
   "name": "python3"
  },
  "language_info": {
   "codemirror_mode": {
    "name": "ipython",
    "version": 3
   },
   "file_extension": ".py",
   "mimetype": "text/x-python",
   "name": "python",
   "nbconvert_exporter": "python",
   "pygments_lexer": "ipython3",
   "version": "3.10.3"
  },
  "orig_nbformat": 4
 },
 "nbformat": 4,
 "nbformat_minor": 2
}
