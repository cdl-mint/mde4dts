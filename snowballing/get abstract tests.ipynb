{
 "cells": [
  {
   "cell_type": "code",
   "execution_count": 1,
   "id": "7bb9c04f",
   "metadata": {},
   "outputs": [],
   "source": [
    "import pandas as pd\n",
    "from scholarly import scholarly, ProxyGenerator\n",
    "from habanero import Crossref\n",
    "from pyscopus import Scopus\n",
    "\n",
    "scopus = Scopus(\"f130ed2ec5730526ea6c672a96600fd7\")"
   ]
  },
  {
   "cell_type": "markdown",
   "id": "a490fcc9",
   "metadata": {},
   "source": [
    "# [Worked] Get Metadata based on Titles from Scopus"
   ]
  },
  {
   "cell_type": "code",
   "execution_count": 17,
   "id": "ee74c32e",
   "metadata": {},
   "outputs": [
    {
     "data": {
      "text/html": [
       "<div>\n",
       "<style scoped>\n",
       "    .dataframe tbody tr th:only-of-type {\n",
       "        vertical-align: middle;\n",
       "    }\n",
       "\n",
       "    .dataframe tbody tr th {\n",
       "        vertical-align: top;\n",
       "    }\n",
       "\n",
       "    .dataframe thead th {\n",
       "        text-align: right;\n",
       "    }\n",
       "</style>\n",
       "<table border=\"1\" class=\"dataframe\">\n",
       "  <thead>\n",
       "    <tr style=\"text-align: right;\">\n",
       "      <th></th>\n",
       "      <th>Title</th>\n",
       "    </tr>\n",
       "  </thead>\n",
       "  <tbody>\n",
       "    <tr>\n",
       "      <th>0</th>\n",
       "      <td>Knowledge-based lifecycle management approach ...</td>\n",
       "    </tr>\n",
       "    <tr>\n",
       "      <th>1</th>\n",
       "      <td>Unified IoT ontology to enable interoperabilit...</td>\n",
       "    </tr>\n",
       "    <tr>\n",
       "      <th>2</th>\n",
       "      <td>Agile Manifesto</td>\n",
       "    </tr>\n",
       "    <tr>\n",
       "      <th>3</th>\n",
       "      <td>Development of a knowledge-based design suppor...</td>\n",
       "    </tr>\n",
       "    <tr>\n",
       "      <th>4</th>\n",
       "      <td>Framework for the agile development of innovat...</td>\n",
       "    </tr>\n",
       "  </tbody>\n",
       "</table>\n",
       "</div>"
      ],
      "text/plain": [
       "                                               Title\n",
       "0  Knowledge-based lifecycle management approach ...\n",
       "1  Unified IoT ontology to enable interoperabilit...\n",
       "2                                   Agile Manifesto \n",
       "3  Development of a knowledge-based design suppor...\n",
       "4  Framework for the agile development of innovat..."
      ]
     },
     "execution_count": 17,
     "metadata": {},
     "output_type": "execute_result"
    }
   ],
   "source": [
    "titles = pd.read_csv(\"snowballing_additional_backward.csv\", sep=\";\")\n",
    "titles.head()"
   ]
  },
  {
   "cell_type": "code",
   "execution_count": null,
   "id": "a35c0ede",
   "metadata": {
    "scrolled": true
   },
   "outputs": [],
   "source": [
    "ids = []\n",
    "failed_titles = []\n",
    "for title in titles[\"Title\"]:\n",
    "    try:\n",
    "        result = scopus.search(\"Title(\" + title + \")\")\n",
    "        ids.append(result[\"scopus_id\"])\n",
    "        print(\"success\")\n",
    "    except Exception as e:\n",
    "        print(\"failed: \", e)\n",
    "        failed_titles.append(title)"
   ]
  },
  {
   "cell_type": "markdown",
   "id": "8fe6c38d",
   "metadata": {},
   "source": [
    "### persist scopus ids"
   ]
  },
  {
   "cell_type": "code",
   "execution_count": 20,
   "id": "81de8c40",
   "metadata": {},
   "outputs": [],
   "source": [
    "id_test = []\n",
    "for row in ids:\n",
    "    if not row.empty:\n",
    "        id_test.append(row[0])\n",
    "id_list = pd.Series(id_test)\n",
    "id_list.to_csv(\"scopus_ids_additional_backward.csv\", sep=\";\", index=False)\n",
    "failed_list = pd.Series(failed_titles)\n",
    "failed_list.to_csv(\"scopus_failed_backward.csv\", sep=\";\", index=False)"
   ]
  },
  {
   "cell_type": "markdown",
   "id": "cf811889",
   "metadata": {},
   "source": [
    "### load scopus ids from previous run, and get metadata for those ids"
   ]
  },
  {
   "cell_type": "code",
   "execution_count": 2,
   "id": "cc8ae09a",
   "metadata": {},
   "outputs": [],
   "source": [
    "scopus_ids = pd.read_csv(\"scopus_ids_additional_backward.csv\", sep=\";\", encoding=\"latin-1\")"
   ]
  },
  {
   "cell_type": "code",
   "execution_count": null,
   "id": "1c70a170",
   "metadata": {},
   "outputs": [],
   "source": [
    "columns = [\"title\", \"abstract\", \"dc:publisher\", \"prism:aggregationType\", \"prism:publicationName\", \"prism:coverDate\", \"prism:url\"]\n",
    "result = pd.DataFrame(columns=columns)\n",
    "failed_ids = []\n",
    "for index, scopus_id in scopus_ids.iterrows():\n",
    "    try:\n",
    "        pub_info = scopus.retrieve_abstract(scopus_id[0])\n",
    "        new_line = {}\n",
    "        print(\"success\")\n",
    "        for column in columns:\n",
    "            new_line[column] = pub_info[column]\n",
    "        result = result.append(new_line, ignore_index=True)\n",
    "    except Exception as ex:\n",
    "        failed_ids.append(scopus_id)\n",
    "        print(\"failed\", ex)\n",
    "        continue\n",
    "    "
   ]
  },
  {
   "cell_type": "code",
   "execution_count": 38,
   "id": "eb286a9c",
   "metadata": {},
   "outputs": [
    {
     "name": "stderr",
     "output_type": "stream",
     "text": [
      "C:\\Users\\Daniel Lehner\\AppData\\Local\\Temp\\ipykernel_14724\\3248324592.py:5: FutureWarning: The frame.append method is deprecated and will be removed from pandas in a future version. Use pandas.concat instead.\n",
      "  result = result.append(new_line, ignore_index=True)\n"
     ]
    }
   ],
   "source": [
    "pub_info = scopus.retrieve_abstract(\"85143907362\")\n",
    "new_line = {}\n",
    "for column in columns:\n",
    "            new_line[column] = pub_info[column]\n",
    "result = result.append(new_line, ignore_index=True)"
   ]
  },
  {
   "cell_type": "markdown",
   "id": "a22a026b",
   "metadata": {},
   "source": [
    "## persist metadata in file finally.csv"
   ]
  },
  {
   "cell_type": "code",
   "execution_count": 23,
   "id": "7369b017",
   "metadata": {},
   "outputs": [],
   "source": [
    "result.to_csv(\"finally_additional_backward.csv\", sep=\";\")"
   ]
  },
  {
   "cell_type": "code",
   "execution_count": 5,
   "id": "4dc94afb",
   "metadata": {},
   "outputs": [],
   "source": [
    "len(failed_ids)\n",
    "pd.Series(failed_ids).to_csv(\"failed_ids.csv\", sep=\";\", index=False)"
   ]
  },
  {
   "cell_type": "markdown",
   "id": "e80377a1",
   "metadata": {},
   "source": [
    "## [WORKED] Get DOIs from CrossRef, and store in dois.csv"
   ]
  },
  {
   "cell_type": "code",
   "execution_count": 12,
   "id": "e8eaeb7c",
   "metadata": {},
   "outputs": [],
   "source": [
    "cr = Crossref()\n",
    "x = cr.works(query = \"A Catalog of Design Patterns for Compositional Language Engineering\")"
   ]
  },
  {
   "cell_type": "code",
   "execution_count": null,
   "id": "b51cc045",
   "metadata": {},
   "outputs": [],
   "source": [
    "for title in titles[\"Title\"]:\n",
    "    print(title)"
   ]
  },
  {
   "cell_type": "code",
   "execution_count": null,
   "id": "8172f829",
   "metadata": {},
   "outputs": [],
   "source": [
    "for title in titles[\"Title\"]:\n",
    "    query_results = cr.works(query = title)\n",
    "    items = query_results['message']['items']\n",
    "    for res in items:\n",
    "        #print(res['title'][0])\n",
    "        if \"title\" not in res.keys():\n",
    "            continue\n",
    "        if res['title'][0].lower() == title.lower():\n",
    "            print(res[\"DOI\"])\n",
    "            dois.append(res[\"DOI\"])"
   ]
  },
  {
   "cell_type": "code",
   "execution_count": 37,
   "id": "5ef37ef0",
   "metadata": {},
   "outputs": [],
   "source": [
    "doi_list = pd.Series(dois)\n",
    "#doi_list.to_csv(\"dois.csv\", header=\"DOI\", sep=\";\")"
   ]
  },
  {
   "cell_type": "markdown",
   "id": "7a52a169",
   "metadata": {},
   "source": [
    "## [Banned] Get Metadata based on DOIs from Scholarly"
   ]
  },
  {
   "cell_type": "code",
   "execution_count": null,
   "id": "7cc09d02",
   "metadata": {},
   "outputs": [],
   "source": [
    "dois = pd.read_csv(\"dois.csv\", sep=\";\", encoding=\"latin-1\")\n",
    "dois = pd.DataFrame(dois[\"DOI\"].unique(), columns=[\"DOI\"])"
   ]
  },
  {
   "cell_type": "code",
   "execution_count": 5,
   "id": "dbe8a6f2",
   "metadata": {},
   "outputs": [],
   "source": [
    "pg = ProxyGenerator()\n",
    "#pg.Tor_Internal(tor_cmd = \"tor\")\n",
    "pg.FreeProxies()\n",
    "scholarly.use_proxy(pg)"
   ]
  },
  {
   "cell_type": "code",
   "execution_count": 6,
   "id": "f786ce1a",
   "metadata": {
    "scrolled": true
   },
   "outputs": [
    {
     "ename": "MaxTriesExceededException",
     "evalue": "Cannot Fetch from Google Scholar.",
     "output_type": "error",
     "traceback": [
      "\u001b[1;31m---------------------------------------------------------------------------\u001b[0m",
      "\u001b[1;31mMaxTriesExceededException\u001b[0m                 Traceback (most recent call last)",
      "Input \u001b[1;32mIn [6]\u001b[0m, in \u001b[0;36m<cell line: 1>\u001b[1;34m()\u001b[0m\n\u001b[1;32m----> 1\u001b[0m result \u001b[38;5;241m=\u001b[39m \u001b[43mscholarly\u001b[49m\u001b[38;5;241;43m.\u001b[39;49m\u001b[43msearch_pubs\u001b[49m\u001b[43m(\u001b[49m\u001b[38;5;124;43m\"\u001b[39;49m\u001b[38;5;124;43m10.1016/j.cie.2022.108659\u001b[39;49m\u001b[38;5;124;43m\"\u001b[39;49m\u001b[43m)\u001b[49m\n\u001b[0;32m      2\u001b[0m x \u001b[38;5;241m=\u001b[39m \u001b[38;5;28mnext\u001b[39m(result)\n",
      "File \u001b[1;32m~\\AppData\\Local\\Programs\\Python\\Python310\\lib\\site-packages\\scholarly\\_scholarly.py:160\u001b[0m, in \u001b[0;36m_Scholarly.search_pubs\u001b[1;34m(self, query, patents, citations, year_low, year_high, sort_by, include_last_year, start_index)\u001b[0m\n\u001b[0;32m     97\u001b[0m \u001b[38;5;250m\u001b[39m\u001b[38;5;124;03m\"\"\"Searches by query and returns a generator of Publication objects\u001b[39;00m\n\u001b[0;32m     98\u001b[0m \n\u001b[0;32m     99\u001b[0m \u001b[38;5;124;03m:param query: terms to be searched\u001b[39;00m\n\u001b[1;32m   (...)\u001b[0m\n\u001b[0;32m    155\u001b[0m \n\u001b[0;32m    156\u001b[0m \u001b[38;5;124;03m\"\"\"\u001b[39;00m\n\u001b[0;32m    157\u001b[0m url \u001b[38;5;241m=\u001b[39m \u001b[38;5;28mself\u001b[39m\u001b[38;5;241m.\u001b[39m_construct_url(_PUBSEARCH\u001b[38;5;241m.\u001b[39mformat(requests\u001b[38;5;241m.\u001b[39mutils\u001b[38;5;241m.\u001b[39mquote(query)), patents\u001b[38;5;241m=\u001b[39mpatents,\n\u001b[0;32m    158\u001b[0m                           citations\u001b[38;5;241m=\u001b[39mcitations, year_low\u001b[38;5;241m=\u001b[39myear_low, year_high\u001b[38;5;241m=\u001b[39myear_high,\n\u001b[0;32m    159\u001b[0m                           sort_by\u001b[38;5;241m=\u001b[39msort_by, include_last_year\u001b[38;5;241m=\u001b[39minclude_last_year, start_index\u001b[38;5;241m=\u001b[39mstart_index)\n\u001b[1;32m--> 160\u001b[0m \u001b[38;5;28;01mreturn\u001b[39;00m \u001b[38;5;28;43mself\u001b[39;49m\u001b[38;5;241;43m.\u001b[39;49m\u001b[43m__nav\u001b[49m\u001b[38;5;241;43m.\u001b[39;49m\u001b[43msearch_publications\u001b[49m\u001b[43m(\u001b[49m\u001b[43murl\u001b[49m\u001b[43m)\u001b[49m\n",
      "File \u001b[1;32m~\\AppData\\Local\\Programs\\Python\\Python310\\lib\\site-packages\\scholarly\\_navigator.py:296\u001b[0m, in \u001b[0;36mNavigator.search_publications\u001b[1;34m(self, url)\u001b[0m\n\u001b[0;32m    288\u001b[0m \u001b[38;5;28;01mdef\u001b[39;00m \u001b[38;5;21msearch_publications\u001b[39m(\u001b[38;5;28mself\u001b[39m, url: \u001b[38;5;28mstr\u001b[39m) \u001b[38;5;241m-\u001b[39m\u001b[38;5;241m>\u001b[39m _SearchScholarIterator:\n\u001b[0;32m    289\u001b[0m \u001b[38;5;250m    \u001b[39m\u001b[38;5;124;03m\"\"\"Returns a Publication Generator given a url\u001b[39;00m\n\u001b[0;32m    290\u001b[0m \n\u001b[0;32m    291\u001b[0m \u001b[38;5;124;03m    :param url: the url where publications can be found.\u001b[39;00m\n\u001b[1;32m   (...)\u001b[0m\n\u001b[0;32m    294\u001b[0m \u001b[38;5;124;03m    :rtype: {_SearchScholarIterator}\u001b[39;00m\n\u001b[0;32m    295\u001b[0m \u001b[38;5;124;03m    \"\"\"\u001b[39;00m\n\u001b[1;32m--> 296\u001b[0m     \u001b[38;5;28;01mreturn\u001b[39;00m \u001b[43m_SearchScholarIterator\u001b[49m\u001b[43m(\u001b[49m\u001b[38;5;28;43mself\u001b[39;49m\u001b[43m,\u001b[49m\u001b[43m \u001b[49m\u001b[43murl\u001b[49m\u001b[43m)\u001b[49m\n",
      "File \u001b[1;32m~\\AppData\\Local\\Programs\\Python\\Python310\\lib\\site-packages\\scholarly\\publication_parser.py:53\u001b[0m, in \u001b[0;36m_SearchScholarIterator.__init__\u001b[1;34m(self, nav, url)\u001b[0m\n\u001b[0;32m     51\u001b[0m \u001b[38;5;28mself\u001b[39m\u001b[38;5;241m.\u001b[39m_pubtype \u001b[38;5;241m=\u001b[39m PublicationSource\u001b[38;5;241m.\u001b[39mPUBLICATION_SEARCH_SNIPPET \u001b[38;5;28;01mif\u001b[39;00m \u001b[38;5;124m\"\u001b[39m\u001b[38;5;124m/scholar?\u001b[39m\u001b[38;5;124m\"\u001b[39m \u001b[38;5;129;01min\u001b[39;00m url \u001b[38;5;28;01melse\u001b[39;00m PublicationSource\u001b[38;5;241m.\u001b[39mJOURNAL_CITATION_LIST\n\u001b[0;32m     52\u001b[0m \u001b[38;5;28mself\u001b[39m\u001b[38;5;241m.\u001b[39m_nav \u001b[38;5;241m=\u001b[39m nav\n\u001b[1;32m---> 53\u001b[0m \u001b[38;5;28;43mself\u001b[39;49m\u001b[38;5;241;43m.\u001b[39;49m\u001b[43m_load_url\u001b[49m\u001b[43m(\u001b[49m\u001b[43murl\u001b[49m\u001b[43m)\u001b[49m\n\u001b[0;32m     54\u001b[0m \u001b[38;5;28mself\u001b[39m\u001b[38;5;241m.\u001b[39mtotal_results \u001b[38;5;241m=\u001b[39m \u001b[38;5;28mself\u001b[39m\u001b[38;5;241m.\u001b[39m_get_total_results()\n\u001b[0;32m     55\u001b[0m \u001b[38;5;28mself\u001b[39m\u001b[38;5;241m.\u001b[39mpub_parser \u001b[38;5;241m=\u001b[39m PublicationParser(\u001b[38;5;28mself\u001b[39m\u001b[38;5;241m.\u001b[39m_nav)\n",
      "File \u001b[1;32m~\\AppData\\Local\\Programs\\Python\\Python310\\lib\\site-packages\\scholarly\\publication_parser.py:59\u001b[0m, in \u001b[0;36m_SearchScholarIterator._load_url\u001b[1;34m(self, url)\u001b[0m\n\u001b[0;32m     57\u001b[0m \u001b[38;5;28;01mdef\u001b[39;00m \u001b[38;5;21m_load_url\u001b[39m(\u001b[38;5;28mself\u001b[39m, url: \u001b[38;5;28mstr\u001b[39m):\n\u001b[0;32m     58\u001b[0m     \u001b[38;5;66;03m# this is temporary until setup json file\u001b[39;00m\n\u001b[1;32m---> 59\u001b[0m     \u001b[38;5;28mself\u001b[39m\u001b[38;5;241m.\u001b[39m_soup \u001b[38;5;241m=\u001b[39m \u001b[38;5;28;43mself\u001b[39;49m\u001b[38;5;241;43m.\u001b[39;49m\u001b[43m_nav\u001b[49m\u001b[38;5;241;43m.\u001b[39;49m\u001b[43m_get_soup\u001b[49m\u001b[43m(\u001b[49m\u001b[43murl\u001b[49m\u001b[43m)\u001b[49m\n\u001b[0;32m     60\u001b[0m     \u001b[38;5;28mself\u001b[39m\u001b[38;5;241m.\u001b[39m_pos \u001b[38;5;241m=\u001b[39m \u001b[38;5;241m0\u001b[39m\n\u001b[0;32m     61\u001b[0m     \u001b[38;5;28mself\u001b[39m\u001b[38;5;241m.\u001b[39m_rows \u001b[38;5;241m=\u001b[39m \u001b[38;5;28mself\u001b[39m\u001b[38;5;241m.\u001b[39m_soup\u001b[38;5;241m.\u001b[39mfind_all(\u001b[38;5;124m'\u001b[39m\u001b[38;5;124mdiv\u001b[39m\u001b[38;5;124m'\u001b[39m, class_\u001b[38;5;241m=\u001b[39m\u001b[38;5;124m'\u001b[39m\u001b[38;5;124mgs_r gs_or gs_scl\u001b[39m\u001b[38;5;124m'\u001b[39m) \u001b[38;5;241m+\u001b[39m \u001b[38;5;28mself\u001b[39m\u001b[38;5;241m.\u001b[39m_soup\u001b[38;5;241m.\u001b[39mfind_all(\u001b[38;5;124m'\u001b[39m\u001b[38;5;124mdiv\u001b[39m\u001b[38;5;124m'\u001b[39m, class_\u001b[38;5;241m=\u001b[39m\u001b[38;5;124m'\u001b[39m\u001b[38;5;124mgsc_mpat_ttl\u001b[39m\u001b[38;5;124m'\u001b[39m)\n",
      "File \u001b[1;32m~\\AppData\\Local\\Programs\\Python\\Python310\\lib\\site-packages\\scholarly\\_navigator.py:239\u001b[0m, in \u001b[0;36mNavigator._get_soup\u001b[1;34m(self, url)\u001b[0m\n\u001b[0;32m    237\u001b[0m \u001b[38;5;28;01mdef\u001b[39;00m \u001b[38;5;21m_get_soup\u001b[39m(\u001b[38;5;28mself\u001b[39m, url: \u001b[38;5;28mstr\u001b[39m) \u001b[38;5;241m-\u001b[39m\u001b[38;5;241m>\u001b[39m BeautifulSoup:\n\u001b[0;32m    238\u001b[0m \u001b[38;5;250m    \u001b[39m\u001b[38;5;124;03m\"\"\"Return the BeautifulSoup for a page on scholar.google.com\"\"\"\u001b[39;00m\n\u001b[1;32m--> 239\u001b[0m     html \u001b[38;5;241m=\u001b[39m \u001b[38;5;28;43mself\u001b[39;49m\u001b[38;5;241;43m.\u001b[39;49m\u001b[43m_get_page\u001b[49m\u001b[43m(\u001b[49m\u001b[38;5;124;43m'\u001b[39;49m\u001b[38;5;124;43mhttps://scholar.google.com\u001b[39;49m\u001b[38;5;132;43;01m{0}\u001b[39;49;00m\u001b[38;5;124;43m'\u001b[39;49m\u001b[38;5;241;43m.\u001b[39;49m\u001b[43mformat\u001b[49m\u001b[43m(\u001b[49m\u001b[43murl\u001b[49m\u001b[43m)\u001b[49m\u001b[43m)\u001b[49m\n\u001b[0;32m    240\u001b[0m     html \u001b[38;5;241m=\u001b[39m html\u001b[38;5;241m.\u001b[39mreplace(\u001b[38;5;124mu\u001b[39m\u001b[38;5;124m'\u001b[39m\u001b[38;5;130;01m\\xa0\u001b[39;00m\u001b[38;5;124m'\u001b[39m, \u001b[38;5;124mu\u001b[39m\u001b[38;5;124m'\u001b[39m\u001b[38;5;124m \u001b[39m\u001b[38;5;124m'\u001b[39m)\n\u001b[0;32m    241\u001b[0m     res \u001b[38;5;241m=\u001b[39m BeautifulSoup(html, \u001b[38;5;124m'\u001b[39m\u001b[38;5;124mhtml.parser\u001b[39m\u001b[38;5;124m'\u001b[39m)\n",
      "File \u001b[1;32m~\\AppData\\Local\\Programs\\Python\\Python310\\lib\\site-packages\\scholarly\\_navigator.py:190\u001b[0m, in \u001b[0;36mNavigator._get_page\u001b[1;34m(self, pagerequest, premium)\u001b[0m\n\u001b[0;32m    188\u001b[0m     \u001b[38;5;28;01mreturn\u001b[39;00m \u001b[38;5;28mself\u001b[39m\u001b[38;5;241m.\u001b[39m_get_page(pagerequest, \u001b[38;5;28;01mTrue\u001b[39;00m)\n\u001b[0;32m    189\u001b[0m \u001b[38;5;28;01melse\u001b[39;00m:\n\u001b[1;32m--> 190\u001b[0m     \u001b[38;5;28;01mraise\u001b[39;00m MaxTriesExceededException(\u001b[38;5;124m\"\u001b[39m\u001b[38;5;124mCannot Fetch from Google Scholar.\u001b[39m\u001b[38;5;124m\"\u001b[39m)\n",
      "\u001b[1;31mMaxTriesExceededException\u001b[0m: Cannot Fetch from Google Scholar."
     ]
    }
   ],
   "source": [
    "result = scholarly.search_pubs(\"10.1016/j.cie.2022.108659\")\n",
    "x = next(result)"
   ]
  },
  {
   "cell_type": "code",
   "execution_count": null,
   "id": "ff16209c",
   "metadata": {},
   "outputs": [],
   "source": [
    "titles_and_abstracts = pd.DataFrame(columns=[\"Title\", \"Abstract\"])\n",
    "failed_titles = []\n",
    "failed_count = 0\n",
    "success_count = 0\n",
    "for title in dois['DOI']:\n",
    "    #pg = ProxyGenerator()\n",
    "    #pg.FreeProxies()\n",
    "    #scholarly.use_proxy(pg)\n",
    "    results = scholarly.search_pubs(title)\n",
    "    try:\n",
    "        result = next(results)\n",
    "    except StopIteration:\n",
    "        failed_titles.append(title)\n",
    "        failed_count = failed_count + 1\n",
    "        print(\"gotcha:\" + str(failed_count))\n",
    "        continue\n",
    "    success_count = success_count + 1\n",
    "    print(\"success: \" + str(success_count))\n",
    "    new_row = {\"Title\": result['bib']['title'], \"Abstract\": result['bib']['abstract']}\n",
    "    titles_and_abstracts = titles_and_abstracts.append(new_row, ignore_index=True)"
   ]
  },
  {
   "cell_type": "code",
   "execution_count": null,
   "id": "b4cbef84",
   "metadata": {},
   "outputs": [],
   "source": []
  }
 ],
 "metadata": {
  "kernelspec": {
   "display_name": "Python 3 (ipykernel)",
   "language": "python",
   "name": "python3"
  },
  "language_info": {
   "codemirror_mode": {
    "name": "ipython",
    "version": 3
   },
   "file_extension": ".py",
   "mimetype": "text/x-python",
   "name": "python",
   "nbconvert_exporter": "python",
   "pygments_lexer": "ipython3",
   "version": "3.10.3"
  }
 },
 "nbformat": 4,
 "nbformat_minor": 5
}
