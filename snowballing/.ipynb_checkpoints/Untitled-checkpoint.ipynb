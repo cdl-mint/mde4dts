{
 "cells": [
  {
   "cell_type": "code",
   "execution_count": 2,
   "id": "6eeffd1e",
   "metadata": {},
   "outputs": [],
   "source": [
    "import pandas as pd"
   ]
  },
  {
   "cell_type": "code",
   "execution_count": 3,
   "id": "fad89a35",
   "metadata": {},
   "outputs": [],
   "source": [
    "titles = pd.read_csv(\"snowballing_merged.csv\", sep=\";\", encoding=\"latin-1\")"
   ]
  },
  {
   "cell_type": "code",
   "execution_count": 4,
   "id": "ba574d5b",
   "metadata": {},
   "outputs": [],
   "source": [
    "titles_unique = titles[\"Title\"].unique()"
   ]
  },
  {
   "cell_type": "code",
   "execution_count": 5,
   "id": "5ee423b8",
   "metadata": {},
   "outputs": [],
   "source": [
    "titles = pd.DataFrame(titles_unique, columns=[\"Title\"])"
   ]
  },
  {
   "cell_type": "code",
   "execution_count": 6,
   "id": "97b84e01",
   "metadata": {},
   "outputs": [
    {
     "data": {
      "text/html": [
       "<div>\n",
       "<style scoped>\n",
       "    .dataframe tbody tr th:only-of-type {\n",
       "        vertical-align: middle;\n",
       "    }\n",
       "\n",
       "    .dataframe tbody tr th {\n",
       "        vertical-align: top;\n",
       "    }\n",
       "\n",
       "    .dataframe thead th {\n",
       "        text-align: right;\n",
       "    }\n",
       "</style>\n",
       "<table border=\"1\" class=\"dataframe\">\n",
       "  <thead>\n",
       "    <tr style=\"text-align: right;\">\n",
       "      <th></th>\n",
       "      <th>Title</th>\n",
       "    </tr>\n",
       "  </thead>\n",
       "  <tbody>\n",
       "    <tr>\n",
       "      <th>0</th>\n",
       "      <td>A Catalog of Design Patterns for Compositional...</td>\n",
       "    </tr>\n",
       "    <tr>\n",
       "      <th>1</th>\n",
       "      <td>A conceptual framework for smart production pl...</td>\n",
       "    </tr>\n",
       "    <tr>\n",
       "      <th>2</th>\n",
       "      <td>A conceptual model for digital shadows in indu...</td>\n",
       "    </tr>\n",
       "    <tr>\n",
       "      <th>3</th>\n",
       "      <td>A Conceptual Model for Digital Shadows in Indu...</td>\n",
       "    </tr>\n",
       "    <tr>\n",
       "      <th>4</th>\n",
       "      <td>A Cost--Benefit Analysis Simulation for the Di...</td>\n",
       "    </tr>\n",
       "    <tr>\n",
       "      <th>...</th>\n",
       "      <td>...</td>\n",
       "    </tr>\n",
       "    <tr>\n",
       "      <th>1274</th>\n",
       "      <td>The ADOxx metamodeling platform</td>\n",
       "    </tr>\n",
       "    <tr>\n",
       "      <th>1275</th>\n",
       "      <td>A Survey of Modeling Language Specification Te...</td>\n",
       "    </tr>\n",
       "    <tr>\n",
       "      <th>1276</th>\n",
       "      <td>GmbH The AdoScript Programming Language</td>\n",
       "    </tr>\n",
       "    <tr>\n",
       "      <th>1277</th>\n",
       "      <td>The DJITelloPy Python Library</td>\n",
       "    </tr>\n",
       "    <tr>\n",
       "      <th>1278</th>\n",
       "      <td>The Physics of notations: towards a scientific...</td>\n",
       "    </tr>\n",
       "  </tbody>\n",
       "</table>\n",
       "<p>1279 rows × 1 columns</p>\n",
       "</div>"
      ],
      "text/plain": [
       "                                                  Title\n",
       "0     A Catalog of Design Patterns for Compositional...\n",
       "1     A conceptual framework for smart production pl...\n",
       "2     A conceptual model for digital shadows in indu...\n",
       "3     A Conceptual Model for Digital Shadows in Indu...\n",
       "4     A Cost--Benefit Analysis Simulation for the Di...\n",
       "...                                                 ...\n",
       "1274                    The ADOxx metamodeling platform\n",
       "1275  A Survey of Modeling Language Specification Te...\n",
       "1276            GmbH The AdoScript Programming Language\n",
       "1277                      The DJITelloPy Python Library\n",
       "1278  The Physics of notations: towards a scientific...\n",
       "\n",
       "[1279 rows x 1 columns]"
      ]
     },
     "execution_count": 6,
     "metadata": {},
     "output_type": "execute_result"
    }
   ],
   "source": [
    "titles"
   ]
  },
  {
   "cell_type": "code",
   "execution_count": null,
   "id": "88a31609",
   "metadata": {},
   "outputs": [],
   "source": []
  }
 ],
 "metadata": {
  "kernelspec": {
   "display_name": "Python 3 (ipykernel)",
   "language": "python",
   "name": "python3"
  },
  "language_info": {
   "codemirror_mode": {
    "name": "ipython",
    "version": 3
   },
   "file_extension": ".py",
   "mimetype": "text/x-python",
   "name": "python",
   "nbconvert_exporter": "python",
   "pygments_lexer": "ipython3",
   "version": "3.10.3"
  }
 },
 "nbformat": 4,
 "nbformat_minor": 5
}
