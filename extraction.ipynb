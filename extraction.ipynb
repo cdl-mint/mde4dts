{
 "cells": [
  {
   "cell_type": "code",
   "execution_count": 1,
   "id": "9d62bf49",
   "metadata": {},
   "outputs": [],
   "source": [
    "import pandas as pd"
   ]
  },
  {
   "cell_type": "markdown",
   "id": "526ee9ff",
   "metadata": {},
   "source": [
    "# Extraction based on Title + Abstract"
   ]
  },
  {
   "cell_type": "code",
   "execution_count": 2,
   "id": "04742feb",
   "metadata": {},
   "outputs": [],
   "source": [
    "titles_all = pd.read_csv(\"./data/titles_all.csv\", sep=\";\", header=None)\n",
    "#titles_all  = titles_all[titles_all[titles_all[0]].notnull().all(1)]\n",
    "titles_all = titles_all.drop_duplicates()\n",
    "extracted_title_abstract = pd.read_csv(\"./data/titles_metadata_after_abstract.csv\", sep=\";\")"
   ]
  },
  {
   "cell_type": "code",
   "execution_count": 95,
   "id": "b2d0e8bf",
   "metadata": {},
   "outputs": [
    {
     "name": "stdout",
     "output_type": "stream",
     "text": [
      "112\n",
      "77\n"
     ]
    }
   ],
   "source": [
    "print(len(titles_all))\n",
    "print(len(extracted_title_abstract))"
   ]
  },
  {
   "cell_type": "markdown",
   "id": "aafbafba",
   "metadata": {},
   "source": [
    "# Extraction based on Paper contents"
   ]
  },
  {
   "cell_type": "code",
   "execution_count": 17,
   "id": "d932116e",
   "metadata": {},
   "outputs": [],
   "source": [
    "#title_abstract = pd.read_csv(\"./data/extraction_titleabstract_merged.csv\", sep=\";\")\n",
    "paper_daniel = pd.read_csv(\"./data/extraction_paper_daniel.csv\", sep=\";\")\n",
    "paper_daniel = paper_daniel[paper_daniel[['Title']].notnull().all(1)]\n",
    "paper_daniel = paper_daniel.drop_duplicates(subset=\"Title\")\n",
    "paper_daniel[\"Reason\"] = paper_daniel[\"Reason\"].fillna(\"OK\")\n",
    "paper_jerome = pd.read_csv(\"./data/extraction_paper_jerome.csv\", sep=\";\")\n",
    "paper_jerome = paper_jerome[paper_jerome[['Title']].notnull().all(1)]\n",
    "paper_jerome = paper_jerome.drop_duplicates(subset=\"Title\")\n",
    "paper_jerome[\"Reason\"] = paper_jerome[\"Reason\"].fillna(\"OK\")\n",
    "paper_jingxi = pd.read_csv(\"./data/extraction_paper_jingxi.csv\", sep=\";\")\n",
    "paper_jingxi  = paper_jingxi[paper_jingxi[['Title']].notnull().all(1)]\n",
    "paper_jingxi = paper_jingxi.drop_duplicates(subset=\"Title\")\n",
    "paper_jingxi[\"Reason\"] = paper_jingxi[\"Reason\"].fillna(\"OK\")\n",
    "paper_ann = pd.read_csv(\"./data/extraction_paper_ann.csv\", sep=\";\")\n",
    "paper_ann = paper_ann[paper_ann[['Title']].notnull().all(1)]\n",
    "paper_ann = paper_ann.drop_duplicates(subset=\"Title\")\n",
    "paper_ann[\"Reason\"] = paper_ann[\"Reason\"].fillna(\"OK\")"
   ]
  },
  {
   "cell_type": "code",
   "execution_count": 21,
   "id": "1ded77b3",
   "metadata": {
    "scrolled": true
   },
   "outputs": [
    {
     "data": {
      "text/html": [
       "<div>\n",
       "<style scoped>\n",
       "    .dataframe tbody tr th:only-of-type {\n",
       "        vertical-align: middle;\n",
       "    }\n",
       "\n",
       "    .dataframe tbody tr th {\n",
       "        vertical-align: top;\n",
       "    }\n",
       "\n",
       "    .dataframe thead th {\n",
       "        text-align: right;\n",
       "    }\n",
       "</style>\n",
       "<table border=\"1\" class=\"dataframe\">\n",
       "  <thead>\n",
       "    <tr style=\"text-align: right;\">\n",
       "      <th></th>\n",
       "      <th>Title</th>\n",
       "      <th>Reason Jerome</th>\n",
       "      <th>Reason Daniel</th>\n",
       "      <th>Reason Jingxi</th>\n",
       "      <th>Reason Ann</th>\n",
       "    </tr>\n",
       "  </thead>\n",
       "  <tbody>\n",
       "    <tr>\n",
       "      <th>0</th>\n",
       "      <td>Model-Driven Digital Twin Construction: Synthe...</td>\n",
       "      <td>OK</td>\n",
       "      <td>OK</td>\n",
       "      <td>OK</td>\n",
       "      <td>OK</td>\n",
       "    </tr>\n",
       "    <tr>\n",
       "      <th>1</th>\n",
       "      <td>Measuring the Fidelity of Digital Twin Systems</td>\n",
       "      <td>Challenge/Position Paper</td>\n",
       "      <td>Challenge/Position Paper</td>\n",
       "      <td>NaN</td>\n",
       "      <td>Challenge/Position Paper</td>\n",
       "    </tr>\n",
       "    <tr>\n",
       "      <th>2</th>\n",
       "      <td>Digital Twin as Risk-Free Experimentation Aid ...</td>\n",
       "      <td>No MDE technique used</td>\n",
       "      <td>No MDE technique used</td>\n",
       "      <td>NaN</td>\n",
       "      <td>No MDE technique used</td>\n",
       "    </tr>\n",
       "    <tr>\n",
       "      <th>3</th>\n",
       "      <td>Using Trace Alignments for Measuring the Simil...</td>\n",
       "      <td>No Model used</td>\n",
       "      <td>OK</td>\n",
       "      <td>NaN</td>\n",
       "      <td>No Model used</td>\n",
       "    </tr>\n",
       "    <tr>\n",
       "      <th>4</th>\n",
       "      <td>Towards a Digital Twin for Cyber-Physical Prod...</td>\n",
       "      <td>OK</td>\n",
       "      <td>No MDE technique used</td>\n",
       "      <td>NaN</td>\n",
       "      <td>OK</td>\n",
       "    </tr>\n",
       "    <tr>\n",
       "      <th>...</th>\n",
       "      <td>...</td>\n",
       "      <td>...</td>\n",
       "      <td>...</td>\n",
       "      <td>...</td>\n",
       "      <td>...</td>\n",
       "    </tr>\n",
       "    <tr>\n",
       "      <th>72</th>\n",
       "      <td>Enabling Semantic Interoperability of Asset Ad...</td>\n",
       "      <td>NaN</td>\n",
       "      <td>NaN</td>\n",
       "      <td>OK</td>\n",
       "      <td>OK</td>\n",
       "    </tr>\n",
       "    <tr>\n",
       "      <th>73</th>\n",
       "      <td>Challenges and Possible Approaches for Sustain...</td>\n",
       "      <td>NaN</td>\n",
       "      <td>NaN</td>\n",
       "      <td>Challenge/Position Paper</td>\n",
       "      <td>Challenge/Position Paper</td>\n",
       "    </tr>\n",
       "    <tr>\n",
       "      <th>74</th>\n",
       "      <td>Coordination and Explanation of Reconfiguratio...</td>\n",
       "      <td>NaN</td>\n",
       "      <td>NaN</td>\n",
       "      <td>Challenge/Position Paper</td>\n",
       "      <td>Challenge/Position Paper</td>\n",
       "    </tr>\n",
       "    <tr>\n",
       "      <th>75</th>\n",
       "      <td>Case Study on Automated and Continuous Reliabi...</td>\n",
       "      <td>NaN</td>\n",
       "      <td>NaN</td>\n",
       "      <td>Challenge/Position Paper</td>\n",
       "      <td>OK</td>\n",
       "    </tr>\n",
       "    <tr>\n",
       "      <th>76</th>\n",
       "      <td>Integration of SysML Models in a 3D Environmen...</td>\n",
       "      <td>NaN</td>\n",
       "      <td>NaN</td>\n",
       "      <td>OK</td>\n",
       "      <td>OK</td>\n",
       "    </tr>\n",
       "  </tbody>\n",
       "</table>\n",
       "<p>77 rows × 5 columns</p>\n",
       "</div>"
      ],
      "text/plain": [
       "                                                Title  \\\n",
       "0   Model-Driven Digital Twin Construction: Synthe...   \n",
       "1      Measuring the Fidelity of Digital Twin Systems   \n",
       "2   Digital Twin as Risk-Free Experimentation Aid ...   \n",
       "3   Using Trace Alignments for Measuring the Simil...   \n",
       "4   Towards a Digital Twin for Cyber-Physical Prod...   \n",
       "..                                                ...   \n",
       "72  Enabling Semantic Interoperability of Asset Ad...   \n",
       "73  Challenges and Possible Approaches for Sustain...   \n",
       "74  Coordination and Explanation of Reconfiguratio...   \n",
       "75  Case Study on Automated and Continuous Reliabi...   \n",
       "76  Integration of SysML Models in a 3D Environmen...   \n",
       "\n",
       "               Reason Jerome             Reason Daniel  \\\n",
       "0                         OK                        OK   \n",
       "1   Challenge/Position Paper  Challenge/Position Paper   \n",
       "2      No MDE technique used     No MDE technique used   \n",
       "3              No Model used                        OK   \n",
       "4                         OK     No MDE technique used   \n",
       "..                       ...                       ...   \n",
       "72                       NaN                       NaN   \n",
       "73                       NaN                       NaN   \n",
       "74                       NaN                       NaN   \n",
       "75                       NaN                       NaN   \n",
       "76                       NaN                       NaN   \n",
       "\n",
       "               Reason Jingxi                Reason Ann  \n",
       "0                         OK                        OK  \n",
       "1                        NaN  Challenge/Position Paper  \n",
       "2                        NaN     No MDE technique used  \n",
       "3                        NaN             No Model used  \n",
       "4                        NaN                        OK  \n",
       "..                       ...                       ...  \n",
       "72                        OK                        OK  \n",
       "73  Challenge/Position Paper  Challenge/Position Paper  \n",
       "74  Challenge/Position Paper  Challenge/Position Paper  \n",
       "75  Challenge/Position Paper                        OK  \n",
       "76                        OK                        OK  \n",
       "\n",
       "[77 rows x 5 columns]"
      ]
     },
     "execution_count": 21,
     "metadata": {},
     "output_type": "execute_result"
    }
   ],
   "source": [
    "paper_merged = paper_jerome.merge(paper_daniel, how='outer', on='Title')\n",
    "paper_merged = paper_merged.merge(paper_jingxi, how='outer', on='Title')\n",
    "paper_merged = paper_merged.rename(columns={\"Reason_x\": \"Reason Jerome\", \"Reason_y\": \"Reason Daniel\", \"Reason\": \"Reason Jingxi\"})\n",
    "paper_merged = paper_merged.merge(paper_ann, how='outer', on='Title')\n",
    "paper_merged = paper_merged.rename(columns={\"Reason\": \"Reason Ann\"})\n",
    "paper_merged"
   ]
  },
  {
   "cell_type": "code",
   "execution_count": null,
   "id": "a2bf1ba0",
   "metadata": {},
   "outputs": [],
   "source": []
  },
  {
   "cell_type": "code",
   "execution_count": 22,
   "id": "49b68d67",
   "metadata": {},
   "outputs": [],
   "source": [
    "# paper_merged.to_csv(\"./data/extraction_merged.csv\", sep=\";\")"
   ]
  },
  {
   "cell_type": "code",
   "execution_count": 3,
   "id": "df7f356e",
   "metadata": {},
   "outputs": [],
   "source": [
    "paper_cleaned = pd.read_csv(\"./data/extraction_merged.csv\", sep=\";\")"
   ]
  },
  {
   "cell_type": "code",
   "execution_count": 4,
   "id": "7b1109eb",
   "metadata": {},
   "outputs": [],
   "source": [
    "paper_cleaned.head()\n",
    "paper_cleaned['Reason_Consolidated'].value_counts()\n",
    "paper_ok = paper_cleaned[paper_cleaned['Reason_Consolidated'] == 'OK']\n",
    "paper_ok = paper_ok[\"Title\"]"
   ]
  },
  {
   "cell_type": "markdown",
   "id": "864b1a5c",
   "metadata": {},
   "source": [
    "# Collect extracted data for remaining papers"
   ]
  },
  {
   "cell_type": "code",
   "execution_count": 3,
   "id": "32b3d35d",
   "metadata": {},
   "outputs": [],
   "source": [
    "data_jingxi = pd.read_csv(\"./data/data_jingxi.csv\", sep=\";\", encoding=\"latin-1\")\n",
    "data_jingxi = data_jingxi[data_jingxi[['Title']].notnull().all(1)]\n",
    "data_jingxi[\"Reviewer\"] = \"Jingxi\"\n",
    "data_daniel = pd.read_csv(\"./data/data_daniel.csv\", sep=\";\", encoding=\"latin-1\")\n",
    "data_daniel = data_daniel[data_daniel[['Title']].notnull().all(1)]\n",
    "data_daniel[\"Reviewer\"] = \"Daniel\"\n",
    "data_jerome = pd.read_csv(\"./data/data_jerome.csv\", sep=\";\", encoding=\"latin-1\")\n",
    "data_jerome = data_jerome[data_jerome[['Title']].notnull().all(1)]\n",
    "data_jerome[\"Reviewer\"] = \"Jerome\"\n",
    "data_ann = pd.read_csv(\"./data/data_ann.csv\", sep=\";\", encoding=\"latin-1\")\n",
    "data_ann = data_ann[data_ann[['Title']].notnull().all(1)]\n",
    "data_ann[\"Reviewer\"] = \"Ann\""
   ]
  },
  {
   "cell_type": "code",
   "execution_count": 4,
   "id": "f8dbc2f6",
   "metadata": {},
   "outputs": [],
   "source": [
    "# this creates series of titles for all intersections of reviewers\n",
    "titles = pd.DataFrame()\n",
    "titles_daniel_jerome_ann = set(data_jerome[\"Title\"]).intersection(set(data_daniel[\"Title\"]))\n",
    "titles_daniel_jerome_ann = titles_daniel_jerome_ann.intersection(set(data_ann[\"Title\"]))\n",
    "titles_daniel_jerome_ann = pd.Series(list(titles_daniel_jerome_ann))   \n",
    "titles[\"Daniel, Jerome, Ann\"] = titles_daniel_jerome_ann\n",
    "titles_jingxi_jerome_ann = set(data_jingxi[\"Title\"]).intersection(set(data_jerome[\"Title\"]))\n",
    "titles_jingxi_jerome_ann = titles_jingxi_jerome_ann.intersection(set(data_ann[\"Title\"]))\n",
    "titles_jingxi_jerome_ann = pd.Series(list(titles_jingxi_jerome_ann))  \n",
    "titles[\"Jingxi, Jerome, Ann\"] = titles_jingxi_jerome_ann\n",
    "titles_daniel_jingxi_ann = set(data_daniel[\"Title\"]).intersection(set(data_jingxi[\"Title\"]))\n",
    "titles_daniel_jingxi_ann = titles_daniel_jingxi_ann.intersection(set(data_ann[\"Title\"]))\n",
    "titles_daniel_jingxi_ann = pd.Series(list(titles_daniel_jingxi_ann))  \n",
    "titles[\"Daniel, Jingxi, Ann\"] = titles_daniel_jingxi_ann\n",
    "titles_daniel_jingxi_jerome = set(data_daniel[\"Title\"]).intersection(set(data_jingxi[\"Title\"]))\n",
    "titles_daniel_jingxi_jerome = titles_daniel_jingxi_jerome.intersection(set(data_jerome[\"Title\"]))\n",
    "titles_daniel_jingxi_jerome = pd.Series(list(titles_daniel_jingxi_jerome))  \n",
    "titles[\"Daniel, Jingxi, Jerome\"] = titles_daniel_jingxi_jerome\n",
    "#titles.to_csv(\"./data/title_intersections.csv\", sep=\";\")\n"
   ]
  },
  {
   "cell_type": "code",
   "execution_count": 6,
   "id": "ce80958c",
   "metadata": {},
   "outputs": [],
   "source": [
    "# data_merged = merge of full extraction data\n",
    "data_merged = pd.concat([data_jingxi, data_daniel, data_jerome, data_ann])\n",
    "#data_merged.to_csv(\"./data/data_merged.csv\", sep=\";\")"
   ]
  },
  {
   "cell_type": "code",
   "execution_count": 30,
   "id": "ece9212a",
   "metadata": {
    "scrolled": false
   },
   "outputs": [
    {
     "name": "stdout",
     "output_type": "stream",
     "text": [
      "                                                Title\n",
      "0   Digital Twin as Risk-Free Experimentation Aid ...\n",
      "1   Model-Driven Development of a Digital Twin for...\n",
      "2   Towards a Digital Twin for Cyber-Physical Prod...\n",
      "3   Interface Management with Closed-Loop Systems ...\n",
      "4   Generating customized low-code development pla...\n",
      "5   Generating Digital Twin Cockpits for Parameter...\n",
      "6   Digital Twin Enables Rational Design of Ultrah...\n",
      "7   Using Trace Alignments for Measuring the Simil...\n",
      "8   A framework for Model-Driven Engineering of re...\n",
      "9   Meta-model-based shop-floor digital twin archi...\n",
      "10  Modular Fault Ascription and Corrective Mainte...\n",
      "11  Model-Driven Digital Twin Construction: Synthe...\n",
      "12  3D crowdsourced parametric cadastral mapping: ...\n",
      "13  A data-model fusion dispatch strategy for the ...\n",
      "14  The Framework for Designing Autonomous Cyber-P...\n",
      "15     Measuring the Fidelity of Digital Twin Systems\n",
      "(78, 35)\n"
     ]
    }
   ],
   "source": [
    "# now join the reviewer intersections with the actual data...\n",
    "titles_daniel_jerome_ann.name = \"Title\"\n",
    "data_daniel_jerome_ann = titles_daniel_jerome_ann.to_frame().merge(data_merged, how='left', on='Title')\n",
    "print(titles_daniel_jerome_ann.to_frame())\n",
    "print(data_daniel_jerome_ann.shape)\n",
    "#data_merged.to_csv(\"./data/data_daniel_jerome_ann.csv\", sep=\";\")"
   ]
  },
  {
   "cell_type": "code",
   "execution_count": 5,
   "id": "6f28cb66",
   "metadata": {},
   "outputs": [],
   "source": [
    "# double-check that no paper was missed during consolidation\n",
    "paper_consolidated = pd.read_csv(\"./data/extraction consolidation results.csv\", sep=\";\")"
   ]
  },
  {
   "cell_type": "code",
   "execution_count": 10,
   "id": "3f7bd84f",
   "metadata": {},
   "outputs": [
    {
     "data": {
      "text/plain": [
       "52    A pattern catalog for augmenting Digital Twin ...\n",
       "62    A Lightweight Model-driven MES Simulation Fram...\n",
       "Name: Title, dtype: object"
      ]
     },
     "execution_count": 10,
     "metadata": {},
     "output_type": "execute_result"
    }
   ],
   "source": [
    "paper_ok[~paper_ok.isin(paper_consolidated[\"Title\"])]"
   ]
  },
  {
   "cell_type": "code",
   "execution_count": 30,
   "id": "487058b9",
   "metadata": {
    "scrolled": true
   },
   "outputs": [
    {
     "data": {
      "text/html": [
       "<div>\n",
       "<style scoped>\n",
       "    .dataframe tbody tr th:only-of-type {\n",
       "        vertical-align: middle;\n",
       "    }\n",
       "\n",
       "    .dataframe tbody tr th {\n",
       "        vertical-align: top;\n",
       "    }\n",
       "\n",
       "    .dataframe thead th {\n",
       "        text-align: right;\n",
       "    }\n",
       "</style>\n",
       "<table border=\"1\" class=\"dataframe\">\n",
       "  <thead>\n",
       "    <tr style=\"text-align: right;\">\n",
       "      <th></th>\n",
       "      <th>Publication Type</th>\n",
       "      <th>Authors</th>\n",
       "      <th>Author Full Names</th>\n",
       "      <th>Article Title</th>\n",
       "      <th>Source Title</th>\n",
       "      <th>Document Type</th>\n",
       "      <th>Conference Title</th>\n",
       "      <th>Conference Date</th>\n",
       "      <th>Conference Location</th>\n",
       "      <th>Keywords Plus</th>\n",
       "      <th>Abstract</th>\n",
       "    </tr>\n",
       "  </thead>\n",
       "  <tbody>\n",
       "    <tr>\n",
       "      <th>0</th>\n",
       "      <td>C</td>\n",
       "      <td>Bordeleau, F; Cleophas, L; Combemale, B; Eramo...</td>\n",
       "      <td>Bordeleau, Francis; Cleophas, Loek; Combemale,...</td>\n",
       "      <td>MoDDiT 2021: 1st International Workshop on Mod...</td>\n",
       "      <td>24TH ACM/IEEE INTERNATIONAL CONFERENCE ON MODE...</td>\n",
       "      <td>Proceedings Paper</td>\n",
       "      <td>24th International ACM/IEEE Conference on Mode...</td>\n",
       "      <td>OCT 10-15, 2021</td>\n",
       "      <td>ELECTR NETWORK</td>\n",
       "      <td>NaN</td>\n",
       "      <td>Digital twins (DT) are emerging and gaining at...</td>\n",
       "    </tr>\n",
       "    <tr>\n",
       "      <th>1</th>\n",
       "      <td>C</td>\n",
       "      <td>Dalibor, M; Michael, J; Rumpe, B; Varga, S; Wo...</td>\n",
       "      <td>Dalibor, Manuela; Michael, Judith; Rumpe, Bern...</td>\n",
       "      <td>Towards a Model-Driven Architecture for Intera...</td>\n",
       "      <td>CONCEPTUAL MODELING, ER 2020</td>\n",
       "      <td>Proceedings Paper</td>\n",
       "      <td>39th International Conference on Conceptual Mo...</td>\n",
       "      <td>NOV 03-06, 2020</td>\n",
       "      <td>Vienna, AUSTRIA</td>\n",
       "      <td>NaN</td>\n",
       "      <td>Digital twins promise tremendous potential to ...</td>\n",
       "    </tr>\n",
       "    <tr>\n",
       "      <th>2</th>\n",
       "      <td>S</td>\n",
       "      <td>Michael, J; Wortmann, A</td>\n",
       "      <td>Michael, Judith; Wortmann, Andreas</td>\n",
       "      <td>Towards Development Platforms for Digital Twin...</td>\n",
       "      <td>ADVANCES IN PRODUCTION MANAGEMENT SYSTEMS: ART...</td>\n",
       "      <td>Article; Proceedings Paper</td>\n",
       "      <td>International-Federation-of-Information-Proces...</td>\n",
       "      <td>SEP 05-09, 2021</td>\n",
       "      <td>ELECTR NETWORK</td>\n",
       "      <td>NaN</td>\n",
       "      <td>Digital Twins in smart manufacturing must be h...</td>\n",
       "    </tr>\n",
       "    <tr>\n",
       "      <th>3</th>\n",
       "      <td>C</td>\n",
       "      <td>Brockhoff, T; Heithoff, M; Koren, I; Michael, ...</td>\n",
       "      <td>Brockhoff, Tobias; Heithoff, Malte; Koren, Ist...</td>\n",
       "      <td>Process Prediction with Digital Twins</td>\n",
       "      <td>24TH ACM/IEEE INTERNATIONAL CONFERENCE ON MODE...</td>\n",
       "      <td>Proceedings Paper</td>\n",
       "      <td>24th International ACM/IEEE Conference on Mode...</td>\n",
       "      <td>OCT 10-15, 2021</td>\n",
       "      <td>ELECTR NETWORK</td>\n",
       "      <td>NaN</td>\n",
       "      <td>Process discovery from event logs as well as p...</td>\n",
       "    </tr>\n",
       "    <tr>\n",
       "      <th>4</th>\n",
       "      <td>C</td>\n",
       "      <td>Lehner, D; Sint, S; Vierhauser, M; Narzt, W; W...</td>\n",
       "      <td>Lehner, Daniel; Sint, Sabine; Vierhauser, Mich...</td>\n",
       "      <td>AML4DT: A Model-Driven Framework for Developin...</td>\n",
       "      <td>2021 26TH IEEE INTERNATIONAL CONFERENCE ON EME...</td>\n",
       "      <td>Proceedings Paper</td>\n",
       "      <td>26th IEEE International Conference on Emerging...</td>\n",
       "      <td>SEP 07-10, 2021</td>\n",
       "      <td>ELECTR NETWORK</td>\n",
       "      <td>NaN</td>\n",
       "      <td>As technologies such as the Internet of Things...</td>\n",
       "    </tr>\n",
       "  </tbody>\n",
       "</table>\n",
       "</div>"
      ],
      "text/plain": [
       "  Publication Type                                            Authors  \\\n",
       "0                C  Bordeleau, F; Cleophas, L; Combemale, B; Eramo...   \n",
       "1                C  Dalibor, M; Michael, J; Rumpe, B; Varga, S; Wo...   \n",
       "2                S                            Michael, J; Wortmann, A   \n",
       "3                C  Brockhoff, T; Heithoff, M; Koren, I; Michael, ...   \n",
       "4                C  Lehner, D; Sint, S; Vierhauser, M; Narzt, W; W...   \n",
       "\n",
       "                                   Author Full Names  \\\n",
       "0  Bordeleau, Francis; Cleophas, Loek; Combemale,...   \n",
       "1  Dalibor, Manuela; Michael, Judith; Rumpe, Bern...   \n",
       "2                 Michael, Judith; Wortmann, Andreas   \n",
       "3  Brockhoff, Tobias; Heithoff, Malte; Koren, Ist...   \n",
       "4  Lehner, Daniel; Sint, Sabine; Vierhauser, Mich...   \n",
       "\n",
       "                                       Article Title  \\\n",
       "0  MoDDiT 2021: 1st International Workshop on Mod...   \n",
       "1  Towards a Model-Driven Architecture for Intera...   \n",
       "2  Towards Development Platforms for Digital Twin...   \n",
       "3              Process Prediction with Digital Twins   \n",
       "4  AML4DT: A Model-Driven Framework for Developin...   \n",
       "\n",
       "                                        Source Title  \\\n",
       "0  24TH ACM/IEEE INTERNATIONAL CONFERENCE ON MODE...   \n",
       "1                       CONCEPTUAL MODELING, ER 2020   \n",
       "2  ADVANCES IN PRODUCTION MANAGEMENT SYSTEMS: ART...   \n",
       "3  24TH ACM/IEEE INTERNATIONAL CONFERENCE ON MODE...   \n",
       "4  2021 26TH IEEE INTERNATIONAL CONFERENCE ON EME...   \n",
       "\n",
       "                Document Type  \\\n",
       "0           Proceedings Paper   \n",
       "1           Proceedings Paper   \n",
       "2  Article; Proceedings Paper   \n",
       "3           Proceedings Paper   \n",
       "4           Proceedings Paper   \n",
       "\n",
       "                                    Conference Title  Conference Date  \\\n",
       "0  24th International ACM/IEEE Conference on Mode...  OCT 10-15, 2021   \n",
       "1  39th International Conference on Conceptual Mo...  NOV 03-06, 2020   \n",
       "2  International-Federation-of-Information-Proces...  SEP 05-09, 2021   \n",
       "3  24th International ACM/IEEE Conference on Mode...  OCT 10-15, 2021   \n",
       "4  26th IEEE International Conference on Emerging...  SEP 07-10, 2021   \n",
       "\n",
       "  Conference Location  Keywords Plus  \\\n",
       "0      ELECTR NETWORK            NaN   \n",
       "1     Vienna, AUSTRIA            NaN   \n",
       "2      ELECTR NETWORK            NaN   \n",
       "3      ELECTR NETWORK            NaN   \n",
       "4      ELECTR NETWORK            NaN   \n",
       "\n",
       "                                            Abstract  \n",
       "0  Digital twins (DT) are emerging and gaining at...  \n",
       "1  Digital twins promise tremendous potential to ...  \n",
       "2  Digital Twins in smart manufacturing must be h...  \n",
       "3  Process discovery from event logs as well as p...  \n",
       "4  As technologies such as the Internet of Things...  "
      ]
     },
     "execution_count": 30,
     "metadata": {},
     "output_type": "execute_result"
    }
   ],
   "source": [
    "search_results_initial = pd.read_csv(\"./data/search_results.csv\", sep=\";\", encoding=\"latin-1\")\n",
    "search_results_wos = pd.read_csv(\"./data/search results wos 2.csv\", sep=\";\", encoding=\"latin-1\")\n",
    "search_results_wos.head()"
   ]
  },
  {
   "cell_type": "code",
   "execution_count": 31,
   "id": "0f859590",
   "metadata": {},
   "outputs": [],
   "source": [
    "diff = search_results_wos[\"Article Title\"][~search_results_wos[\"Article Title\"].isin(search_results_initial[\"Title\"])]"
   ]
  },
  {
   "cell_type": "code",
   "execution_count": 32,
   "id": "5d66cbdc",
   "metadata": {},
   "outputs": [],
   "source": [
    "diff_metadata = search_results_wos.merge(diff, how='right', on='Article Title')"
   ]
  },
  {
   "cell_type": "code",
   "execution_count": 34,
   "id": "5cbf41eb",
   "metadata": {},
   "outputs": [],
   "source": [
    "diff_metadata.to_csv(\"diff_meta.csv\", sep=\";\")"
   ]
  },
  {
   "cell_type": "code",
   "execution_count": 35,
   "id": "698216b4",
   "metadata": {},
   "outputs": [
    {
     "data": {
      "text/plain": [
       "(25,)"
      ]
     },
     "execution_count": 35,
     "metadata": {},
     "output_type": "execute_result"
    }
   ],
   "source": [
    "diff.shape"
   ]
  },
  {
   "cell_type": "code",
   "execution_count": null,
   "id": "7cc3de0c",
   "metadata": {},
   "outputs": [],
   "source": []
  }
 ],
 "metadata": {
  "kernelspec": {
   "display_name": "Python 3 (ipykernel)",
   "language": "python",
   "name": "python3"
  },
  "language_info": {
   "codemirror_mode": {
    "name": "ipython",
    "version": 3
   },
   "file_extension": ".py",
   "mimetype": "text/x-python",
   "name": "python",
   "nbconvert_exporter": "python",
   "pygments_lexer": "ipython3",
   "version": "3.10.3"
  }
 },
 "nbformat": 4,
 "nbformat_minor": 5
}
