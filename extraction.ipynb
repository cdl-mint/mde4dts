{
 "cells": [
  {
   "cell_type": "code",
   "execution_count": 2,
   "id": "9d62bf49",
   "metadata": {},
   "outputs": [],
   "source": [
    "import pandas as pd"
   ]
  },
  {
   "cell_type": "markdown",
   "id": "526ee9ff",
   "metadata": {},
   "source": [
    "# Extraction based on Title + Abstract"
   ]
  },
  {
   "cell_type": "code",
   "execution_count": 94,
   "id": "04742feb",
   "metadata": {},
   "outputs": [],
   "source": [
    "titles_all = pd.read_csv(\"./data/titles_all.csv\", sep=\";\", header=None)\n",
    "#titles_all  = titles_all[titles_all[titles_all[0]].notnull().all(1)]\n",
    "titles_all = titles_all.drop_duplicates()\n",
    "extracted_title_abstract = pd.read_csv(\"./data/titles_metadata_after_abstract.csv\", sep=\";\")"
   ]
  },
  {
   "cell_type": "code",
   "execution_count": 95,
   "id": "b2d0e8bf",
   "metadata": {},
   "outputs": [
    {
     "name": "stdout",
     "output_type": "stream",
     "text": [
      "112\n",
      "77\n"
     ]
    }
   ],
   "source": [
    "print(len(titles_all))\n",
    "print(len(extracted_title_abstract))"
   ]
  },
  {
   "cell_type": "markdown",
   "id": "aafbafba",
   "metadata": {},
   "source": [
    "# Extraction based on Paper contents"
   ]
  },
  {
   "cell_type": "code",
   "execution_count": 17,
   "id": "d932116e",
   "metadata": {},
   "outputs": [],
   "source": [
    "#title_abstract = pd.read_csv(\"./data/extraction_titleabstract_merged.csv\", sep=\";\")\n",
    "paper_daniel = pd.read_csv(\"./data/extraction_paper_daniel.csv\", sep=\";\")\n",
    "paper_daniel = paper_daniel[paper_daniel[['Title']].notnull().all(1)]\n",
    "paper_daniel = paper_daniel.drop_duplicates(subset=\"Title\")\n",
    "paper_daniel[\"Reason\"] = paper_daniel[\"Reason\"].fillna(\"OK\")\n",
    "paper_jerome = pd.read_csv(\"./data/extraction_paper_jerome.csv\", sep=\";\")\n",
    "paper_jerome = paper_jerome[paper_jerome[['Title']].notnull().all(1)]\n",
    "paper_jerome = paper_jerome.drop_duplicates(subset=\"Title\")\n",
    "paper_jerome[\"Reason\"] = paper_jerome[\"Reason\"].fillna(\"OK\")\n",
    "paper_jingxi = pd.read_csv(\"./data/extraction_paper_jingxi.csv\", sep=\";\")\n",
    "paper_jingxi  = paper_jingxi[paper_jingxi[['Title']].notnull().all(1)]\n",
    "paper_jingxi = paper_jingxi.drop_duplicates(subset=\"Title\")\n",
    "paper_jingxi[\"Reason\"] = paper_jingxi[\"Reason\"].fillna(\"OK\")\n",
    "paper_ann = pd.read_csv(\"./data/extraction_paper_ann.csv\", sep=\";\")\n",
    "paper_ann = paper_ann[paper_ann[['Title']].notnull().all(1)]\n",
    "paper_ann = paper_ann.drop_duplicates(subset=\"Title\")\n",
    "paper_ann[\"Reason\"] = paper_ann[\"Reason\"].fillna(\"OK\")"
   ]
  },
  {
   "cell_type": "code",
   "execution_count": 21,
   "id": "1ded77b3",
   "metadata": {
    "scrolled": true
   },
   "outputs": [
    {
     "data": {
      "text/html": [
       "<div>\n",
       "<style scoped>\n",
       "    .dataframe tbody tr th:only-of-type {\n",
       "        vertical-align: middle;\n",
       "    }\n",
       "\n",
       "    .dataframe tbody tr th {\n",
       "        vertical-align: top;\n",
       "    }\n",
       "\n",
       "    .dataframe thead th {\n",
       "        text-align: right;\n",
       "    }\n",
       "</style>\n",
       "<table border=\"1\" class=\"dataframe\">\n",
       "  <thead>\n",
       "    <tr style=\"text-align: right;\">\n",
       "      <th></th>\n",
       "      <th>Title</th>\n",
       "      <th>Reason Jerome</th>\n",
       "      <th>Reason Daniel</th>\n",
       "      <th>Reason Jingxi</th>\n",
       "      <th>Reason Ann</th>\n",
       "    </tr>\n",
       "  </thead>\n",
       "  <tbody>\n",
       "    <tr>\n",
       "      <th>0</th>\n",
       "      <td>Model-Driven Digital Twin Construction: Synthe...</td>\n",
       "      <td>OK</td>\n",
       "      <td>OK</td>\n",
       "      <td>OK</td>\n",
       "      <td>OK</td>\n",
       "    </tr>\n",
       "    <tr>\n",
       "      <th>1</th>\n",
       "      <td>Measuring the Fidelity of Digital Twin Systems</td>\n",
       "      <td>Challenge/Position Paper</td>\n",
       "      <td>Challenge/Position Paper</td>\n",
       "      <td>NaN</td>\n",
       "      <td>Challenge/Position Paper</td>\n",
       "    </tr>\n",
       "    <tr>\n",
       "      <th>2</th>\n",
       "      <td>Digital Twin as Risk-Free Experimentation Aid ...</td>\n",
       "      <td>No MDE technique used</td>\n",
       "      <td>No MDE technique used</td>\n",
       "      <td>NaN</td>\n",
       "      <td>No MDE technique used</td>\n",
       "    </tr>\n",
       "    <tr>\n",
       "      <th>3</th>\n",
       "      <td>Using Trace Alignments for Measuring the Simil...</td>\n",
       "      <td>No Model used</td>\n",
       "      <td>OK</td>\n",
       "      <td>NaN</td>\n",
       "      <td>No Model used</td>\n",
       "    </tr>\n",
       "    <tr>\n",
       "      <th>4</th>\n",
       "      <td>Towards a Digital Twin for Cyber-Physical Prod...</td>\n",
       "      <td>OK</td>\n",
       "      <td>No MDE technique used</td>\n",
       "      <td>NaN</td>\n",
       "      <td>OK</td>\n",
       "    </tr>\n",
       "    <tr>\n",
       "      <th>...</th>\n",
       "      <td>...</td>\n",
       "      <td>...</td>\n",
       "      <td>...</td>\n",
       "      <td>...</td>\n",
       "      <td>...</td>\n",
       "    </tr>\n",
       "    <tr>\n",
       "      <th>72</th>\n",
       "      <td>Enabling Semantic Interoperability of Asset Ad...</td>\n",
       "      <td>NaN</td>\n",
       "      <td>NaN</td>\n",
       "      <td>OK</td>\n",
       "      <td>OK</td>\n",
       "    </tr>\n",
       "    <tr>\n",
       "      <th>73</th>\n",
       "      <td>Challenges and Possible Approaches for Sustain...</td>\n",
       "      <td>NaN</td>\n",
       "      <td>NaN</td>\n",
       "      <td>Challenge/Position Paper</td>\n",
       "      <td>Challenge/Position Paper</td>\n",
       "    </tr>\n",
       "    <tr>\n",
       "      <th>74</th>\n",
       "      <td>Coordination and Explanation of Reconfiguratio...</td>\n",
       "      <td>NaN</td>\n",
       "      <td>NaN</td>\n",
       "      <td>Challenge/Position Paper</td>\n",
       "      <td>Challenge/Position Paper</td>\n",
       "    </tr>\n",
       "    <tr>\n",
       "      <th>75</th>\n",
       "      <td>Case Study on Automated and Continuous Reliabi...</td>\n",
       "      <td>NaN</td>\n",
       "      <td>NaN</td>\n",
       "      <td>Challenge/Position Paper</td>\n",
       "      <td>OK</td>\n",
       "    </tr>\n",
       "    <tr>\n",
       "      <th>76</th>\n",
       "      <td>Integration of SysML Models in a 3D Environmen...</td>\n",
       "      <td>NaN</td>\n",
       "      <td>NaN</td>\n",
       "      <td>OK</td>\n",
       "      <td>OK</td>\n",
       "    </tr>\n",
       "  </tbody>\n",
       "</table>\n",
       "<p>77 rows × 5 columns</p>\n",
       "</div>"
      ],
      "text/plain": [
       "                                                Title  \\\n",
       "0   Model-Driven Digital Twin Construction: Synthe...   \n",
       "1      Measuring the Fidelity of Digital Twin Systems   \n",
       "2   Digital Twin as Risk-Free Experimentation Aid ...   \n",
       "3   Using Trace Alignments for Measuring the Simil...   \n",
       "4   Towards a Digital Twin for Cyber-Physical Prod...   \n",
       "..                                                ...   \n",
       "72  Enabling Semantic Interoperability of Asset Ad...   \n",
       "73  Challenges and Possible Approaches for Sustain...   \n",
       "74  Coordination and Explanation of Reconfiguratio...   \n",
       "75  Case Study on Automated and Continuous Reliabi...   \n",
       "76  Integration of SysML Models in a 3D Environmen...   \n",
       "\n",
       "               Reason Jerome             Reason Daniel  \\\n",
       "0                         OK                        OK   \n",
       "1   Challenge/Position Paper  Challenge/Position Paper   \n",
       "2      No MDE technique used     No MDE technique used   \n",
       "3              No Model used                        OK   \n",
       "4                         OK     No MDE technique used   \n",
       "..                       ...                       ...   \n",
       "72                       NaN                       NaN   \n",
       "73                       NaN                       NaN   \n",
       "74                       NaN                       NaN   \n",
       "75                       NaN                       NaN   \n",
       "76                       NaN                       NaN   \n",
       "\n",
       "               Reason Jingxi                Reason Ann  \n",
       "0                         OK                        OK  \n",
       "1                        NaN  Challenge/Position Paper  \n",
       "2                        NaN     No MDE technique used  \n",
       "3                        NaN             No Model used  \n",
       "4                        NaN                        OK  \n",
       "..                       ...                       ...  \n",
       "72                        OK                        OK  \n",
       "73  Challenge/Position Paper  Challenge/Position Paper  \n",
       "74  Challenge/Position Paper  Challenge/Position Paper  \n",
       "75  Challenge/Position Paper                        OK  \n",
       "76                        OK                        OK  \n",
       "\n",
       "[77 rows x 5 columns]"
      ]
     },
     "execution_count": 21,
     "metadata": {},
     "output_type": "execute_result"
    }
   ],
   "source": [
    "paper_merged = paper_jerome.merge(paper_daniel, how='outer', on='Title')\n",
    "paper_merged = paper_merged.merge(paper_jingxi, how='outer', on='Title')\n",
    "paper_merged = paper_merged.rename(columns={\"Reason_x\": \"Reason Jerome\", \"Reason_y\": \"Reason Daniel\", \"Reason\": \"Reason Jingxi\"})\n",
    "paper_merged = paper_merged.merge(paper_ann, how='outer', on='Title')\n",
    "paper_merged = paper_merged.rename(columns={\"Reason\": \"Reason Ann\"})\n",
    "paper_merged"
   ]
  },
  {
   "cell_type": "code",
   "execution_count": null,
   "id": "a2bf1ba0",
   "metadata": {},
   "outputs": [],
   "source": []
  },
  {
   "cell_type": "code",
   "execution_count": 22,
   "id": "49b68d67",
   "metadata": {},
   "outputs": [],
   "source": [
    "# paper_merged.to_csv(\"./data/extraction_merged.csv\", sep=\";\")"
   ]
  },
  {
   "cell_type": "code",
   "execution_count": 3,
   "id": "df7f356e",
   "metadata": {},
   "outputs": [],
   "source": [
    "paper_cleaned = pd.read_csv(\"./data/extraction_merged.csv\", sep=\";\")"
   ]
  },
  {
   "cell_type": "code",
   "execution_count": 4,
   "id": "7b1109eb",
   "metadata": {},
   "outputs": [],
   "source": [
    "paper_cleaned.head()\n",
    "paper_cleaned['Reason_Consolidated'].value_counts()\n",
    "paper_ok = paper_cleaned[paper_cleaned['Reason_Consolidated'] == 'OK']\n",
    "paper_ok = paper_ok[\"Title\"]"
   ]
  },
  {
   "cell_type": "markdown",
   "id": "864b1a5c",
   "metadata": {},
   "source": [
    "# Collect extracted data for remaining papers"
   ]
  },
  {
   "cell_type": "code",
   "execution_count": 3,
   "id": "32b3d35d",
   "metadata": {},
   "outputs": [],
   "source": [
    "data_jingxi = pd.read_csv(\"./data/data_jingxi.csv\", sep=\";\", encoding=\"latin-1\")\n",
    "data_jingxi = data_jingxi[data_jingxi[['Title']].notnull().all(1)]\n",
    "data_jingxi[\"Reviewer\"] = \"Jingxi\"\n",
    "data_daniel = pd.read_csv(\"./data/data_daniel.csv\", sep=\";\", encoding=\"latin-1\")\n",
    "data_daniel = data_daniel[data_daniel[['Title']].notnull().all(1)]\n",
    "data_daniel[\"Reviewer\"] = \"Daniel\"\n",
    "data_jerome = pd.read_csv(\"./data/data_jerome.csv\", sep=\";\", encoding=\"latin-1\")\n",
    "data_jerome = data_jerome[data_jerome[['Title']].notnull().all(1)]\n",
    "data_jerome[\"Reviewer\"] = \"Jerome\"\n",
    "data_ann = pd.read_csv(\"./data/data_ann.csv\", sep=\";\", encoding=\"latin-1\")\n",
    "data_ann = data_ann[data_ann[['Title']].notnull().all(1)]\n",
    "data_ann[\"Reviewer\"] = \"Ann\""
   ]
  },
  {
   "cell_type": "code",
   "execution_count": 4,
   "id": "f8dbc2f6",
   "metadata": {},
   "outputs": [],
   "source": [
    "# this creates series of titles for all intersections of reviewers\n",
    "titles = pd.DataFrame()\n",
    "titles_daniel_jerome_ann = set(data_jerome[\"Title\"]).intersection(set(data_daniel[\"Title\"]))\n",
    "titles_daniel_jerome_ann = titles_daniel_jerome_ann.intersection(set(data_ann[\"Title\"]))\n",
    "titles_daniel_jerome_ann = pd.Series(list(titles_daniel_jerome_ann))   \n",
    "titles[\"Daniel, Jerome, Ann\"] = titles_daniel_jerome_ann\n",
    "titles_jingxi_jerome_ann = set(data_jingxi[\"Title\"]).intersection(set(data_jerome[\"Title\"]))\n",
    "titles_jingxi_jerome_ann = titles_jingxi_jerome_ann.intersection(set(data_ann[\"Title\"]))\n",
    "titles_jingxi_jerome_ann = pd.Series(list(titles_jingxi_jerome_ann))  \n",
    "titles[\"Jingxi, Jerome, Ann\"] = titles_jingxi_jerome_ann\n",
    "titles_daniel_jingxi_ann = set(data_daniel[\"Title\"]).intersection(set(data_jingxi[\"Title\"]))\n",
    "titles_daniel_jingxi_ann = titles_daniel_jingxi_ann.intersection(set(data_ann[\"Title\"]))\n",
    "titles_daniel_jingxi_ann = pd.Series(list(titles_daniel_jingxi_ann))  \n",
    "titles[\"Daniel, Jingxi, Ann\"] = titles_daniel_jingxi_ann\n",
    "titles_daniel_jingxi_jerome = set(data_daniel[\"Title\"]).intersection(set(data_jingxi[\"Title\"]))\n",
    "titles_daniel_jingxi_jerome = titles_daniel_jingxi_jerome.intersection(set(data_jerome[\"Title\"]))\n",
    "titles_daniel_jingxi_jerome = pd.Series(list(titles_daniel_jingxi_jerome))  \n",
    "titles[\"Daniel, Jingxi, Jerome\"] = titles_daniel_jingxi_jerome\n",
    "#titles.to_csv(\"./data/title_intersections.csv\", sep=\";\")\n"
   ]
  },
  {
   "cell_type": "code",
   "execution_count": 6,
   "id": "ce80958c",
   "metadata": {},
   "outputs": [],
   "source": [
    "# data_merged = merge of full extraction data\n",
    "data_merged = pd.concat([data_jingxi, data_daniel, data_jerome, data_ann])\n",
    "#data_merged.to_csv(\"./data/data_merged.csv\", sep=\";\")"
   ]
  },
  {
   "cell_type": "code",
   "execution_count": 30,
   "id": "ece9212a",
   "metadata": {
    "scrolled": false
   },
   "outputs": [
    {
     "name": "stdout",
     "output_type": "stream",
     "text": [
      "                                                Title\n",
      "0   Digital Twin as Risk-Free Experimentation Aid ...\n",
      "1   Model-Driven Development of a Digital Twin for...\n",
      "2   Towards a Digital Twin for Cyber-Physical Prod...\n",
      "3   Interface Management with Closed-Loop Systems ...\n",
      "4   Generating customized low-code development pla...\n",
      "5   Generating Digital Twin Cockpits for Parameter...\n",
      "6   Digital Twin Enables Rational Design of Ultrah...\n",
      "7   Using Trace Alignments for Measuring the Simil...\n",
      "8   A framework for Model-Driven Engineering of re...\n",
      "9   Meta-model-based shop-floor digital twin archi...\n",
      "10  Modular Fault Ascription and Corrective Mainte...\n",
      "11  Model-Driven Digital Twin Construction: Synthe...\n",
      "12  3D crowdsourced parametric cadastral mapping: ...\n",
      "13  A data-model fusion dispatch strategy for the ...\n",
      "14  The Framework for Designing Autonomous Cyber-P...\n",
      "15     Measuring the Fidelity of Digital Twin Systems\n",
      "(78, 35)\n"
     ]
    }
   ],
   "source": [
    "# now join the reviewer intersections with the actual data...\n",
    "titles_daniel_jerome_ann.name = \"Title\"\n",
    "data_daniel_jerome_ann = titles_daniel_jerome_ann.to_frame().merge(data_merged, how='left', on='Title')\n",
    "print(titles_daniel_jerome_ann.to_frame())\n",
    "print(data_daniel_jerome_ann.shape)\n",
    "#data_merged.to_csv(\"./data/data_daniel_jerome_ann.csv\", sep=\";\")"
   ]
  },
  {
   "cell_type": "code",
   "execution_count": 5,
   "id": "6f28cb66",
   "metadata": {},
   "outputs": [],
   "source": [
    "# double-check that no paper was missed during consolidation\n",
    "paper_consolidated = pd.read_csv(\"./data/extraction consolidation results.csv\", sep=\";\")"
   ]
  },
  {
   "cell_type": "code",
   "execution_count": 15,
   "id": "3f7bd84f",
   "metadata": {},
   "outputs": [],
   "source": [
    "paper_ok[~paper_ok.isin(paper_consolidated[\"Title\"])].to_csv(\"missing.csv\", sep=\";\")"
   ]
  },
  {
   "cell_type": "code",
   "execution_count": null,
   "id": "487058b9",
   "metadata": {},
   "outputs": [],
   "source": []
  }
 ],
 "metadata": {
  "kernelspec": {
   "display_name": "Python 3 (ipykernel)",
   "language": "python",
   "name": "python3"
  },
  "language_info": {
   "codemirror_mode": {
    "name": "ipython",
    "version": 3
   },
   "file_extension": ".py",
   "mimetype": "text/x-python",
   "name": "python",
   "nbconvert_exporter": "python",
   "pygments_lexer": "ipython3",
   "version": "3.10.3"
  }
 },
 "nbformat": 4,
 "nbformat_minor": 5
}
