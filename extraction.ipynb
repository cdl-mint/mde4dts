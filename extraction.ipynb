{
 "cells": [
  {
   "cell_type": "code",
   "execution_count": 2,
   "id": "9d62bf49",
   "metadata": {},
   "outputs": [],
   "source": [
    "import pandas as pd"
   ]
  },
  {
   "cell_type": "markdown",
   "id": "526ee9ff",
   "metadata": {},
   "source": [
    "# Extraction based on Title + Abstract"
   ]
  },
  {
   "cell_type": "code",
   "execution_count": 2,
   "id": "04742feb",
   "metadata": {},
   "outputs": [],
   "source": [
    "titles_all = pd.read_csv(\"./data/titles_all.csv\", sep=\";\", header=None)\n",
    "#titles_all  = titles_all[titles_all[titles_all[0]].notnull().all(1)]\n",
    "titles_all = titles_all.drop_duplicates()\n",
    "extracted_title_abstract = pd.read_csv(\"./data/titles_metadata_after_abstract.csv\", sep=\";\")"
   ]
  },
  {
   "cell_type": "code",
   "execution_count": 95,
   "id": "b2d0e8bf",
   "metadata": {},
   "outputs": [
    {
     "name": "stdout",
     "output_type": "stream",
     "text": [
      "112\n",
      "77\n"
     ]
    }
   ],
   "source": [
    "print(len(titles_all))\n",
    "print(len(extracted_title_abstract))"
   ]
  },
  {
   "cell_type": "markdown",
   "id": "aafbafba",
   "metadata": {},
   "source": [
    "# Extraction based on Paper contents"
   ]
  },
  {
   "cell_type": "code",
   "execution_count": 17,
   "id": "d932116e",
   "metadata": {},
   "outputs": [],
   "source": [
    "#title_abstract = pd.read_csv(\"./data/extraction_titleabstract_merged.csv\", sep=\";\")\n",
    "paper_daniel = pd.read_csv(\"./data/extraction_paper_daniel.csv\", sep=\";\")\n",
    "paper_daniel = paper_daniel[paper_daniel[['Title']].notnull().all(1)]\n",
    "paper_daniel = paper_daniel.drop_duplicates(subset=\"Title\")\n",
    "paper_daniel[\"Reason\"] = paper_daniel[\"Reason\"].fillna(\"OK\")\n",
    "paper_jerome = pd.read_csv(\"./data/extraction_paper_jerome.csv\", sep=\";\")\n",
    "paper_jerome = paper_jerome[paper_jerome[['Title']].notnull().all(1)]\n",
    "paper_jerome = paper_jerome.drop_duplicates(subset=\"Title\")\n",
    "paper_jerome[\"Reason\"] = paper_jerome[\"Reason\"].fillna(\"OK\")\n",
    "paper_jingxi = pd.read_csv(\"./data/extraction_paper_jingxi.csv\", sep=\";\")\n",
    "paper_jingxi  = paper_jingxi[paper_jingxi[['Title']].notnull().all(1)]\n",
    "paper_jingxi = paper_jingxi.drop_duplicates(subset=\"Title\")\n",
    "paper_jingxi[\"Reason\"] = paper_jingxi[\"Reason\"].fillna(\"OK\")\n",
    "paper_ann = pd.read_csv(\"./data/extraction_paper_ann.csv\", sep=\";\")\n",
    "paper_ann = paper_ann[paper_ann[['Title']].notnull().all(1)]\n",
    "paper_ann = paper_ann.drop_duplicates(subset=\"Title\")\n",
    "paper_ann[\"Reason\"] = paper_ann[\"Reason\"].fillna(\"OK\")"
   ]
  },
  {
   "cell_type": "code",
   "execution_count": 21,
   "id": "1ded77b3",
   "metadata": {
    "scrolled": true
   },
   "outputs": [
    {
     "data": {
      "text/html": [
       "<div>\n",
       "<style scoped>\n",
       "    .dataframe tbody tr th:only-of-type {\n",
       "        vertical-align: middle;\n",
       "    }\n",
       "\n",
       "    .dataframe tbody tr th {\n",
       "        vertical-align: top;\n",
       "    }\n",
       "\n",
       "    .dataframe thead th {\n",
       "        text-align: right;\n",
       "    }\n",
       "</style>\n",
       "<table border=\"1\" class=\"dataframe\">\n",
       "  <thead>\n",
       "    <tr style=\"text-align: right;\">\n",
       "      <th></th>\n",
       "      <th>Title</th>\n",
       "      <th>Reason Jerome</th>\n",
       "      <th>Reason Daniel</th>\n",
       "      <th>Reason Jingxi</th>\n",
       "      <th>Reason Ann</th>\n",
       "    </tr>\n",
       "  </thead>\n",
       "  <tbody>\n",
       "    <tr>\n",
       "      <th>0</th>\n",
       "      <td>Model-Driven Digital Twin Construction: Synthe...</td>\n",
       "      <td>OK</td>\n",
       "      <td>OK</td>\n",
       "      <td>OK</td>\n",
       "      <td>OK</td>\n",
       "    </tr>\n",
       "    <tr>\n",
       "      <th>1</th>\n",
       "      <td>Measuring the Fidelity of Digital Twin Systems</td>\n",
       "      <td>Challenge/Position Paper</td>\n",
       "      <td>Challenge/Position Paper</td>\n",
       "      <td>NaN</td>\n",
       "      <td>Challenge/Position Paper</td>\n",
       "    </tr>\n",
       "    <tr>\n",
       "      <th>2</th>\n",
       "      <td>Digital Twin as Risk-Free Experimentation Aid ...</td>\n",
       "      <td>No MDE technique used</td>\n",
       "      <td>No MDE technique used</td>\n",
       "      <td>NaN</td>\n",
       "      <td>No MDE technique used</td>\n",
       "    </tr>\n",
       "    <tr>\n",
       "      <th>3</th>\n",
       "      <td>Using Trace Alignments for Measuring the Simil...</td>\n",
       "      <td>No Model used</td>\n",
       "      <td>OK</td>\n",
       "      <td>NaN</td>\n",
       "      <td>No Model used</td>\n",
       "    </tr>\n",
       "    <tr>\n",
       "      <th>4</th>\n",
       "      <td>Towards a Digital Twin for Cyber-Physical Prod...</td>\n",
       "      <td>OK</td>\n",
       "      <td>No MDE technique used</td>\n",
       "      <td>NaN</td>\n",
       "      <td>OK</td>\n",
       "    </tr>\n",
       "    <tr>\n",
       "      <th>...</th>\n",
       "      <td>...</td>\n",
       "      <td>...</td>\n",
       "      <td>...</td>\n",
       "      <td>...</td>\n",
       "      <td>...</td>\n",
       "    </tr>\n",
       "    <tr>\n",
       "      <th>72</th>\n",
       "      <td>Enabling Semantic Interoperability of Asset Ad...</td>\n",
       "      <td>NaN</td>\n",
       "      <td>NaN</td>\n",
       "      <td>OK</td>\n",
       "      <td>OK</td>\n",
       "    </tr>\n",
       "    <tr>\n",
       "      <th>73</th>\n",
       "      <td>Challenges and Possible Approaches for Sustain...</td>\n",
       "      <td>NaN</td>\n",
       "      <td>NaN</td>\n",
       "      <td>Challenge/Position Paper</td>\n",
       "      <td>Challenge/Position Paper</td>\n",
       "    </tr>\n",
       "    <tr>\n",
       "      <th>74</th>\n",
       "      <td>Coordination and Explanation of Reconfiguratio...</td>\n",
       "      <td>NaN</td>\n",
       "      <td>NaN</td>\n",
       "      <td>Challenge/Position Paper</td>\n",
       "      <td>Challenge/Position Paper</td>\n",
       "    </tr>\n",
       "    <tr>\n",
       "      <th>75</th>\n",
       "      <td>Case Study on Automated and Continuous Reliabi...</td>\n",
       "      <td>NaN</td>\n",
       "      <td>NaN</td>\n",
       "      <td>Challenge/Position Paper</td>\n",
       "      <td>OK</td>\n",
       "    </tr>\n",
       "    <tr>\n",
       "      <th>76</th>\n",
       "      <td>Integration of SysML Models in a 3D Environmen...</td>\n",
       "      <td>NaN</td>\n",
       "      <td>NaN</td>\n",
       "      <td>OK</td>\n",
       "      <td>OK</td>\n",
       "    </tr>\n",
       "  </tbody>\n",
       "</table>\n",
       "<p>77 rows × 5 columns</p>\n",
       "</div>"
      ],
      "text/plain": [
       "                                                Title  \\\n",
       "0   Model-Driven Digital Twin Construction: Synthe...   \n",
       "1      Measuring the Fidelity of Digital Twin Systems   \n",
       "2   Digital Twin as Risk-Free Experimentation Aid ...   \n",
       "3   Using Trace Alignments for Measuring the Simil...   \n",
       "4   Towards a Digital Twin for Cyber-Physical Prod...   \n",
       "..                                                ...   \n",
       "72  Enabling Semantic Interoperability of Asset Ad...   \n",
       "73  Challenges and Possible Approaches for Sustain...   \n",
       "74  Coordination and Explanation of Reconfiguratio...   \n",
       "75  Case Study on Automated and Continuous Reliabi...   \n",
       "76  Integration of SysML Models in a 3D Environmen...   \n",
       "\n",
       "               Reason Jerome             Reason Daniel  \\\n",
       "0                         OK                        OK   \n",
       "1   Challenge/Position Paper  Challenge/Position Paper   \n",
       "2      No MDE technique used     No MDE technique used   \n",
       "3              No Model used                        OK   \n",
       "4                         OK     No MDE technique used   \n",
       "..                       ...                       ...   \n",
       "72                       NaN                       NaN   \n",
       "73                       NaN                       NaN   \n",
       "74                       NaN                       NaN   \n",
       "75                       NaN                       NaN   \n",
       "76                       NaN                       NaN   \n",
       "\n",
       "               Reason Jingxi                Reason Ann  \n",
       "0                         OK                        OK  \n",
       "1                        NaN  Challenge/Position Paper  \n",
       "2                        NaN     No MDE technique used  \n",
       "3                        NaN             No Model used  \n",
       "4                        NaN                        OK  \n",
       "..                       ...                       ...  \n",
       "72                        OK                        OK  \n",
       "73  Challenge/Position Paper  Challenge/Position Paper  \n",
       "74  Challenge/Position Paper  Challenge/Position Paper  \n",
       "75  Challenge/Position Paper                        OK  \n",
       "76                        OK                        OK  \n",
       "\n",
       "[77 rows x 5 columns]"
      ]
     },
     "execution_count": 21,
     "metadata": {},
     "output_type": "execute_result"
    }
   ],
   "source": [
    "paper_merged = paper_jerome.merge(paper_daniel, how='outer', on='Title')\n",
    "paper_merged = paper_merged.merge(paper_jingxi, how='outer', on='Title')\n",
    "paper_merged = paper_merged.rename(columns={\"Reason_x\": \"Reason Jerome\", \"Reason_y\": \"Reason Daniel\", \"Reason\": \"Reason Jingxi\"})\n",
    "paper_merged = paper_merged.merge(paper_ann, how='outer', on='Title')\n",
    "paper_merged = paper_merged.rename(columns={\"Reason\": \"Reason Ann\"})\n",
    "paper_merged"
   ]
  },
  {
   "cell_type": "code",
   "execution_count": null,
   "id": "a2bf1ba0",
   "metadata": {},
   "outputs": [],
   "source": []
  },
  {
   "cell_type": "code",
   "execution_count": 22,
   "id": "49b68d67",
   "metadata": {},
   "outputs": [],
   "source": [
    "# paper_merged.to_csv(\"./data/extraction_merged.csv\", sep=\";\")"
   ]
  },
  {
   "cell_type": "code",
   "execution_count": 3,
   "id": "df7f356e",
   "metadata": {},
   "outputs": [],
   "source": [
    "paper_cleaned = pd.read_csv(\"./data/extraction_merged.csv\", sep=\";\")"
   ]
  },
  {
   "cell_type": "code",
   "execution_count": 4,
   "id": "7b1109eb",
   "metadata": {},
   "outputs": [],
   "source": [
    "paper_cleaned.head()\n",
    "paper_cleaned['Reason_Consolidated'].value_counts()\n",
    "paper_ok = paper_cleaned[paper_cleaned['Reason_Consolidated'] == 'OK']\n",
    "paper_ok = paper_ok[\"Title\"]"
   ]
  },
  {
   "cell_type": "markdown",
   "id": "864b1a5c",
   "metadata": {},
   "source": [
    "# Collect extracted data for remaining papers"
   ]
  },
  {
   "cell_type": "code",
   "execution_count": 3,
   "id": "32b3d35d",
   "metadata": {},
   "outputs": [],
   "source": [
    "data_jingxi = pd.read_csv(\"./data/data_jingxi.csv\", sep=\";\", encoding=\"latin-1\")\n",
    "data_jingxi = data_jingxi[data_jingxi[['Title']].notnull().all(1)]\n",
    "data_jingxi[\"Reviewer\"] = \"Jingxi\"\n",
    "data_daniel = pd.read_csv(\"./data/data_daniel.csv\", sep=\";\", encoding=\"latin-1\")\n",
    "data_daniel = data_daniel[data_daniel[['Title']].notnull().all(1)]\n",
    "data_daniel[\"Reviewer\"] = \"Daniel\"\n",
    "data_jerome = pd.read_csv(\"./data/data_jerome.csv\", sep=\";\", encoding=\"latin-1\")\n",
    "data_jerome = data_jerome[data_jerome[['Title']].notnull().all(1)]\n",
    "data_jerome[\"Reviewer\"] = \"Jerome\"\n",
    "data_ann = pd.read_csv(\"./data/data_ann.csv\", sep=\";\", encoding=\"latin-1\")\n",
    "data_ann = data_ann[data_ann[['Title']].notnull().all(1)]\n",
    "data_ann[\"Reviewer\"] = \"Ann\""
   ]
  },
  {
   "cell_type": "code",
   "execution_count": 4,
   "id": "f8dbc2f6",
   "metadata": {},
   "outputs": [],
   "source": [
    "# this creates series of titles for all intersections of reviewers\n",
    "titles = pd.DataFrame()\n",
    "titles_daniel_jerome_ann = set(data_jerome[\"Title\"]).intersection(set(data_daniel[\"Title\"]))\n",
    "titles_daniel_jerome_ann = titles_daniel_jerome_ann.intersection(set(data_ann[\"Title\"]))\n",
    "titles_daniel_jerome_ann = pd.Series(list(titles_daniel_jerome_ann))   \n",
    "titles[\"Daniel, Jerome, Ann\"] = titles_daniel_jerome_ann\n",
    "titles_jingxi_jerome_ann = set(data_jingxi[\"Title\"]).intersection(set(data_jerome[\"Title\"]))\n",
    "titles_jingxi_jerome_ann = titles_jingxi_jerome_ann.intersection(set(data_ann[\"Title\"]))\n",
    "titles_jingxi_jerome_ann = pd.Series(list(titles_jingxi_jerome_ann))  \n",
    "titles[\"Jingxi, Jerome, Ann\"] = titles_jingxi_jerome_ann\n",
    "titles_daniel_jingxi_ann = set(data_daniel[\"Title\"]).intersection(set(data_jingxi[\"Title\"]))\n",
    "titles_daniel_jingxi_ann = titles_daniel_jingxi_ann.intersection(set(data_ann[\"Title\"]))\n",
    "titles_daniel_jingxi_ann = pd.Series(list(titles_daniel_jingxi_ann))  \n",
    "titles[\"Daniel, Jingxi, Ann\"] = titles_daniel_jingxi_ann\n",
    "titles_daniel_jingxi_jerome = set(data_daniel[\"Title\"]).intersection(set(data_jingxi[\"Title\"]))\n",
    "titles_daniel_jingxi_jerome = titles_daniel_jingxi_jerome.intersection(set(data_jerome[\"Title\"]))\n",
    "titles_daniel_jingxi_jerome = pd.Series(list(titles_daniel_jingxi_jerome))  \n",
    "titles[\"Daniel, Jingxi, Jerome\"] = titles_daniel_jingxi_jerome\n",
    "#titles.to_csv(\"./data/title_intersections.csv\", sep=\";\")\n"
   ]
  },
  {
   "cell_type": "code",
   "execution_count": 6,
   "id": "ce80958c",
   "metadata": {},
   "outputs": [],
   "source": [
    "# data_merged = merge of full extraction data\n",
    "data_merged = pd.concat([data_jingxi, data_daniel, data_jerome, data_ann])\n",
    "#data_merged.to_csv(\"./data/data_merged.csv\", sep=\";\")"
   ]
  },
  {
   "cell_type": "code",
   "execution_count": 30,
   "id": "ece9212a",
   "metadata": {
    "scrolled": false
   },
   "outputs": [
    {
     "name": "stdout",
     "output_type": "stream",
     "text": [
      "                                                Title\n",
      "0   Digital Twin as Risk-Free Experimentation Aid ...\n",
      "1   Model-Driven Development of a Digital Twin for...\n",
      "2   Towards a Digital Twin for Cyber-Physical Prod...\n",
      "3   Interface Management with Closed-Loop Systems ...\n",
      "4   Generating customized low-code development pla...\n",
      "5   Generating Digital Twin Cockpits for Parameter...\n",
      "6   Digital Twin Enables Rational Design of Ultrah...\n",
      "7   Using Trace Alignments for Measuring the Simil...\n",
      "8   A framework for Model-Driven Engineering of re...\n",
      "9   Meta-model-based shop-floor digital twin archi...\n",
      "10  Modular Fault Ascription and Corrective Mainte...\n",
      "11  Model-Driven Digital Twin Construction: Synthe...\n",
      "12  3D crowdsourced parametric cadastral mapping: ...\n",
      "13  A data-model fusion dispatch strategy for the ...\n",
      "14  The Framework for Designing Autonomous Cyber-P...\n",
      "15     Measuring the Fidelity of Digital Twin Systems\n",
      "(78, 35)\n"
     ]
    }
   ],
   "source": [
    "# now join the reviewer intersections with the actual data...\n",
    "titles_daniel_jerome_ann.name = \"Title\"\n",
    "data_daniel_jerome_ann = titles_daniel_jerome_ann.to_frame().merge(data_merged, how='left', on='Title')\n",
    "print(titles_daniel_jerome_ann.to_frame())\n",
    "print(data_daniel_jerome_ann.shape)\n",
    "#data_merged.to_csv(\"./data/data_daniel_jerome_ann.csv\", sep=\";\")"
   ]
  },
  {
   "cell_type": "code",
   "execution_count": 5,
   "id": "6f28cb66",
   "metadata": {},
   "outputs": [],
   "source": [
    "# double-check that no paper was missed during consolidation\n",
    "paper_consolidated = pd.read_csv(\"./data/extraction consolidation results.csv\", sep=\";\")"
   ]
  },
  {
   "cell_type": "code",
   "execution_count": 10,
   "id": "3f7bd84f",
   "metadata": {},
   "outputs": [
    {
     "data": {
      "text/plain": [
       "52    A pattern catalog for augmenting Digital Twin ...\n",
       "62    A Lightweight Model-driven MES Simulation Fram...\n",
       "Name: Title, dtype: object"
      ]
     },
     "execution_count": 10,
     "metadata": {},
     "output_type": "execute_result"
    }
   ],
   "source": [
    "paper_ok[~paper_ok.isin(paper_consolidated[\"Title\"])]"
   ]
  },
  {
   "cell_type": "code",
   "execution_count": 47,
   "id": "487058b9",
   "metadata": {
    "scrolled": true
   },
   "outputs": [],
   "source": [
    "search_results_initial = pd.read_csv(\"./data/search_results.csv\", sep=\";\", encoding=\"latin-1\")\n",
    "search_results_wos = pd.read_csv(\"./data/search results wos 2.csv\", sep=\";\", encoding=\"latin-1\")"
   ]
  },
  {
   "cell_type": "code",
   "execution_count": 48,
   "id": "0f859590",
   "metadata": {},
   "outputs": [],
   "source": [
    "diff = search_results_wos[\"Article Title\"][~search_results_wos[\"Article Title\"].isin(search_results_initial[\"Title\"])]"
   ]
  },
  {
   "cell_type": "code",
   "execution_count": 49,
   "id": "5d66cbdc",
   "metadata": {},
   "outputs": [],
   "source": [
    "diff_metadata = search_results_wos.merge(diff, how='right', on='Article Title')"
   ]
  },
  {
   "cell_type": "code",
   "execution_count": 50,
   "id": "5cbf41eb",
   "metadata": {},
   "outputs": [],
   "source": [
    "diff_metadata.to_csv(\"diff_meta.csv\", sep=\";\")"
   ]
  },
  {
   "cell_type": "code",
   "execution_count": 51,
   "id": "698216b4",
   "metadata": {},
   "outputs": [
    {
     "data": {
      "text/plain": [
       "(25,)"
      ]
     },
     "execution_count": 51,
     "metadata": {},
     "output_type": "execute_result"
    }
   ],
   "source": [
    "diff.shape"
   ]
  },
  {
   "cell_type": "code",
   "execution_count": 52,
   "id": "7cc3de0c",
   "metadata": {},
   "outputs": [],
   "source": [
    "plurals = pd.read_csv(\"./data/search results plural.csv\", sep=\";\", encoding=\"latin-1\")"
   ]
  },
  {
   "cell_type": "code",
   "execution_count": 53,
   "id": "41e1051b",
   "metadata": {},
   "outputs": [],
   "source": [
    "diff_initial = plurals[\"Document Title\"][~plurals[\"Document Title\"].isin(search_results_initial[\"Title\"])]"
   ]
  },
  {
   "cell_type": "code",
   "execution_count": 54,
   "id": "a65d4fe5",
   "metadata": {},
   "outputs": [],
   "source": [
    "diff_initial = diff_initial[~diff_initial.isin(search_results_wos[\"Article Title\"])]"
   ]
  },
  {
   "cell_type": "code",
   "execution_count": 58,
   "id": "7bf9e566",
   "metadata": {},
   "outputs": [
    {
     "data": {
      "text/plain": [
       "5     An EV-Traction Inverter Data-Driven Modelling ...\n",
       "11       Digital Twins for Sustainable Software Systems\n",
       "15    Concept of a Modular and System Model Driven D...\n",
       "24    Dynamic Runtime Integration of New Models in D...\n",
       "56    A Community-Sourced View on Engineering Digita...\n",
       "59    TwinOps - DevOps Meets Model-Based Engineering...\n",
       "63    Reliable Counterparts: Efficiently Testing Cau...\n",
       "72    Classification and Mapping of Layout Algorithm...\n",
       "Name: Document Title, dtype: object"
      ]
     },
     "execution_count": 58,
     "metadata": {},
     "output_type": "execute_result"
    }
   ],
   "source": [
    "diff_initial"
   ]
  },
  {
   "cell_type": "code",
   "execution_count": 56,
   "id": "06fe9e1e",
   "metadata": {},
   "outputs": [
    {
     "name": "stderr",
     "output_type": "stream",
     "text": [
      "C:\\Users\\Daniel Lehner\\AppData\\Local\\Temp\\ipykernel_952\\2334875551.py:1: FutureWarning: The series.append method is deprecated and will be removed from pandas in a future version. Use pandas.concat instead.\n",
      "  diff = diff.append(diff_initial, ignore_index=True)\n"
     ]
    }
   ],
   "source": [
    "diff = diff.append(diff_initial, ignore_index=True)"
   ]
  },
  {
   "cell_type": "code",
   "execution_count": 72,
   "id": "24e928a6",
   "metadata": {},
   "outputs": [
    {
     "data": {
      "text/plain": [
       "0     Implementation of Model-driven Complex System ...\n",
       "1     A MODEL-DRIVEN APPROACH FOR SITUATIONAL INTELL...\n",
       "2     Supporting Digital Twins for the Retrofit in A...\n",
       "3     GRuM-A flexible model-driven runtime monitorin...\n",
       "4     On the Notion of Digital Twins: A Modeling Per...\n",
       "5            A Comparative Study on Digital Twin Models\n",
       "6     A pattern catalog for augmenting Digital Twin ...\n",
       "7     EMF-Syncer: scalable maintenance of view model...\n",
       "8     Digital modeling-driven chatter suppression fo...\n",
       "9     Potential and limitations of digital twins to ...\n",
       "10    Interactive Smart Space for Single-Person Hous...\n",
       "11    Urban Intelligence: toward the Digital Twin of...\n",
       "12    A data- and model-driven approach for cancer t...\n",
       "13    Digital Twin Driven Green Performance Evaluati...\n",
       "14    A data- and model-driven approach for cancer t...\n",
       "15    A digital twin-driven hybrid approach for the ...\n",
       "16    A multi-model ensemble digital twin solution f...\n",
       "17    A New Modeling Approach for Power Grid Online ...\n",
       "18    Simulation-Based Engineering of Heterogeneous ...\n",
       "19            Improving Digital Twin Experience Reports\n",
       "20    UAV-Assisted Three-Dimensional Spectrum Mappin...\n",
       "21    Decentralized Autonomous Operations and Organi...\n",
       "22    A virtual model knowledge updating method driv...\n",
       "23    Data-Driven Methodology to Support Long-Lastin...\n",
       "24     Digital Behavioral Twins for Safe Connected Cars\n",
       "25    An EV-Traction Inverter Data-Driven Modelling ...\n",
       "26       Digital Twins for Sustainable Software Systems\n",
       "27    Concept of a Modular and System Model Driven D...\n",
       "28    Dynamic Runtime Integration of New Models in D...\n",
       "29    A Community-Sourced View on Engineering Digita...\n",
       "30    TwinOps - DevOps Meets Model-Based Engineering...\n",
       "31    Reliable Counterparts: Efficiently Testing Cau...\n",
       "32    Classification and Mapping of Layout Algorithm...\n",
       "Name: Title, dtype: object"
      ]
     },
     "execution_count": 72,
     "metadata": {},
     "output_type": "execute_result"
    }
   ],
   "source": [
    "diff.name=\"Title\"\n",
    "diff"
   ]
  },
  {
   "cell_type": "code",
   "execution_count": 67,
   "id": "6c8c1be5",
   "metadata": {},
   "outputs": [],
   "source": [
    "diff_meta = pd.read_csv(\"./data/search results additional.csv\", sep=\";\", encoding=\"latin-1\")"
   ]
  },
  {
   "cell_type": "code",
   "execution_count": 73,
   "id": "80fb2daf",
   "metadata": {},
   "outputs": [],
   "source": [
    "diff_metadata = diff_meta.merge(diff, how='right', on='Title')"
   ]
  },
  {
   "cell_type": "code",
   "execution_count": 76,
   "id": "d2208208",
   "metadata": {},
   "outputs": [
    {
     "data": {
      "text/plain": [
       "(34, 7)"
      ]
     },
     "execution_count": 76,
     "metadata": {},
     "output_type": "execute_result"
    }
   ],
   "source": [
    "diff_metadata.shape"
   ]
  },
  {
   "cell_type": "code",
   "execution_count": 78,
   "id": "b239c50b",
   "metadata": {},
   "outputs": [],
   "source": [
    "diff_metadata.to_csv(\"diff_meta.csv\", sep=\";\")"
   ]
  },
  {
   "cell_type": "markdown",
   "id": "85a9a5ba",
   "metadata": {},
   "source": [
    "# Additional Papers"
   ]
  },
  {
   "cell_type": "code",
   "execution_count": 15,
   "id": "c4d0fab6",
   "metadata": {},
   "outputs": [
    {
     "name": "stderr",
     "output_type": "stream",
     "text": [
      "C:\\Users\\Daniel Lehner\\AppData\\Local\\Temp\\ipykernel_16264\\1339662290.py:7: FutureWarning: The frame.append method is deprecated and will be removed from pandas in a future version. Use pandas.concat instead.\n",
      "  additional_merged = additional_daniel.append(additional_jingxi).append(additional_ann)\n"
     ]
    }
   ],
   "source": [
    "additional_daniel = pd.read_csv(\"./additional_papers/(Daniel) additional paper extraction.csv\", sep=\";\", encoding=\"latin-1\")\n",
    "additional_daniel[\"Reviewer\"] = \"Daniel\"\n",
    "additional_jingxi = pd.read_csv(\"./additional_papers/(Jingxi) additional paper extraction.csv\", sep=\";\", encoding=\"latin-1\")\n",
    "additional_jingxi[\"Reviewer\"] = \"Jingxi\"\n",
    "additional_ann = pd.read_csv(\"./additional_papers/(Ann) additional paper extraction.csv\", sep=\";\", encoding=\"latin-1\")\n",
    "additional_ann[\"Reviewer\"] = \"Ann\"\n",
    "additional_merged = additional_daniel.append(additional_jingxi).append(additional_ann)"
   ]
  },
  {
   "cell_type": "code",
   "execution_count": 16,
   "id": "7cdde6c4",
   "metadata": {},
   "outputs": [],
   "source": [
    "additional_merged.to_csv(\"./additional_papers/additional paper extraction merged.csv\", sep=\";\")"
   ]
  },
  {
   "cell_type": "code",
   "execution_count": 12,
   "id": "08e3bfd1",
   "metadata": {},
   "outputs": [],
   "source": [
    "exclusion_data_daniel = additional_daniel[[\"Title\", \"Reason\"]].copy().drop_duplicates(\"Title\")\n",
    "exclusion_data_jingxi = additional_jingxi[[\"Title\", \"Reason\"]].copy().drop_duplicates(\"Title\")\n",
    "exclusion_data_ann = additional_ann[[\"Title\", \"Reason\"]].copy().drop_duplicates(\"Title\")\n",
    "exclusion_data = exclusion_data_daniel.merge(exclusion_data_jingxi, how=\"outer\", on=\"Title\").merge(exclusion_data_ann, how=\"outer\", on=\"Title\")\n",
    "exclusion_data.rename(columns={\"Reason_x\": \"Reason Daniel\", \"Reason_y\": \"Reason Jingxi\", \"Reason\": \"Reason Ann\"}, inplace=True)"
   ]
  },
  {
   "cell_type": "code",
   "execution_count": 14,
   "id": "b1479660",
   "metadata": {},
   "outputs": [],
   "source": [
    "exclusion_data.to_csv(\"./additional_papers/exclusion results.csv\", sep=\";\")"
   ]
  },
  {
   "cell_type": "code",
   "execution_count": 13,
   "id": "16c916ff",
   "metadata": {},
   "outputs": [
    {
     "data": {
      "text/html": [
       "<div>\n",
       "<style scoped>\n",
       "    .dataframe tbody tr th:only-of-type {\n",
       "        vertical-align: middle;\n",
       "    }\n",
       "\n",
       "    .dataframe tbody tr th {\n",
       "        vertical-align: top;\n",
       "    }\n",
       "\n",
       "    .dataframe thead th {\n",
       "        text-align: right;\n",
       "    }\n",
       "</style>\n",
       "<table border=\"1\" class=\"dataframe\">\n",
       "  <thead>\n",
       "    <tr style=\"text-align: right;\">\n",
       "      <th></th>\n",
       "      <th>Title</th>\n",
       "      <th>Reason Daniel</th>\n",
       "      <th>Reason Jingxi</th>\n",
       "      <th>Reason Ann</th>\n",
       "    </tr>\n",
       "  </thead>\n",
       "  <tbody>\n",
       "    <tr>\n",
       "      <th>0</th>\n",
       "      <td>A data- and model-driven approach for cancer t...</td>\n",
       "      <td>No MDE application</td>\n",
       "      <td>no MDE</td>\n",
       "      <td>Philosophical, Opinion, or Experience paper (e...</td>\n",
       "    </tr>\n",
       "    <tr>\n",
       "      <th>1</th>\n",
       "      <td>A digital twin-driven hybrid approach for the ...</td>\n",
       "      <td>NaN</td>\n",
       "      <td>no Model</td>\n",
       "      <td>No MDE application</td>\n",
       "    </tr>\n",
       "    <tr>\n",
       "      <th>2</th>\n",
       "      <td>A multi-model ensemble digital twin solution f...</td>\n",
       "      <td>No MDE application</td>\n",
       "      <td>no Model</td>\n",
       "      <td>No MDE application</td>\n",
       "    </tr>\n",
       "    <tr>\n",
       "      <th>3</th>\n",
       "      <td>A virtual model knowledge updating method driv...</td>\n",
       "      <td>NaN</td>\n",
       "      <td>no MDE</td>\n",
       "      <td>No MDE application</td>\n",
       "    </tr>\n",
       "    <tr>\n",
       "      <th>4</th>\n",
       "      <td>An EV-Traction Inverter Data-Driven Modelling ...</td>\n",
       "      <td>No MDE application</td>\n",
       "      <td>no MDE</td>\n",
       "      <td>NaN</td>\n",
       "    </tr>\n",
       "  </tbody>\n",
       "</table>\n",
       "</div>"
      ],
      "text/plain": [
       "                                               Title       Reason Daniel  \\\n",
       "0  A data- and model-driven approach for cancer t...  No MDE application   \n",
       "1  A digital twin-driven hybrid approach for the ...                 NaN   \n",
       "2  A multi-model ensemble digital twin solution f...  No MDE application   \n",
       "3  A virtual model knowledge updating method driv...                 NaN   \n",
       "4  An EV-Traction Inverter Data-Driven Modelling ...  No MDE application   \n",
       "\n",
       "  Reason Jingxi                                         Reason Ann  \n",
       "0        no MDE  Philosophical, Opinion, or Experience paper (e...  \n",
       "1      no Model                                 No MDE application  \n",
       "2      no Model                                 No MDE application  \n",
       "3        no MDE                                 No MDE application  \n",
       "4        no MDE                                                NaN  "
      ]
     },
     "execution_count": 13,
     "metadata": {},
     "output_type": "execute_result"
    }
   ],
   "source": [
    "exclusion_data.head()"
   ]
  },
  {
   "cell_type": "code",
   "execution_count": null,
   "id": "ad6fba59",
   "metadata": {},
   "outputs": [],
   "source": []
  }
 ],
 "metadata": {
  "kernelspec": {
   "display_name": "Python 3 (ipykernel)",
   "language": "python",
   "name": "python3"
  },
  "language_info": {
   "codemirror_mode": {
    "name": "ipython",
    "version": 3
   },
   "file_extension": ".py",
   "mimetype": "text/x-python",
   "name": "python",
   "nbconvert_exporter": "python",
   "pygments_lexer": "ipython3",
   "version": "3.10.3"
  }
 },
 "nbformat": 4,
 "nbformat_minor": 5
}
