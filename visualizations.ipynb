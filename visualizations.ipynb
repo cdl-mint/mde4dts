{
 "cells": [
  {
   "cell_type": "code",
   "execution_count": 1,
   "id": "839c7181",
   "metadata": {},
   "outputs": [],
   "source": [
    "import pandas as pd"
   ]
  },
  {
   "cell_type": "code",
   "execution_count": 11,
   "id": "5999a0c5",
   "metadata": {
    "scrolled": true
   },
   "outputs": [],
   "source": [
    "papers = pd.read_csv(\"./csv/test_scopus.csv\", sep=\";\")"
   ]
  },
  {
   "cell_type": "code",
   "execution_count": 17,
   "id": "a01c2a16",
   "metadata": {},
   "outputs": [
    {
     "data": {
      "text/plain": [
       "Year\n",
       "2018     6\n",
       "2019     7\n",
       "2020    18\n",
       "2021    42\n",
       "2022    43\n",
       "2023    13\n",
       "Name: Year, dtype: int64"
      ]
     },
     "execution_count": 17,
     "metadata": {},
     "output_type": "execute_result"
    }
   ],
   "source": [
    "papers.groupby(\"Year\")[\"Year\"].count()"
   ]
  },
  {
   "cell_type": "code",
   "execution_count": 27,
   "id": "b176eaf8",
   "metadata": {},
   "outputs": [
    {
     "data": {
      "text/plain": [
       "16"
      ]
     },
     "execution_count": 27,
     "metadata": {},
     "output_type": "execute_result"
    }
   ],
   "source": [
    "conflist = papers.groupby(\"Source title\")[\"Source title\"].count()\n",
    "conflist.loc[lambda x : x > 1].count()"
   ]
  },
  {
   "cell_type": "code",
   "execution_count": 22,
   "id": "6c0164c2",
   "metadata": {},
   "outputs": [
    {
     "data": {
      "text/plain": [
       "['Authors',\n",
       " 'Author full names',\n",
       " 'Author(s) ID',\n",
       " 'Title',\n",
       " 'Year',\n",
       " 'Source title',\n",
       " 'Volume',\n",
       " 'Issue',\n",
       " 'Art. No.',\n",
       " 'Page start',\n",
       " 'Page end',\n",
       " 'Page count',\n",
       " 'DOI',\n",
       " 'Link',\n",
       " 'Abstract',\n",
       " 'Publisher',\n",
       " 'Document Type',\n",
       " 'Source']"
      ]
     },
     "execution_count": 22,
     "metadata": {},
     "output_type": "execute_result"
    }
   ],
   "source": [
    "list(papers.columns)"
   ]
  },
  {
   "cell_type": "code",
   "execution_count": null,
   "id": "0ecb4513",
   "metadata": {},
   "outputs": [],
   "source": []
  }
 ],
 "metadata": {
  "kernelspec": {
   "display_name": "Python 3 (ipykernel)",
   "language": "python",
   "name": "python3"
  },
  "language_info": {
   "codemirror_mode": {
    "name": "ipython",
    "version": 3
   },
   "file_extension": ".py",
   "mimetype": "text/x-python",
   "name": "python",
   "nbconvert_exporter": "python",
   "pygments_lexer": "ipython3",
   "version": "3.10.3"
  }
 },
 "nbformat": 4,
 "nbformat_minor": 5
}
