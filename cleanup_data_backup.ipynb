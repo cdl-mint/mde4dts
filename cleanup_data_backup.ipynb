{
 "cells": [
  {
   "cell_type": "markdown",
   "metadata": {},
   "source": [
    "# packages"
   ]
  },
  {
   "cell_type": "code",
   "execution_count": 129,
   "metadata": {},
   "outputs": [],
   "source": [
    "import subprocess\n",
    "import sys\n",
    "\n",
    "def install(package):\n",
    "    subprocess.check_call([sys.executable, \"-m\", \"pip\", \"install\", package])\n",
    "\n",
    "install(\"pandas\")\n",
    "install(\"numpy\")\n",
    "install(\"matplotlib\")"
   ]
  },
  {
   "cell_type": "markdown",
   "metadata": {},
   "source": [
    "# imports"
   ]
  },
  {
   "cell_type": "code",
   "execution_count": 5,
   "metadata": {},
   "outputs": [],
   "source": [
    "import pandas as pd\n",
    "import numpy as np\n",
    "import json\n",
    "import csv\n",
    "import os"
   ]
  },
  {
   "cell_type": "markdown",
   "metadata": {},
   "source": [
    "# Reading"
   ]
  },
  {
   "cell_type": "code",
   "execution_count": 44,
   "metadata": {},
   "outputs": [],
   "source": [
    "df = pd.read_csv(filepath_or_buffer=\"data/extraction consolidation results_V0_3.csv\",sep=\";\", encoding=\"latin-1\")"
   ]
  },
  {
   "cell_type": "code",
   "execution_count": 45,
   "metadata": {},
   "outputs": [],
   "source": [
    "result = df['Title'].to_list()"
   ]
  },
  {
   "cell_type": "code",
   "execution_count": 46,
   "metadata": {},
   "outputs": [
    {
     "name": "stdout",
     "output_type": "stream",
     "text": [
      "29\n"
     ]
    }
   ],
   "source": [
    "result = list(dict.fromkeys(result))\n",
    "print(len(result))"
   ]
  },
  {
   "cell_type": "code",
   "execution_count": 47,
   "metadata": {},
   "outputs": [],
   "source": [
    "titles = list(df.columns)"
   ]
  },
  {
   "cell_type": "code",
   "execution_count": 48,
   "metadata": {},
   "outputs": [],
   "source": [
    "metadata = pd.read_csv(\"./data/search_results.csv\", sep=\";\", encoding=\"latin-1\")"
   ]
  },
  {
   "cell_type": "code",
   "execution_count": 49,
   "metadata": {},
   "outputs": [],
   "source": [
    "metadata = metadata.drop_duplicates(subset=['Title'])"
   ]
  },
  {
   "cell_type": "code",
   "execution_count": 50,
   "metadata": {},
   "outputs": [],
   "source": [
    "data = df.merge(metadata, how='left', on='Title')\n",
    "#unique function"
   ]
  },
  {
   "cell_type": "code",
   "execution_count": 51,
   "metadata": {},
   "outputs": [],
   "source": [
    "del metadata\n",
    "del df\n",
    "del titles"
   ]
  },
  {
   "cell_type": "code",
   "execution_count": 52,
   "metadata": {},
   "outputs": [
    {
     "name": "stdout",
     "output_type": "stream",
     "text": [
      "0 Title\n",
      "1 DT Definition\n",
      "2 virtual space\n",
      "3 Kritzinger\n",
      "4 DT is specific\n",
      "5 modeling language\n",
      "6 note on modeling language\n",
      "7 model type\n",
      "8 model processing technique\n",
      "9 model usage technique\n",
      "10 source\n",
      "11 target\n",
      "12 purpose of MDE application\n",
      "13 purpose of DT\n",
      "14 DTPurposeCategory\n",
      "15 use case domain\n",
      "16 system lifecycle phase\n",
      "17 twinning target\n",
      "18 twin lifecycle phase\n",
      "19 purpose /expected benefit of using models\n",
      "20 open challenges\n",
      "21 Technological Readiness Level\n",
      "22 notes\n",
      "23 Use Case\n",
      "24 Publication Title\n",
      "25 Authors\n",
      "26 Publication Year\n",
      "27 Document Identifier\n",
      "28 Publisher\n"
     ]
    }
   ],
   "source": [
    "index = 0\n",
    "for row in data:\n",
    "    print(index, row)\n",
    "    index += 1"
   ]
  },
  {
   "cell_type": "markdown",
   "metadata": {},
   "source": [
    "# Formatting Data"
   ]
  },
  {
   "cell_type": "code",
   "execution_count": 53,
   "metadata": {},
   "outputs": [],
   "source": [
    "modelTrafos = 'modelTrafos'"
   ]
  },
  {
   "cell_type": "code",
   "execution_count": 54,
   "metadata": {},
   "outputs": [],
   "source": [
    "out_menge_1 = {}\n",
    "for key in result:\n",
    "    out_menge_1[key] = {'DT_Definition':None,\n",
    "                        modelTrafos:{}, \n",
    "                        'open challenges':None,\n",
    "                        'Technological Readiness Level':None, \n",
    "                        'notes':None, \n",
    "                        'Use Case':None, \n",
    "                        'twinning target': None, \n",
    "                        'use case domain':None,\n",
    "                        'virtual space':None,\n",
    "                        'Kritzinger':None,\n",
    "                        'DT is specific':None,\n",
    "                        'modeling language':[],\n",
    "                        'purpose of DT':None,\n",
    "                        'DTPurposeCategory':None\n",
    "                        }"
   ]
  },
  {
   "cell_type": "code",
   "execution_count": 55,
   "metadata": {},
   "outputs": [],
   "source": [
    "data.reset_index()\n",
    "for title in result:\n",
    "    rownum = 0\n",
    "    \n",
    "    for index, row in data.iterrows():\n",
    "        if title == row['Title'] and not pd.isna(title):\n",
    "            rowcopy = row.__deepcopy__()\n",
    "            \n",
    "            if row['DT Definition'] is not None and not pd.isna(row['DT Definition']):\n",
    "                out_menge_1[title]['DT_Definition'] = row['DT Definition']\n",
    "\n",
    "            if row['purpose of DT'] is not None and not pd.isna(row['purpose of DT']):\n",
    "                out_menge_1[title]['purpose of DT'] = row['purpose of DT']\n",
    "\n",
    "            if row['DTPurposeCategory'] is not None and not pd.isna(row['DTPurposeCategory']):\n",
    "                out_menge_1[title]['DTPurposeCategory'] = row['DTPurposeCategory']\n",
    "\n",
    "            if row['use case domain'] is not None and not pd.isna(row['use case domain']):\n",
    "                out_menge_1[title]['use case domain'] = row['use case domain']\n",
    "            \n",
    "            if row['twinning target'] is not None and not pd.isna(row['twinning target']):\n",
    "                if out_menge_1[title]['twinning target'] is None:\n",
    "                    out_menge_1[title]['twinning target'] = row['twinning target']\n",
    "                else:\n",
    "                    out_menge_1[title]['twinning target'] += \";\"\n",
    "                    out_menge_1[title]['twinning target'] +=  row['twinning target']\n",
    "\n",
    "            if row['purpose /expected benefit of using models'] is not None and not pd.isna(row['purpose /expected benefit of using models']):\n",
    "                out_menge_1[title]['purpose /expected benefit of using models'] = row['purpose /expected benefit of using models']\n",
    "\n",
    "            if row['open challenges'] is not None and not pd.isna(row['open challenges']):\n",
    "                out_menge_1[title]['open challenges'] = row['open challenges']\n",
    "\n",
    "            if row['Technological Readiness Level'] is not None and not pd.isna(row['Technological Readiness Level']):\n",
    "                out_menge_1[title]['Technological Readiness Level'] = row['Technological Readiness Level']\n",
    "            \n",
    "            if row['notes'] is not None and not pd.isna(row['notes']):\n",
    "                out_menge_1[title]['notes'] = row['notes']\n",
    "\n",
    "            if row['Use Case'] is not None and not pd.isna(row['Use Case']):\n",
    "                out_menge_1[title]['Use Case'] = row['Use Case']\n",
    "\n",
    "            if row['Publication Title'] is not None and not pd.isna(row['Publication Title']):\n",
    "                out_menge_1[title]['Publication Title'] = row['Publication Title']\n",
    "            \n",
    "            if row['Authors'] is not None and not pd.isna(row['Authors']):\n",
    "                out_menge_1[title]['Authors'] = row['Authors']\n",
    "            \n",
    "            if row['Publication Year'] is not None and not pd.isna(row['Publication Year']):\n",
    "                out_menge_1[title]['Publication Year'] = row['Publication Year']\n",
    "\n",
    "            if row['Document Identifier'] is not None and not pd.isna(row['Document Identifier']):\n",
    "                out_menge_1[title]['Document Identifier'] = row['Document Identifier']\n",
    "\n",
    "            if row['Publisher'] is not None and not pd.isna(row['Publisher']):\n",
    "                out_menge_1[title]['Publisher'] = row['Publisher']\n",
    "            if row['DT Definition'] is not None and pd.isna(row['DT Definition']):\n",
    "                if row['virtual space'] is not None and not pd.isna(row['virtual space']):\n",
    "                    out_menge_1[title]['virtual space'] = row['virtual space']\n",
    "            \n",
    "                if row['Kritzinger'] is not None and not pd.isna(row['Kritzinger']):\n",
    "                    out_menge_1[title]['Kritzinger'] = row['Kritzinger']\n",
    "            \n",
    "                if row['DT is specific'] is not None and not pd.isna(row['DT is specific']):\n",
    "                    out_menge_1[title]['DT is specific'] = row['DT is specific']\n",
    "            \n",
    "            if row['modeling language'] is not None and not pd.isna(row['modeling language']):\n",
    "                out_menge_1[title]['modeling language'].append(row['modeling language'])\n",
    "\n",
    "            # multiple Trafos\n",
    "            arrayindexes = [0,1,2,3,4,5,6,13,10+4,11+4,13+4,15+4,16+4,17+4,18+4,19+4,20+4,21+4,22+4,23+4,24+4]\n",
    "            rowjson = rowcopy.drop(row.iloc[arrayindexes].index).to_json()\n",
    "            out_menge_1[title][modelTrafos][rownum] = rowjson\n",
    "            #out_menge_1[title]['data'][rownum].append(rowjson)\n",
    "            rownum+=1\n"
   ]
  },
  {
   "cell_type": "code",
   "execution_count": 56,
   "metadata": {},
   "outputs": [],
   "source": [
    "del rowjson\n",
    "del rowcopy\n",
    "del result\n",
    "del rownum"
   ]
  },
  {
   "cell_type": "code",
   "execution_count": 40,
   "metadata": {},
   "outputs": [
    {
     "name": "stdout",
     "output_type": "stream",
     "text": [
      "[WinError 183] Eine Datei kann nicht erstellt werden, wenn sie bereits vorhanden ist: 'target/'\n"
     ]
    }
   ],
   "source": [
    "try:\n",
    "    os.mkdir('target/')\n",
    "    os.mkdir('target/img/')\n",
    "except OSError as error:\n",
    "    print(error)"
   ]
  },
  {
   "cell_type": "markdown",
   "metadata": {},
   "source": [
    "# Data analysis"
   ]
  },
  {
   "cell_type": "markdown",
   "metadata": {},
   "source": [
    "## Year counter"
   ]
  },
  {
   "cell_type": "code",
   "execution_count": 145,
   "metadata": {},
   "outputs": [],
   "source": [
    "year2020 = 0\n",
    "year2021 = 0\n",
    "year2022 = 0\n",
    "year2023 = 0"
   ]
  },
  {
   "cell_type": "code",
   "execution_count": 146,
   "metadata": {},
   "outputs": [],
   "source": [
    "for key in out_menge_1:\n",
    "    if pd.isna(key):\n",
    "        continue\n",
    "    if out_menge_1[key]['Publication Year'] == 2020:\n",
    "        year2020+=1\n",
    "    if out_menge_1[key]['Publication Year'] == 2021:\n",
    "        year2021+=1\n",
    "    if out_menge_1[key]['Publication Year'] == 2022:\n",
    "        year2022+=1\n",
    "    if out_menge_1[key]['Publication Year'] == 2023:\n",
    "        year2023+=1"
   ]
  },
  {
   "cell_type": "code",
   "execution_count": 147,
   "metadata": {},
   "outputs": [
    {
     "data": {
      "image/png": "[encoded data removed]",
      "text/plain": [
       "<Figure size 640x480 with 1 Axes>"
      ]
     },
     "metadata": {},
     "output_type": "display_data"
    }
   ],
   "source": [
    "import matplotlib.pyplot as plt\n",
    "\n",
    "fig, ax = plt.subplots()\n",
    "\n",
    "fruits = ['2020', '2021', '2022', '2023']\n",
    "counts = [year2020, year2021, year2022, year2023]\n",
    "bar_labels = [2020,2021,2022,2023]\n",
    "bar_colors = ['tab:blue', 'tab:blue', 'tab:blue', 'tab:blue']\n",
    "\n",
    "ax.bar(fruits, counts, label=bar_labels, color=bar_colors)\n",
    "\n",
    "ax.set_ylabel('amount')\n",
    "ax.set_title('Papers using Model-driven engineering for Digital Twins')\n",
    "\n",
    "plt.savefig('target/img/years.png')\n",
    "\n",
    "plt.show()"
   ]
  },
  {
   "cell_type": "code",
   "execution_count": 148,
   "metadata": {},
   "outputs": [],
   "source": [
    "del year2020 \n",
    "del year2021 \n",
    "del year2022 \n",
    "del year2023 \n",
    "del ax \n",
    "del fruits\n",
    "del counts\n",
    "del bar_colors\n",
    "del bar_labels\n",
    "del fig"
   ]
  },
  {
   "cell_type": "markdown",
   "metadata": {},
   "source": [
    "## system life cycle"
   ]
  },
  {
   "cell_type": "code",
   "execution_count": 149,
   "metadata": {},
   "outputs": [],
   "source": [
    "Design = 0\n",
    "Implement = 0\n",
    "Operate = 0\n",
    "Maintain = 0\n",
    "NotDefined = 0"
   ]
  },
  {
   "cell_type": "code",
   "execution_count": 150,
   "metadata": {},
   "outputs": [],
   "source": [
    "for key in out_menge_1:\n",
    "    if pd.isna(key):\n",
    "        continue\n",
    "    for entry in out_menge_1[key][modelTrafos]:\n",
    "        #guard with if trafo\n",
    "        slcp = json.loads(out_menge_1[key][modelTrafos][entry])['system lifecycle phase']\n",
    "        if slcp is None:\n",
    "            NotDefined+=1\n",
    "            continue\n",
    "        if \"Design\" in slcp:\n",
    "            Design+=1\n",
    "        if \"Implement\" in slcp:\n",
    "            Implement+=1\n",
    "        if \"Operate\" in slcp:\n",
    "            Operate+=1\n",
    "        if \"Maintain\" in slcp:\n",
    "            Maintain+=1\n",
    "        "
   ]
  },
  {
   "cell_type": "code",
   "execution_count": 151,
   "metadata": {},
   "outputs": [
    {
     "data": {
      "image/png": "[encoded data removed]",
      "text/plain": [
       "<Figure size 640x480 with 1 Axes>"
      ]
     },
     "metadata": {},
     "output_type": "display_data"
    }
   ],
   "source": [
    "import matplotlib.pyplot as plt\n",
    "\n",
    "fig, ax = plt.subplots()\n",
    "\n",
    "fruits = ['Design', 'Implement', 'Operate', 'Maintain', 'NotDefined']\n",
    "counts = [Design, Implement, Operate, Maintain, NotDefined]\n",
    "bar_labels = ['Design', 'Implement', 'Operate', 'Maintain', 'NotDefined']\n",
    "bar_colors = ['tab:blue', 'tab:blue', 'tab:blue', 'tab:blue', 'tab:blue']\n",
    "\n",
    "ax.bar(fruits, counts, label=bar_labels, color=bar_colors)\n",
    "\n",
    "ax.set_ylabel('amount')\n",
    "ax.set_title('SDLC Lifecycle phase where MDE is used')\n",
    "\n",
    "plt.savefig('target/img/Lifecycle_phase.png')\n",
    "\n",
    "#savefig(fname, *, dpi='figure', format=None, metadata=None,\n",
    "#        bbox_inches=None, pad_inches=0.1,\n",
    "#        facecolor='auto', edgecolor='auto',\n",
    "#        backend=None, **kwargs\n",
    "#       )\n",
    "plt.show()"
   ]
  },
  {
   "cell_type": "code",
   "execution_count": 152,
   "metadata": {},
   "outputs": [],
   "source": [
    "del Design \n",
    "del Implement \n",
    "del Operate \n",
    "del Maintain \n",
    "del NotDefined \n",
    "del slcp\n",
    "del ax \n",
    "del fruits\n",
    "del counts\n",
    "del bar_colors\n",
    "del bar_labels\n",
    "del fig"
   ]
  },
  {
   "cell_type": "markdown",
   "metadata": {},
   "source": [
    "# Goals\n",
    "was sind die modelle\n",
    "gibt es einen Trend Authoren Und Modelle\n",
    "Zeit Modell Trends\n",
    "\n",
    "\n",
    "Modell Trafo in Zusammenhand zur Definition\n",
    "\n",
    "\n",
    "2.1: What are twinned systems, and what is the purpose of the DT in these systems?  \n",
    "2.2: Which techniques are applied in which domains?  \n",
    "2.3: Which techniques are applied in which lifecycle phases of the twin/twinned system?  \n",
    "\n",
    "What? Which modeling techniques are used, and how does this use change oder\n",
    "time? \n",
    "\n",
    "Which model types are used, which modeling languages does each type contain,\n",
    "and how does the used model type change over time?\n",
    "\n",
    "What are sources/targets for each MDE technique?\n",
    "What is the technological readyness level of the found solutions?\n",
    "\n",
    "where? For which domains/twinning targets/system/twinning lifecycle phases are\n",
    "twins used? combined with what?\n",
    "\n",
    "\n",
    "split by year -> dev over the years -> linechart\n",
    "\n",
    "lang - MDE Tech\n",
    "\n",
    "MDE Technique(purpose) - use case domain(purpose) - twinning target\n"
   ]
  },
  {
   "cell_type": "markdown",
   "metadata": {},
   "source": [
    "domain_target_count = {}\n",
    "for key in out_menge_1:\n",
    "    if pd.isna(key):\n",
    "        continue\n",
    "    if out_menge_1[key]['twinning target'] is not None:\n",
    "        targetdomains = out_menge_1[key]['twinning target'].split(';')\n",
    "        for domain in targetdomains:\n",
    "            try:\n",
    "                domain_target_count[domain].update({out_menge_1[key]['use case domain']:domain_target_count[domain][out_menge_1[key]['use case domain']]+1})\n",
    "            except KeyError as err:\n",
    "                try:\n",
    "                    domain_target_count[domain].update({out_menge_1[key]['use case domain']:1})\n",
    "                except KeyError as err2:\n",
    "                    domain_target_count.update({domain: {out_menge_1[key]['use case domain']:1}})\n",
    "print(domain_target_count)\n",
    "dtc = json.dumps(domain_target_count)\n",
    "print(dtc)\n",
    "with open(\"target/json/temp.json\", \"w\") as outfile:\n",
    "    outfile.write(dtc)"
   ]
  },
  {
   "cell_type": "markdown",
   "metadata": {},
   "source": [
    "## use-case domain <-> twinning target"
   ]
  },
  {
   "cell_type": "code",
   "execution_count": 153,
   "metadata": {},
   "outputs": [],
   "source": [
    "dataformat = {'Individual Systems, such as automated cars (Atorf and Ro\\u00dfmann, 2018), gas turbines (Dawes et al., 2019), or manufacturing machines (Debroy et al., 2017).': 0,\n",
    "              'Systems of Systems, such as complete factories (Biesinger et al., 2018), oil wells (Kosenkov et al., 2018), or railway systems (Vatn, 2018).':0,\n",
    "              'Processes, e.g., business processes (Rambow-Hoeschele et al., 2018), medical processes (Karakra et al., 2018), or recycling processes (Popa et al., 2018).':0,\n",
    "              }"
   ]
  },
  {
   "cell_type": "code",
   "execution_count": 17,
   "metadata": {
    "scrolled": true
   },
   "outputs": [
    {
     "name": "stdout",
     "output_type": "stream",
     "text": [
      "{}\n",
      "{}\n"
     ]
    }
   ],
   "source": [
    "domain_target_count = {}\n",
    "for key in out_menge_1:\n",
    "    if pd.isna(key):\n",
    "        continue\n",
    "    if out_menge_1[key]['twinning target'] is not None:\n",
    "        targetdomains = out_menge_1[key]['twinning target'].split(';')\n",
    "        for domain in targetdomains:\n",
    "            target = out_menge_1[key]['use case domain']\n",
    "            try:\n",
    "                domain_target_count[target][domain] += 1\n",
    "            except KeyError as err:\n",
    "                targetformat = dataformat.copy()\n",
    "                targetformat[domain] += 1\n",
    "                domain_target_count.update({target: targetformat})\n",
    "\n",
    "print(domain_target_count)\n",
    "dtc = json.dumps(domain_target_count)\n",
    "print(dtc)\n",
    "with open(\"target/json/data_consolidated_semistructured.json\", \"w\") as outfile:\n",
    "    outfile.write(dtc)"
   ]
  },
  {
   "cell_type": "code",
   "execution_count": 155,
   "metadata": {},
   "outputs": [
    {
     "name": "stdout",
     "output_type": "stream",
     "text": [
      "[[4, 0, 0], [6, 3, 1], [1, 0, 0], [1, 0, 1], [0, 0, 1], [3, 0, 0], [2, 1, 0], [0, 1, 0], [2, 0, 0]]\n"
     ]
    }
   ],
   "source": [
    "arr = []\n",
    "for target in domain_target_count:\n",
    "    innerarr = []\n",
    "    for domain in domain_target_count[target]:\n",
    "        innerarr.append(domain_target_count[target][domain])\n",
    "    arr.append(innerarr)\n",
    "print(arr)"
   ]
  },
  {
   "cell_type": "code",
   "execution_count": 156,
   "metadata": {},
   "outputs": [
    {
     "data": {
      "image/png": "[encoded data removed]",
      "text/plain": [
       "<Figure size 640x480 with 1 Axes>"
      ]
     },
     "metadata": {},
     "output_type": "display_data"
    }
   ],
   "source": [
    "import matplotlib.pyplot as plt\n",
    "\n",
    "species = (\n",
    "    \"Individual system\",\n",
    "    \"System Of Systems\",\n",
    "    \"Processes\",\n",
    ")\n",
    "\n",
    "weight_counts = {\n",
    "    \"H\": np.array(arr[0]),\n",
    "    \"C\": np.array(arr[1]),\n",
    "    \"N\": np.array(arr[2]),\n",
    "    \"M\": np.array(arr[3]),\n",
    "    \"P\": np.array(arr[4]),\n",
    "    \"I\": np.array(arr[5]),\n",
    "    \"D\": np.array(arr[6]),\n",
    "    \"F\": np.array(arr[7]),\n",
    "}\n",
    "width = 0.5\n",
    "\n",
    "fig, ax = plt.subplots()\n",
    "bottom = np.zeros(3)\n",
    "\n",
    "for boolean, weight_count in weight_counts.items():\n",
    "    p = ax.bar(species, weight_count, width, label=boolean, bottom=bottom)\n",
    "    bottom += weight_count\n",
    "\n",
    "ax.set_title(\"domain in relation to the target\")\n",
    "ax.legend(loc=\"upper right\")\n",
    "\n",
    "plt.savefig('target/img/targetandUseDomain.png')\n",
    "\n",
    "plt.show()\n"
   ]
  },
  {
   "cell_type": "code",
   "execution_count": 157,
   "metadata": {},
   "outputs": [],
   "source": [
    "del ax\n",
    "del arrayindexes\n",
    "del bottom\n",
    "del domain_target_count\n",
    "del innerarr\n",
    "del arr\n",
    "del targetdomains\n"
   ]
  },
  {
   "cell_type": "markdown",
   "metadata": {},
   "source": [
    "## 2.1"
   ]
  },
  {
   "cell_type": "code",
   "execution_count": null,
   "metadata": {},
   "outputs": [],
   "source": []
  },
  {
   "cell_type": "markdown",
   "metadata": {},
   "source": [
    "## 2.2"
   ]
  },
  {
   "cell_type": "code",
   "execution_count": 158,
   "metadata": {},
   "outputs": [],
   "source": [
    "twinnedsystesms = []"
   ]
  },
  {
   "cell_type": "markdown",
   "metadata": {},
   "source": [
    "## DT Definition"
   ]
  },
  {
   "cell_type": "code",
   "execution_count": null,
   "metadata": {},
   "outputs": [],
   "source": []
  },
  {
   "cell_type": "markdown",
   "metadata": {},
   "source": [
    "## DT"
   ]
  },
  {
   "cell_type": "markdown",
   "metadata": {},
   "source": [
    "### twinning target"
   ]
  },
  {
   "cell_type": "code",
   "execution_count": 159,
   "metadata": {},
   "outputs": [],
   "source": [
    "individual = 0\n",
    "sys_of_sys = 0\n",
    "bio = 0\n",
    "product = 0\n",
    "process = 0\n",
    "other = 0\n",
    "NotDefined = 0"
   ]
  },
  {
   "cell_type": "code",
   "execution_count": 160,
   "metadata": {},
   "outputs": [],
   "source": [
    "categories = ['Individual Systems, such as automated cars (Atorf and Roßmann, 2018), gas turbines (Dawes et al., 2019), or manufacturing machines (Debroy et al., 2017).',\n",
    "              'Systems of Systems, such as complete factories (Biesinger et al., 2018), oil wells (Kosenkov et al., 2018), or railway systems (Vatn, 2018).',\n",
    "              'Biological Beings, such as factory employees (Graessler and Poehler, 2018), fishes (Joordens and Jamshidi, 2018), or sports players (Balachandar and Chinnaiyan, 2019).',\n",
    "              'Products, such as reinforced plastics (Wang et al., 2018), sunroof ring frames (Wärmefjord et al., 2017), or wearable masks (Zheng et al., 2018).',\n",
    "              'Processes, e.g., business processes (Rambow-Hoeschele et al., 2018), medical processes (Karakra et al., 2018), or recycling processes (Popa et al., 2018).',\n",
    "              'Other counterparts, e.g., arbitrary physical bodies (El Saddik, 2018) or unspecified manufacturing resources (Lu and Xu, 2018b).']"
   ]
  },
  {
   "cell_type": "code",
   "execution_count": 161,
   "metadata": {},
   "outputs": [],
   "source": [
    "for key in out_menge_1:\n",
    "    if pd.isna(key):\n",
    "        continue\n",
    "    try:\n",
    "        if categories[0] in out_menge_1[key]['twinning target']:\n",
    "            individual+=1\n",
    "        if categories[1] in out_menge_1[key]['twinning target']:\n",
    "            sys_of_sys+=1\n",
    "        if categories[2] in out_menge_1[key]['twinning target']:\n",
    "            bio+=1\n",
    "        if categories[3] in out_menge_1[key]['twinning target']:\n",
    "            product+=1\n",
    "        if categories[4] in out_menge_1[key]['twinning target']:\n",
    "            process+=1\n",
    "        if categories[5] in out_menge_1[key]['twinning target']:\n",
    "            other+=1\n",
    "    \n",
    "    except TypeError as err:\n",
    "        NotDefined+=1"
   ]
  },
  {
   "cell_type": "code",
   "execution_count": 162,
   "metadata": {},
   "outputs": [
    {
     "data": {
      "image/png": "[encoded data removed]",
      "text/plain": [
       "<Figure size 640x480 with 1 Axes>"
      ]
     },
     "metadata": {},
     "output_type": "display_data"
    }
   ],
   "source": [
    "import matplotlib.pyplot as plt\n",
    "\n",
    "fig, ax = plt.subplots()\n",
    "\n",
    "fruits = ['individual', 'sys_of_sys', 'bio', 'product', 'process', 'other', 'NotDefined']\n",
    "counts = [individual, sys_of_sys, bio, product, process, other, NotDefined]\n",
    "bar_labels = ['individual', 'sys_of_sys', 'biological', 'product', 'process', 'other', 'NotDefined']\n",
    "bar_colors = ['tab:blue', 'tab:blue', 'tab:blue', 'tab:blue', 'tab:blue', 'tab:blue']\n",
    "\n",
    "ax.bar(fruits, counts, label=bar_labels, color=bar_colors)\n",
    "\n",
    "ax.set_yticks([2,4,6,8,10,12,14,16,18,20])\n",
    "ax.set_ylim([0, 20])\n",
    "ax.set_title('Papers using Model-driven engineering for Digital Twins')\n",
    "\n",
    "plt.savefig('target/img/twinningtarget.png')\n",
    "\n",
    "plt.show()"
   ]
  },
  {
   "cell_type": "code",
   "execution_count": 163,
   "metadata": {},
   "outputs": [],
   "source": [
    "del individual \n",
    "del sys_of_sys \n",
    "del bio \n",
    "del product \n",
    "del process \n",
    "del other\n",
    "del categories\n",
    "del ax \n",
    "del fruits\n",
    "del counts\n",
    "del bar_colors\n",
    "del bar_labels\n",
    "del fig"
   ]
  },
  {
   "cell_type": "markdown",
   "metadata": {},
   "source": [
    "### twin life cycle phase"
   ]
  },
  {
   "cell_type": "markdown",
   "metadata": {},
   "source": [
    "### use case domain"
   ]
  },
  {
   "cell_type": "markdown",
   "metadata": {},
   "source": [
    "### Technological Readiness"
   ]
  },
  {
   "cell_type": "markdown",
   "metadata": {},
   "source": [
    "### modeling language"
   ]
  },
  {
   "cell_type": "markdown",
   "metadata": {},
   "source": [
    "## MDE"
   ]
  },
  {
   "cell_type": "markdown",
   "metadata": {},
   "source": [
    "### model type"
   ]
  },
  {
   "cell_type": "code",
   "execution_count": 164,
   "metadata": {},
   "outputs": [],
   "source": [
    "structure = 0\n",
    "behavior = 0\n",
    "physics = 0\n",
    "rule = 0\n",
    "geometry = 0\n",
    "NotDefined = 0"
   ]
  },
  {
   "cell_type": "code",
   "execution_count": 165,
   "metadata": {},
   "outputs": [],
   "source": [
    "for key in out_menge_1:\n",
    "    if pd.isna(key):\n",
    "        continue\n",
    "    for entry in out_menge_1[key][modelTrafos]:\n",
    "        slcp = json.loads(out_menge_1[key][modelTrafos][entry])['model type']\n",
    "        if slcp is None:\n",
    "            NotDefined+=1\n",
    "            continue\n",
    "        if \"structure\" in slcp:\n",
    "            structure+=1\n",
    "        if \"behavior\" in slcp:\n",
    "            behavior+=1\n",
    "        if \"physics\" in slcp:\n",
    "            physics+=1\n",
    "        if \"rule\" in slcp:\n",
    "            rule+=1\n",
    "        if \"geometry\" in slcp:\n",
    "            geometry+=1"
   ]
  },
  {
   "cell_type": "code",
   "execution_count": 166,
   "metadata": {},
   "outputs": [
    {
     "data": {
      "image/png": "[encoded data removed]",
      "text/plain": [
       "<Figure size 640x480 with 1 Axes>"
      ]
     },
     "metadata": {},
     "output_type": "display_data"
    }
   ],
   "source": [
    "import matplotlib.pyplot as plt\n",
    "\n",
    "fig, ax = plt.subplots()\n",
    "\n",
    "fruits = ['structure', 'behavior', 'physics', 'rule', 'geometry', 'NotDefined']\n",
    "counts = [structure, behavior, physics, rule, geometry, NotDefined]\n",
    "bar_labels = ['structure', 'behavior', 'physics', 'rule', 'geometry', 'NotDefined']\n",
    "bar_colors = ['tab:blue', 'tab:blue', 'tab:blue', 'tab:blue', 'tab:blue', 'tab:blue']\n",
    "\n",
    "ax.bar(fruits, counts, label=bar_labels, color=bar_colors)\n",
    "\n",
    "ax.set_ylabel('amount')\n",
    "ax.set_title('distribution of model types used in research')\n",
    "\n",
    "plt.savefig('target/img/modelTypes.png')\n",
    "\n",
    "plt.show()"
   ]
  },
  {
   "cell_type": "code",
   "execution_count": 167,
   "metadata": {},
   "outputs": [],
   "source": [
    "del structure\n",
    "del behavior\n",
    "del physics\n",
    "del rule\n",
    "del geometry\n",
    "del NotDefined \n",
    "del slcp\n",
    "del ax \n",
    "del fruits\n",
    "del counts\n",
    "del bar_colors\n",
    "del bar_labels\n",
    "del fig"
   ]
  },
  {
   "cell_type": "markdown",
   "metadata": {},
   "source": []
  },
  {
   "cell_type": "markdown",
   "metadata": {},
   "source": [
    "### model processing technique + from&to"
   ]
  },
  {
   "cell_type": "code",
   "execution_count": null,
   "metadata": {},
   "outputs": [],
   "source": []
  },
  {
   "cell_type": "markdown",
   "metadata": {},
   "source": [
    "### purpose of MDE technique"
   ]
  },
  {
   "cell_type": "code",
   "execution_count": null,
   "metadata": {},
   "outputs": [],
   "source": []
  },
  {
   "cell_type": "markdown",
   "metadata": {},
   "source": [
    "### purpose/benefit of using models"
   ]
  },
  {
   "cell_type": "markdown",
   "metadata": {},
   "source": [
    "## to json"
   ]
  },
  {
   "cell_type": "code",
   "execution_count": 57,
   "metadata": {},
   "outputs": [],
   "source": [
    "json_object = json.dumps(out_menge_1, indent = 4) "
   ]
  },
  {
   "cell_type": "code",
   "execution_count": 24,
   "metadata": {},
   "outputs": [],
   "source": [
    "try:\n",
    "    os.remove(\"target/json/data_consolidated_semistructured.json\")\n",
    "except OSError as error:\n",
    "    print(error)"
   ]
  },
  {
   "cell_type": "code",
   "execution_count": 170,
   "metadata": {},
   "outputs": [
    {
     "name": "stdout",
     "output_type": "stream",
     "text": [
      "[WinError 183] Eine Datei kann nicht erstellt werden, wenn sie bereits vorhanden ist: 'target/json/'\n"
     ]
    }
   ],
   "source": [
    "try:\n",
    "    os.mkdir('target/json/')\n",
    "except OSError as error:\n",
    "    print(error)"
   ]
  },
  {
   "cell_type": "code",
   "execution_count": 58,
   "metadata": {},
   "outputs": [],
   "source": [
    "with open(\"target/json/data_consolidated_semistructured.json\", \"w\") as outfile:\n",
    "    outfile.write(json_object)"
   ]
  },
  {
   "cell_type": "markdown",
   "metadata": {},
   "source": [
    "## eine runde fegen"
   ]
  },
  {
   "cell_type": "code",
   "execution_count": 172,
   "metadata": {},
   "outputs": [],
   "source": [
    "del json_object\n",
    "del outfile\n",
    "del title\n",
    "del row\n",
    "del key\n",
    "del entry\n",
    "del index"
   ]
  }
 ],
 "metadata": {
  "kernelspec": {
   "display_name": "Python 3 (ipykernel)",
   "language": "python",
   "name": "python3"
  },
  "language_info": {
   "codemirror_mode": {
    "name": "ipython",
    "version": 3
   },
   "file_extension": ".py",
   "mimetype": "text/x-python",
   "name": "python",
   "nbconvert_exporter": "python",
   "pygments_lexer": "ipython3",
   "version": "3.10.3"
  }
 },
 "nbformat": 4,
 "nbformat_minor": 2
}
