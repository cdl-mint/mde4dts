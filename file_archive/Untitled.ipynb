{
 "cells": [
  {
   "cell_type": "code",
   "execution_count": 1,
   "id": "6eeffd1e",
   "metadata": {},
   "outputs": [],
   "source": [
    "import pandas as pd"
   ]
  },
  {
   "cell_type": "code",
   "execution_count": 17,
   "id": "fad89a35",
   "metadata": {},
   "outputs": [
    {
     "data": {
      "text/plain": [
       "(1459, 1)"
      ]
     },
     "execution_count": 17,
     "metadata": {},
     "output_type": "execute_result"
    }
   ],
   "source": [
    "titles = pd.read_csv(\"snowballing_merged.csv\", sep=\";\", encoding=\"latin-1\")\n",
    "titles.shape"
   ]
  },
  {
   "cell_type": "code",
   "execution_count": 18,
   "id": "ba574d5b",
   "metadata": {},
   "outputs": [],
   "source": [
    "titles_unique = titles[\"Title\"].unique()"
   ]
  },
  {
   "cell_type": "code",
   "execution_count": 19,
   "id": "5ee423b8",
   "metadata": {},
   "outputs": [
    {
     "data": {
      "text/plain": [
       "(1279, 1)"
      ]
     },
     "execution_count": 19,
     "metadata": {},
     "output_type": "execute_result"
    }
   ],
   "source": [
    "titles = pd.DataFrame(titles_unique, columns=[\"Title\"])\n",
    "titles[\"Title\"] = titles[\"Title\"].str.lower()\n",
    "titles.shape"
   ]
  },
  {
   "cell_type": "code",
   "execution_count": 21,
   "id": "97b84e01",
   "metadata": {},
   "outputs": [],
   "source": [
    "search_results = pd.read_csv(\"./data/search_results.csv\", sep=\";\", encoding=\"latin-1\")\n",
    "search_results[\"Title\"] = search_results[\"Title\"].str.lower()"
   ]
  },
  {
   "cell_type": "code",
   "execution_count": 22,
   "id": "88a31609",
   "metadata": {},
   "outputs": [],
   "source": [
    "diff = titles[\"Title\"][~titles[\"Title\"].isin(search_results[\"Title\"])]"
   ]
  },
  {
   "cell_type": "code",
   "execution_count": 23,
   "id": "fa582276",
   "metadata": {},
   "outputs": [
    {
     "data": {
      "text/plain": [
       "(1238,)"
      ]
     },
     "execution_count": 23,
     "metadata": {},
     "output_type": "execute_result"
    }
   ],
   "source": [
    "diff.shape"
   ]
  },
  {
   "cell_type": "code",
   "execution_count": 24,
   "id": "249678eb",
   "metadata": {},
   "outputs": [],
   "source": [
    "diff.to_csv(\"snowballing_cleaned.csv\", sep=\";\")"
   ]
  },
  {
   "cell_type": "code",
   "execution_count": null,
   "id": "40292879",
   "metadata": {},
   "outputs": [],
   "source": []
  }
 ],
 "metadata": {
  "kernelspec": {
   "display_name": "Python 3 (ipykernel)",
   "language": "python",
   "name": "python3"
  },
  "language_info": {
   "codemirror_mode": {
    "name": "ipython",
    "version": 3
   },
   "file_extension": ".py",
   "mimetype": "text/x-python",
   "name": "python",
   "nbconvert_exporter": "python",
   "pygments_lexer": "ipython3",
   "version": "3.10.3"
  }
 },
 "nbformat": 4,
 "nbformat_minor": 5
}
