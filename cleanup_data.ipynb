{
 "cells": [
  {
   "cell_type": "markdown",
   "metadata": {},
   "source": [
    "# packages"
   ]
  },
  {
   "cell_type": "code",
   "execution_count": 22,
   "metadata": {},
   "outputs": [],
   "source": [
    "import subprocess\n",
    "import sys\n",
    "\n",
    "def install(package):\n",
    "    subprocess.check_call([sys.executable, \"-m\", \"pip\", \"install\", package])\n",
    "\n",
    "install(\"pandas\")\n",
    "install(\"numpy\")\n",
    "install(\"matplotlib\")"
   ]
  },
  {
   "cell_type": "markdown",
   "metadata": {},
   "source": [
    "# imports"
   ]
  },
  {
   "cell_type": "code",
   "execution_count": 23,
   "metadata": {},
   "outputs": [],
   "source": [
    "import pandas as pd\n",
    "import numpy as np\n",
    "import json\n",
    "import csv\n",
    "import os"
   ]
  },
  {
   "cell_type": "markdown",
   "metadata": {},
   "source": [
    "# Reading"
   ]
  },
  {
   "cell_type": "code",
   "execution_count": 24,
   "metadata": {},
   "outputs": [],
   "source": [
    "df = pd.read_csv(filepath_or_buffer=\"data/extraction consolidation results_V0_1.csv\",sep=\"|\")"
   ]
  },
  {
   "cell_type": "code",
   "execution_count": 25,
   "metadata": {},
   "outputs": [],
   "source": [
    "result = df['Title'].to_list()"
   ]
  },
  {
   "cell_type": "code",
   "execution_count": 26,
   "metadata": {},
   "outputs": [
    {
     "name": "stdout",
     "output_type": "stream",
     "text": [
      "30\n"
     ]
    }
   ],
   "source": [
    "result = list(dict.fromkeys(result))\n",
    "print(len(result))"
   ]
  },
  {
   "cell_type": "code",
   "execution_count": 27,
   "metadata": {},
   "outputs": [],
   "source": [
    "titles = list(df.columns)"
   ]
  },
  {
   "cell_type": "code",
   "execution_count": 28,
   "metadata": {},
   "outputs": [],
   "source": [
    "metadata = pd.read_csv(\"./data/search_results.csv\", sep=\";\", encoding=\"latin-1\")"
   ]
  },
  {
   "cell_type": "code",
   "execution_count": 29,
   "metadata": {},
   "outputs": [],
   "source": [
    "metadata = metadata.drop_duplicates(subset=['Title'])"
   ]
  },
  {
   "cell_type": "code",
   "execution_count": null,
   "metadata": {},
   "outputs": [],
   "source": []
  },
  {
   "cell_type": "code",
   "execution_count": 30,
   "metadata": {},
   "outputs": [],
   "source": [
    "data = df.merge(metadata, how='left', on='Title')\n",
    "#unique function"
   ]
  },
  {
   "cell_type": "code",
   "execution_count": 31,
   "metadata": {},
   "outputs": [],
   "source": [
    "del metadata\n",
    "del df\n",
    "del titles"
   ]
  },
  {
   "cell_type": "code",
   "execution_count": 32,
   "metadata": {},
   "outputs": [
    {
     "data": {
      "text/plain": [
       "Index(['Title', 'DT Definition', 'modeling language',\n",
       "       'note on modeling language', 'model type', 'model processing technique',\n",
       "       'model usage technique', 'source', 'target',\n",
       "       'purpose of MDE application', 'purpose of DT', 'use case domain',\n",
       "       'system lifecycle phase', 'twinning target', 'twin lifecycle phase',\n",
       "       'purpose /expected benefit of using models', 'open challenges',\n",
       "       'Technological Readiness Level', 'notes', 'Use Case',\n",
       "       'Publication Title', 'Authors', 'Publication Year',\n",
       "       'Document Identifier', 'Publisher'],\n",
       "      dtype='object')"
      ]
     },
     "execution_count": 32,
     "metadata": {},
     "output_type": "execute_result"
    }
   ],
   "source": [
    "data.columns"
   ]
  },
  {
   "cell_type": "markdown",
   "metadata": {},
   "source": [
    "# Formatting Data"
   ]
  },
  {
   "cell_type": "code",
   "execution_count": 33,
   "metadata": {},
   "outputs": [],
   "source": [
    "out_menge_1 = {}\n",
    "for key in result:\n",
    "    out_menge_1[key] = {'DT_Definition':None,'data':{}, 'open challenges':None, 'Technological Readiness Level':None, 'notes':None, 'Use Case':None, 'twinning target': None}"
   ]
  },
  {
   "cell_type": "code",
   "execution_count": 34,
   "metadata": {},
   "outputs": [],
   "source": [
    "data.reset_index()\n",
    "for title in result:\n",
    "    rownum = 0\n",
    "    \n",
    "    for index, row in data.iterrows():\n",
    "        if title == row['Title'] and not pd.isna(title):\n",
    "            rowcopy = row.__deepcopy__()\n",
    "            \n",
    "            if row['DT Definition'] is not None and not pd.isna(row['DT Definition']):\n",
    "                out_menge_1[title]['DT_Definition'] = row['DT Definition']\n",
    "\n",
    "            if row['purpose of MDE application'] is not None and not pd.isna(row['purpose of MDE application']):\n",
    "                out_menge_1[title]['purpose of MDE application'] = row['purpose of MDE application']\n",
    "\n",
    "            if row['purpose of DT'] is not None and not pd.isna(row['purpose of DT']):\n",
    "                out_menge_1[title]['purpose of DT'] = row['purpose of DT']\n",
    "\n",
    "            if row['use case domain'] is not None and not pd.isna(row['use case domain']):\n",
    "                out_menge_1[title]['use case domain'] = row['use case domain']\n",
    "            \n",
    "            if row['twinning target'] is not None and not pd.isna(row['twinning target']):\n",
    "                if out_menge_1[title]['twinning target'] is None:\n",
    "                    out_menge_1[title]['twinning target'] = row['twinning target']\n",
    "                else:\n",
    "                    out_menge_1[title]['twinning target'] += \"; \"\n",
    "                    out_menge_1[title]['twinning target'] +=  row['twinning target']\n",
    "\n",
    "            if row['purpose /expected benefit of using models'] is not None and not pd.isna(row['purpose /expected benefit of using models']):\n",
    "                out_menge_1[title]['purpose /expected benefit of using models'] = row['purpose /expected benefit of using models']\n",
    "\n",
    "            if row['open challenges'] is not None and not pd.isna(row['open challenges']):\n",
    "                out_menge_1[title]['open challenges'] = row['open challenges']\n",
    "\n",
    "            if row['Technological Readiness Level'] is not None and not pd.isna(row['Technological Readiness Level']):\n",
    "                out_menge_1[title]['Technological Readiness Level'] = row['Technological Readiness Level']\n",
    "            \n",
    "            if row['notes'] is not None and not pd.isna(row['notes']):\n",
    "                out_menge_1[title]['notes'] = row['notes']\n",
    "\n",
    "            if row['Use Case'] is not None and not pd.isna(row['Use Case']):\n",
    "                out_menge_1[title]['Use Case'] = row['Use Case']\n",
    "\n",
    "            if row['Publication Title'] is not None and not pd.isna(row['Publication Title']):\n",
    "                out_menge_1[title]['Publication Title'] = row['Publication Title']\n",
    "            \n",
    "            if row['Authors'] is not None and not pd.isna(row['Authors']):\n",
    "                out_menge_1[title]['Authors'] = row['Authors']\n",
    "            \n",
    "            if row['Publication Year'] is not None and not pd.isna(row['Publication Year']):\n",
    "                out_menge_1[title]['Publication Year'] = row['Publication Year']\n",
    "\n",
    "            if row['Document Identifier'] is not None and not pd.isna(row['Document Identifier']):\n",
    "                out_menge_1[title]['Document Identifier'] = row['Document Identifier']\n",
    "\n",
    "            if row['Publisher'] is not None and not pd.isna(row['Publisher']):\n",
    "                out_menge_1[title]['Publisher'] = row['Publisher']\n",
    "\n",
    "            # multiple Trafos\n",
    "            rowjson = rowcopy.drop(row.iloc[[0,1,9,10,11,13,15,16,17,18,19,20,21,22,23,24]].index).to_json()\n",
    "            out_menge_1[title]['data'][rownum] = rowjson\n",
    "            #out_menge_1[title]['data'][rownum].append(rowjson)\n",
    "            rownum+=1\n"
   ]
  },
  {
   "cell_type": "code",
   "execution_count": 35,
   "metadata": {},
   "outputs": [],
   "source": [
    "del rowjson\n",
    "del rowcopy\n",
    "del result\n",
    "del rownum"
   ]
  },
  {
   "cell_type": "code",
   "execution_count": 36,
   "metadata": {},
   "outputs": [
    {
     "name": "stdout",
     "output_type": "stream",
     "text": [
      "[WinError 183] Eine Datei kann nicht erstellt werden, wenn sie bereits vorhanden ist: 'target/'\n"
     ]
    }
   ],
   "source": [
    "try:\n",
    "    os.mkdir('target/')\n",
    "    os.mkdir('target/img/')\n",
    "except OSError as error:\n",
    "    print(error)"
   ]
  },
  {
   "cell_type": "markdown",
   "metadata": {},
   "source": [
    "# Data analysis"
   ]
  },
  {
   "cell_type": "markdown",
   "metadata": {},
   "source": [
    "## Year counter"
   ]
  },
  {
   "cell_type": "code",
   "execution_count": 37,
   "metadata": {},
   "outputs": [],
   "source": [
    "year2020 = 0\n",
    "year2021 = 0\n",
    "year2022 = 0\n",
    "year2023 = 0"
   ]
  },
  {
   "cell_type": "code",
   "execution_count": 38,
   "metadata": {},
   "outputs": [],
   "source": [
    "for key in out_menge_1:\n",
    "    if pd.isna(key):\n",
    "        continue\n",
    "    if out_menge_1[key]['Publication Year'] == 2020:\n",
    "        year2020+=1\n",
    "    if out_menge_1[key]['Publication Year'] == 2021:\n",
    "        year2021+=1\n",
    "    if out_menge_1[key]['Publication Year'] == 2022:\n",
    "        year2022+=1\n",
    "    if out_menge_1[key]['Publication Year'] == 2023:\n",
    "        year2023+=1"
   ]
  },
  {
   "cell_type": "code",
   "execution_count": 39,
   "metadata": {},
   "outputs": [
    {
     "data": {
      "image/png": "[encoded data removed]",
      "text/plain": [
       "<Figure size 640x480 with 1 Axes>"
      ]
     },
     "metadata": {},
     "output_type": "display_data"
    }
   ],
   "source": [
    "import matplotlib.pyplot as plt\n",
    "\n",
    "fig, ax = plt.subplots()\n",
    "\n",
    "fruits = ['2020', '2021', '2022', '2023']\n",
    "counts = [year2020, year2021, year2022, year2023]\n",
    "bar_labels = [2020,2021,2022,2023]\n",
    "bar_colors = ['tab:blue', 'tab:blue', 'tab:blue', 'tab:blue']\n",
    "\n",
    "ax.bar(fruits, counts, label=bar_labels, color=bar_colors)\n",
    "\n",
    "ax.set_ylabel('amount')\n",
    "ax.set_title('Papers using Model-driven engineering for Digital Twins')\n",
    "\n",
    "plt.savefig('target/img/years.png')\n",
    "\n",
    "plt.show()"
   ]
  },
  {
   "cell_type": "code",
   "execution_count": 40,
   "metadata": {},
   "outputs": [],
   "source": [
    "del year2020 \n",
    "del year2021 \n",
    "del year2022 \n",
    "del year2023 \n",
    "del ax \n",
    "del fruits\n",
    "del counts\n",
    "del bar_colors\n",
    "del bar_labels\n",
    "del fig"
   ]
  },
  {
   "cell_type": "markdown",
   "metadata": {},
   "source": [
    "## system life cycle"
   ]
  },
  {
   "cell_type": "code",
   "execution_count": 41,
   "metadata": {},
   "outputs": [],
   "source": [
    "Design = 0\n",
    "Implement = 0\n",
    "Operate = 0\n",
    "Maintain = 0\n",
    "NotDefined = 0"
   ]
  },
  {
   "cell_type": "code",
   "execution_count": 42,
   "metadata": {},
   "outputs": [],
   "source": [
    "for key in out_menge_1:\n",
    "    if pd.isna(key):\n",
    "        continue\n",
    "    for entry in out_menge_1[key]['data']:\n",
    "        #guard with if trafo\n",
    "        slcp = json.loads(out_menge_1[key]['data'][entry])['system lifecycle phase']\n",
    "        if slcp is None:\n",
    "            NotDefined+=1\n",
    "            continue\n",
    "        if \"Design\" in slcp:\n",
    "            Design+=1\n",
    "        if \"Implement\" in slcp:\n",
    "            Implement+=1\n",
    "        if \"Operate\" in slcp:\n",
    "            Operate+=1\n",
    "        if \"Maintain\" in slcp:\n",
    "            Maintain+=1\n",
    "        "
   ]
  },
  {
   "cell_type": "code",
   "execution_count": 43,
   "metadata": {},
   "outputs": [
    {
     "data": {
      "image/png": "[encoded data removed]",
      "text/plain": [
       "<Figure size 640x480 with 1 Axes>"
      ]
     },
     "metadata": {},
     "output_type": "display_data"
    }
   ],
   "source": [
    "import matplotlib.pyplot as plt\n",
    "\n",
    "fig, ax = plt.subplots()\n",
    "\n",
    "fruits = ['Design', 'Implement', 'Operate', 'Maintain', 'NotDefined']\n",
    "counts = [Design, Implement, Operate, Maintain, NotDefined]\n",
    "bar_labels = ['Design', 'Implement', 'Operate', 'Maintain', 'NotDefined']\n",
    "bar_colors = ['tab:blue', 'tab:blue', 'tab:blue', 'tab:blue', 'tab:blue']\n",
    "\n",
    "ax.bar(fruits, counts, label=bar_labels, color=bar_colors)\n",
    "\n",
    "ax.set_ylabel('amount')\n",
    "ax.set_title('SDLC Lifecycle phase where MDE is used')\n",
    "\n",
    "plt.savefig('target/img/Lifecycle_phase.png')\n",
    "\n",
    "#savefig(fname, *, dpi='figure', format=None, metadata=None,\n",
    "#        bbox_inches=None, pad_inches=0.1,\n",
    "#        facecolor='auto', edgecolor='auto',\n",
    "#        backend=None, **kwargs\n",
    "#       )\n",
    "plt.show()"
   ]
  },
  {
   "cell_type": "markdown",
   "metadata": {},
   "source": [
    "was sind die modelle\n",
    "gibt es einen Trend Authoren Und Modelle\n",
    "Zeit Modell Trends\n",
    "\n",
    "\n",
    "Modell Trafo in Zusammenhand zur Definition\n",
    "\n",
    "\n",
    "2.1: What are twinned systems, and what is the purpose of the DT in these systems?\n",
    "2.2: Which techniques are applied in which domains?\n",
    "2.3: Which techniques are applied in which lifecycle phases of the twin/twinned system?"
   ]
  },
  {
   "cell_type": "code",
   "execution_count": 44,
   "metadata": {},
   "outputs": [],
   "source": [
    "del Design \n",
    "del Implement \n",
    "del Operate \n",
    "del Maintain \n",
    "del NotDefined \n",
    "del slcp\n",
    "del ax \n",
    "del fruits\n",
    "del counts\n",
    "del bar_colors\n",
    "del bar_labels\n",
    "del fig"
   ]
  },
  {
   "cell_type": "markdown",
   "metadata": {},
   "source": [
    "## DT Definition"
   ]
  },
  {
   "cell_type": "code",
   "execution_count": null,
   "metadata": {},
   "outputs": [],
   "source": []
  },
  {
   "cell_type": "markdown",
   "metadata": {},
   "source": [
    "## DT"
   ]
  },
  {
   "cell_type": "markdown",
   "metadata": {},
   "source": [
    "### twinning target"
   ]
  },
  {
   "cell_type": "code",
   "execution_count": 45,
   "metadata": {},
   "outputs": [],
   "source": [
    "individual = 0\n",
    "sys_of_sys = 0\n",
    "bio = 0\n",
    "product = 0\n",
    "process = 0\n",
    "other = 0\n",
    "NotDefined = 0"
   ]
  },
  {
   "cell_type": "code",
   "execution_count": 46,
   "metadata": {},
   "outputs": [],
   "source": [
    "categories = ['Individual Systems, such as automated cars (Atorf and Roßmann, 2018), gas turbines (Dawes et al., 2019), or manufacturing machines (Debroy et al., 2017).',\n",
    "              'Systems of Systems, such as complete factories (Biesinger et al., 2018), oil wells (Kosenkov et al., 2018), or railway systems (Vatn, 2018).',\n",
    "              'Biological Beings, such as factory employees (Graessler and Poehler, 2018), fishes (Joordens and Jamshidi, 2018), or sports players (Balachandar and Chinnaiyan, 2019).',\n",
    "              'Products, such as reinforced plastics (Wang et al., 2018), sunroof ring frames (Wärmefjord et al., 2017), or wearable masks (Zheng et al., 2018).',\n",
    "              'Processes, e.g., business processes (Rambow-Hoeschele et al., 2018), medical processes (Karakra et al., 2018), or recycling processes (Popa et al., 2018).',\n",
    "              'Other counterparts, e.g., arbitrary physical bodies (El Saddik, 2018) or unspecified manufacturing resources (Lu and Xu, 2018b).']"
   ]
  },
  {
   "cell_type": "code",
   "execution_count": 47,
   "metadata": {},
   "outputs": [],
   "source": [
    "for key in out_menge_1:\n",
    "    if pd.isna(key):\n",
    "        continue\n",
    "    try:\n",
    "        if categories[0] in out_menge_1[key]['twinning target']:\n",
    "            individual+=1\n",
    "        if categories[1] in out_menge_1[key]['twinning target']:\n",
    "            sys_of_sys+=1\n",
    "        if categories[2] in out_menge_1[key]['twinning target']:\n",
    "            bio+=1\n",
    "        if categories[3] in out_menge_1[key]['twinning target']:\n",
    "            product+=1\n",
    "        if categories[4] in out_menge_1[key]['twinning target']:\n",
    "            process+=1\n",
    "        if categories[5] in out_menge_1[key]['twinning target']:\n",
    "            other+=1\n",
    "    \n",
    "    except TypeError as err:\n",
    "        NotDefined+=1"
   ]
  },
  {
   "cell_type": "code",
   "execution_count": 48,
   "metadata": {},
   "outputs": [
    {
     "data": {
      "image/png": "[encoded data removed]",
      "text/plain": [
       "<Figure size 640x480 with 1 Axes>"
      ]
     },
     "metadata": {},
     "output_type": "display_data"
    }
   ],
   "source": [
    "import matplotlib.pyplot as plt\n",
    "\n",
    "fig, ax = plt.subplots()\n",
    "\n",
    "fruits = ['individual', 'sys_of_sys', 'bio', 'product', 'process', 'other', 'NotDefined']\n",
    "counts = [individual, sys_of_sys, bio, product, process, other, NotDefined]\n",
    "bar_labels = ['individual', 'sys_of_sys', 'biological', 'product', 'process', 'other', 'NotDefined']\n",
    "bar_colors = ['tab:blue', 'tab:blue', 'tab:blue', 'tab:blue', 'tab:blue', 'tab:blue']\n",
    "\n",
    "ax.bar(fruits, counts, label=bar_labels, color=bar_colors)\n",
    "\n",
    "ax.set_yticks([2,4,6,8,10,12,14,16,18,20])\n",
    "ax.set_ylim([0, 20])\n",
    "ax.set_title('Papers using Model-driven engineering for Digital Twins')\n",
    "\n",
    "plt.savefig('target/img/twinningtarget.png')\n",
    "\n",
    "plt.show()"
   ]
  },
  {
   "cell_type": "code",
   "execution_count": 49,
   "metadata": {},
   "outputs": [],
   "source": [
    "del individual \n",
    "del sys_of_sys \n",
    "del bio \n",
    "del product \n",
    "del process \n",
    "del other\n",
    "del categories\n",
    "del ax \n",
    "del fruits\n",
    "del counts\n",
    "del bar_colors\n",
    "del bar_labels\n",
    "del fig"
   ]
  },
  {
   "cell_type": "markdown",
   "metadata": {},
   "source": [
    "### twin life cycle phase"
   ]
  },
  {
   "cell_type": "markdown",
   "metadata": {},
   "source": [
    "### use case domain"
   ]
  },
  {
   "cell_type": "markdown",
   "metadata": {},
   "source": [
    "### Technological Readiness"
   ]
  },
  {
   "cell_type": "markdown",
   "metadata": {},
   "source": [
    "### modeling language"
   ]
  },
  {
   "cell_type": "markdown",
   "metadata": {},
   "source": [
    "## MDE"
   ]
  },
  {
   "cell_type": "markdown",
   "metadata": {},
   "source": [
    "### model type"
   ]
  },
  {
   "cell_type": "code",
   "execution_count": 50,
   "metadata": {},
   "outputs": [],
   "source": [
    "structure = 0\n",
    "behavior = 0\n",
    "physics = 0\n",
    "rule = 0\n",
    "geometry = 0\n",
    "NotDefined = 0"
   ]
  },
  {
   "cell_type": "code",
   "execution_count": 51,
   "metadata": {},
   "outputs": [],
   "source": [
    "for key in out_menge_1:\n",
    "    if pd.isna(key):\n",
    "        continue\n",
    "    for entry in out_menge_1[key]['data']:\n",
    "        slcp = json.loads(out_menge_1[key]['data'][entry])['model type']\n",
    "        if slcp is None:\n",
    "            NotDefined+=1\n",
    "            continue\n",
    "        if \"structure\" in slcp:\n",
    "            structure+=1\n",
    "        if \"behavior\" in slcp:\n",
    "            behavior+=1\n",
    "        if \"physics\" in slcp:\n",
    "            physics+=1\n",
    "        if \"rule\" in slcp:\n",
    "            rule+=1\n",
    "        if \"geometry\" in slcp:\n",
    "            geometry+=1"
   ]
  },
  {
   "cell_type": "code",
   "execution_count": 52,
   "metadata": {},
   "outputs": [
    {
     "data": {
      "image/png": "[encoded data removed]",
      "text/plain": [
       "<Figure size 640x480 with 1 Axes>"
      ]
     },
     "metadata": {},
     "output_type": "display_data"
    }
   ],
   "source": [
    "import matplotlib.pyplot as plt\n",
    "\n",
    "fig, ax = plt.subplots()\n",
    "\n",
    "fruits = ['structure', 'behavior', 'physics', 'rule', 'geometry', 'NotDefined']\n",
    "counts = [structure, behavior, physics, rule, geometry, NotDefined]\n",
    "bar_labels = ['structure', 'behavior', 'physics', 'rule', 'geometry', 'NotDefined']\n",
    "bar_colors = ['tab:blue', 'tab:blue', 'tab:blue', 'tab:blue', 'tab:blue', 'tab:blue']\n",
    "\n",
    "ax.bar(fruits, counts, label=bar_labels, color=bar_colors)\n",
    "\n",
    "ax.set_ylabel('amount')\n",
    "ax.set_title('distribution of model types used in research')\n",
    "\n",
    "plt.savefig('target/img/modelTypes.png')\n",
    "\n",
    "plt.show()"
   ]
  },
  {
   "cell_type": "code",
   "execution_count": 53,
   "metadata": {},
   "outputs": [],
   "source": [
    "del structure\n",
    "del behavior\n",
    "del physics\n",
    "del rule\n",
    "del geometry\n",
    "del NotDefined \n",
    "del slcp\n",
    "del ax \n",
    "del fruits\n",
    "del counts\n",
    "del bar_colors\n",
    "del bar_labels\n",
    "del fig"
   ]
  },
  {
   "cell_type": "markdown",
   "metadata": {},
   "source": []
  },
  {
   "cell_type": "markdown",
   "metadata": {},
   "source": [
    "### model processing technique + from&to"
   ]
  },
  {
   "cell_type": "code",
   "execution_count": null,
   "metadata": {},
   "outputs": [],
   "source": []
  },
  {
   "cell_type": "markdown",
   "metadata": {},
   "source": [
    "### purpose of MDE technique"
   ]
  },
  {
   "cell_type": "code",
   "execution_count": null,
   "metadata": {},
   "outputs": [],
   "source": []
  },
  {
   "cell_type": "markdown",
   "metadata": {},
   "source": [
    "### purpose/benefit of using models"
   ]
  },
  {
   "cell_type": "markdown",
   "metadata": {},
   "source": [
    "## to json"
   ]
  },
  {
   "cell_type": "code",
   "execution_count": 54,
   "metadata": {},
   "outputs": [
    {
     "name": "stdout",
     "output_type": "stream",
     "text": [
      "{\n",
      "    \"A framework for Model-Driven Engineering of resilient software-controlled systems\": {\n",
      "        \"DT_Definition\": \"dynamic virtual model of a system, processor, or service, with data (e.g., sensor data) from physical systems or processes integrated into it.; \\\"Software digital twins representations provide a key abstraction, providing an agile interface on hardware components, capturing operational behaviours of physical assets and processes, also providing refined and interpreted data, to enable diagnoses, predic\\u0002tive maintenance tasks, process plannings, process optimizations, virtual prototyping, and simulation.\\\"\",\n",
      "        \"data\": {\n",
      "            \"0\": \"{\\\"modeling language\\\":\\\"SysML BDD\\\",\\\"note on modeling language\\\":null,\\\"model type\\\":\\\"structure\\\",\\\"model processing technique\\\":\\\"Model to Model Transformation\\\",\\\"model usage technique\\\":null,\\\"source\\\":\\\"SysML BDD\\\",\\\"target\\\":\\\"Knowledge Base of software digital twins (Metamodel proposed in Figure 5 of the paper) -> in fact, this is the class diagram of their knowledge base\\\",\\\"system lifecycle phase\\\":\\\"Design\\\",\\\"twin lifecycle phase\\\":\\\"As-Designed\\\"}\",\n",
      "            \"1\": \"{\\\"modeling language\\\":\\\"Knowledge base model\\\",\\\"note on modeling language\\\":\\\"contribution of the paper\\\",\\\"model type\\\":null,\\\"model processing technique\\\":\\\"Model to Model Transformation\\\",\\\"model usage technique\\\":null,\\\"source\\\":\\\"Fault Trees\\\",\\\"target\\\":\\\"FaultTreeAnalyzer (metamodel proposed in Figure 8)\\\",\\\"system lifecycle phase\\\":\\\"Design\\\",\\\"twin lifecycle phase\\\":null}\"\n",
      "        },\n",
      "        \"open challenges\": null,\n",
      "        \"Technological Readiness Level\": \"1-3: die Technologie gibt's, evtl. am Toy Example gezeigt\",\n",
      "        \"notes\": null,\n",
      "        \"Use Case\": \"limited traffic zone access control\",\n",
      "        \"twinning target\": \"Individual Systems, such as automated cars (Atorf and Ro\\u00dfmann, 2018), gas turbines (Dawes et al., 2019), or manufacturing machines (Debroy et al., 2017).\",\n",
      "        \"purpose of MDE application\": \"reuse information created by reliability engineers (sysml) for concrete software implementation\",\n",
      "        \"purpose of DT\": \"mirror items for monitoring and control operations\",\n",
      "        \"use case domain\": \"H \\u00c2\\u2014 Transportation and Storage\",\n",
      "        \"purpose /expected benefit of using models\": \"formal specification of information in the form of models allows the application of MDE techniques (model transformations)\",\n",
      "        \"Publication Title\": \"Computing\",\n",
      "        \"Authors\": \"Parri J.; Patara F.; Sampietro S.; Vicario E.\",\n",
      "        \"Publication Year\": 2021.0,\n",
      "        \"Document Identifier\": \"Article\",\n",
      "        \"Publisher\": \"Springer\"\n",
      "    },\n",
      "    \"A Methodology for Digital Twin Modeling and Deployment for Industry 4.0\": {\n",
      "        \"DT_Definition\": \"\\\"The digital twin (DT) is a virtual representation of a physical object, which has been proposed as one of the key concepts for Industry 4.0.\\\"\",\n",
      "        \"data\": {\n",
      "            \"0\": \"{\\\"modeling language\\\":\\\"AutomationML\\\",\\\"note on modeling language\\\":null,\\\"model type\\\":\\\"structure\\\",\\\"model processing technique\\\":\\\"code generation\\\",\\\"model usage technique\\\":null,\\\"source\\\":\\\"AutomationML models\\\",\\\"target\\\":\\\"Restful API, Html pages\\\",\\\"system lifecycle phase\\\":\\\"Design\\\",\\\"twin lifecycle phase\\\":null}\",\n",
      "            \"1\": \"{\\\"modeling language\\\":\\\"AutomationML\\\",\\\"note on modeling language\\\":null,\\\"model type\\\":\\\"structure\\\",\\\"model processing technique\\\":\\\"model interpretation\\\",\\\"model usage technique\\\":null,\\\"source\\\":\\\"AutomationML models\\\",\\\"target\\\":\\\"DT runtime memory\\\",\\\"system lifecycle phase\\\":\\\"Operate\\\",\\\"twin lifecycle phase\\\":null}\"\n",
      "        },\n",
      "        \"open challenges\": null,\n",
      "        \"Technological Readiness Level\": \"1-3: die Technologie gibt's, evtl. am Toy Example gezeigt\",\n",
      "        \"notes\": null,\n",
      "        \"Use Case\": \"refinery automationsystem with four valves \",\n",
      "        \"twinning target\": \"Individual Systems, such as automated cars (Atorf and Ro\\u00dfmann, 2018), gas turbines (Dawes et al., 2019), or manufacturing machines (Debroy et al., 2017).; Systems of Systems, such as complete factories (Biesinger et al., 2018), oil wells (Kosenkov et al., 2018), or railway systems (Vatn, 2018).\",\n",
      "        \"purpose of MDE application\": \"Synchronizing data from the physical system with the model\",\n",
      "        \"purpose of DT\": \"Syncronizing data from the physical system with the model\",\n",
      "        \"use case domain\": \"C \\u00c2\\u2014 Manufacturing\",\n",
      "        \"purpose /expected benefit of using models\": \"model the physical device, serving as the virtual representation of the device; to model the DT itself, serving as a configuration reference for the deployment phase. ; reusability of similar basic components; model the physical device; serving as the virtual representation of the device; to model the DT itsel - serving as a configuration reference for the deployment phase\",\n",
      "        \"Publication Title\": \"Proceedings of the IEEE\",\n",
      "        \"Authors\": \"G. N. Schroeder; C. Steinmetz; R. N. Rodrigues; R. V. B. Henriques; A. Rettberg; C. E. Pereira\",\n",
      "        \"Publication Year\": 2021.0,\n",
      "        \"Document Identifier\": \"IEEE Journals\",\n",
      "        \"Publisher\": \"IEEE\"\n",
      "    },\n",
      "    \"A Novel Methodology to Construct Digital Twin Models for Spacecraft Operations Using Fault and Behaviour Trees\": {\n",
      "        \"DT_Definition\": \"\\\"a digital twin of a system consists of a set of models of the system, a set of digital shadows, and provides a set of services to use the data and models purposefully with respect to the original system [Da20].\\\"\",\n",
      "        \"data\": {\n",
      "            \"0\": \"{\\\"modeling language\\\":\\\"Fault Tree\\\",\\\"note on modeling language\\\":null,\\\"model type\\\":\\\"behavior\\\",\\\"model processing technique\\\":null,\\\"model usage technique\\\":null,\\\"source\\\":\\\"Fault Trees\\\",\\\"target\\\":\\\"Operations-Dedicated Models (ODMs)\\\",\\\"system lifecycle phase\\\":\\\"Operate\\\",\\\"twin lifecycle phase\\\":\\\"As-Operated\\\"}\",\n",
      "            \"1\": \"{\\\"modeling language\\\":\\\"ODM Models\\\",\\\"note on modeling language\\\":\\\"ODM = DT, but no dedicated language mentioned\\\",\\\"model type\\\":\\\"structure\\\",\\\"model processing technique\\\":null,\\\"model usage technique\\\":null,\\\"source\\\":null,\\\"target\\\":null,\\\"system lifecycle phase\\\":null,\\\"twin lifecycle phase\\\":null}\",\n",
      "            \"2\": \"{\\\"modeling language\\\":\\\"AutomationML\\\",\\\"note on modeling language\\\":null,\\\"model type\\\":\\\"structure\\\",\\\"model processing technique\\\":null,\\\"model usage technique\\\":null,\\\"source\\\":\\\"DT model (=ODM model)\\\",\\\"target\\\":\\\"UI-based monitoring tools\\\",\\\"system lifecycle phase\\\":\\\"Design\\\",\\\"twin lifecycle phase\\\":null}\"\n",
      "        },\n",
      "        \"open challenges\": null,\n",
      "        \"Technological Readiness Level\": \"1-3: die Technologie gibt's, evtl. am Toy Example gezeigt\",\n",
      "        \"notes\": null,\n",
      "        \"Use Case\": \"ground station of a spacecraft\",\n",
      "        \"twinning target\": \"Individual Systems, such as automated cars (Atorf and Ro\\u00dfmann, 2018), gas turbines (Dawes et al., 2019), or manufacturing machines (Debroy et al., 2017).\",\n",
      "        \"use case domain\": \"M \\u00c2\\u2014 Professional, Scientific and Technical Activities\",\n",
      "        \"Publication Title\": \"Proceedings of the 25th International Conference on Model Driven Engineering Languages and Systems: Companion Proceedings\",\n",
      "        \"Authors\": \"Christofi N,Pucel X\",\n",
      "        \"Publication Year\": 2022.0,\n",
      "        \"Document Identifier\": \"Conference Paper\",\n",
      "        \"Publisher\": \"ACM\"\n",
      "    },\n",
      "    \"AML4DT: A Model-Driven Framework for Developing and Maintaining Digital Twins with AutomationML\": {\n",
      "        \"DT_Definition\": \"a virtual model of a city\",\n",
      "        \"data\": {\n",
      "            \"0\": \"{\\\"modeling language\\\":\\\"Azure DTDL\\\",\\\"note on modeling language\\\":null,\\\"model type\\\":\\\"structure\\\",\\\"model processing technique\\\":null,\\\"model usage technique\\\":null,\\\"source\\\":\\\"AML\\\",\\\"target\\\":\\\"DT-MM\\\",\\\"system lifecycle phase\\\":\\\"Implement\\\",\\\"twin lifecycle phase\\\":\\\"As-Designed\\\"}\",\n",
      "            \"1\": \"{\\\"modeling language\\\":\\\"AutomationML\\\",\\\"note on modeling language\\\":\\\"focus on CAEX\\\",\\\"model type\\\":\\\"structure\\\",\\\"model processing technique\\\":null,\\\"model usage technique\\\":null,\\\"source\\\":\\\"DT-MM\\\",\\\"target\\\":\\\"Json Files\\\",\\\"system lifecycle phase\\\":\\\"Maintain\\\",\\\"twin lifecycle phase\\\":null}\",\n",
      "            \"2\": \"{\\\"modeling language\\\":\\\"DT-MM: platform-neutral DT metamodel\\\",\\\"note on modeling language\\\":\\\"contribution of the paper\\\",\\\"model type\\\":\\\"structure\\\",\\\"model processing technique\\\":null,\\\"model usage technique\\\":null,\\\"source\\\":null,\\\"target\\\":null,\\\"system lifecycle phase\\\":null,\\\"twin lifecycle phase\\\":null}\"\n",
      "        },\n",
      "        \"open challenges\": null,\n",
      "        \"Technological Readiness Level\": \"1-3: die Technologie gibt's, evtl. am Toy Example gezeigt\",\n",
      "        \"notes\": null,\n",
      "        \"Use Case\": \"Air Quality Opitmization System\",\n",
      "        \"twinning target\": \"Individual Systems, such as automated cars (Atorf and Ro\\u00dfmann, 2018), gas turbines (Dawes et al., 2019), or manufacturing machines (Debroy et al., 2017).\",\n",
      "        \"purpose of DT\": \"\\\"By integrating the digital and physical worlds, the DT enables real-time monitoring of systems and processes and helps, for example, to reduce downtimes and detect errors at an early stage\\\"; interface to running system\",\n",
      "        \"use case domain\": \"N \\u00c2\\u2014 Administrative and Support Service Activities\",\n",
      "        \"purpose /expected benefit of using models\": \"reduces complexity through abstraction, enables automation through model-driven engineering; represent information across asset lifecycle, reuse information based on machine-readable format of models\",\n",
      "        \"Publication Title\": \"2021 26th IEEE International Conference on Emerging Technologies and Factory Automation (ETFA )\",\n",
      "        \"Authors\": \"D. Lehner; S. Sint; M. Vierhauser; W. Narzt; M. Wimmer\",\n",
      "        \"Publication Year\": 2021.0,\n",
      "        \"Document Identifier\": \"IEEE Conferences\",\n",
      "        \"Publisher\": \"IEEE\"\n",
      "    },\n",
      "    \"Case Study on Automated and Continuous Reliability Assessment of Software-Defined Manufacturing Based on Digital Twins\": {\n",
      "        \"DT_Definition\": \"\\\"A digital twin is a software system consisting of models, data, and services to interact with a cyber-physical system for a particular purpose [3, 21, 22]. \\\"\",\n",
      "        \"data\": {\n",
      "            \"0\": \"{\\\"modeling language\\\":\\\"SysML v2\\\",\\\"note on modeling language\\\":null,\\\"model type\\\":\\\"structure\\\",\\\"model processing technique\\\":\\\"Model to Model Transformation\\\",\\\"model usage technique\\\":null,\\\"source\\\":\\\"SysML v2 structure models\\\",\\\"target\\\":\\\"Fault Trees\\\",\\\"system lifecycle phase\\\":\\\"Operate\\\",\\\"twin lifecycle phase\\\":\\\"As-Operated\\\"}\",\n",
      "            \"1\": \"{\\\"modeling language\\\":\\\"SysML v2\\\",\\\"note on modeling language\\\":null,\\\"model type\\\":\\\"behavior\\\",\\\"model processing technique\\\":\\\"Model to Model Transformation\\\",\\\"model usage technique\\\":null,\\\"source\\\":\\\"SysML v2 action sequences\\\",\\\"target\\\":\\\"Markov chains\\\",\\\"system lifecycle phase\\\":\\\"Operate\\\",\\\"twin lifecycle phase\\\":\\\"As-Operated\\\"}\"\n",
      "        },\n",
      "        \"open challenges\": null,\n",
      "        \"Technological Readiness Level\": \"1-3: die Technologie gibt's, evtl. am Toy Example gezeigt\",\n",
      "        \"notes\": null,\n",
      "        \"Use Case\": null,\n",
      "        \"twinning target\": \"Individual Systems, such as automated cars (Atorf and Ro\\u00dfmann, 2018), gas turbines (Dawes et al., 2019), or manufacturing machines (Debroy et al., 2017).\",\n",
      "        \"purpose of MDE application\": \"optimization\",\n",
      "        \"purpose of DT\": \"They serve to monitor, better understand and optimize the behavior of their respective counterparts.\",\n",
      "        \"use case domain\": \"C \\u00c2\\u2014 Manufacturing\",\n",
      "        \"Publication Title\": \"Proceedings of the 25th International Conference on Model Driven Engineering Languages and Systems: Companion Proceedings\",\n",
      "        \"Authors\": \"Grimmeisen P,Wortmann A,Morozov A\",\n",
      "        \"Publication Year\": 2022.0,\n",
      "        \"Document Identifier\": \"Conference Paper\",\n",
      "        \"Publisher\": \"ACM\"\n",
      "    },\n",
      "    \"Combining Low-Code Programming and SDL-Based Modeling with Snap! in the Industry 4.0 Context\": {\n",
      "        \"DT_Definition\": \"\\\"a Digital Twin is a virtual reproduction of a system based on simulations, real-time and historical data that allows representing, understanding, and predicting scenarios of the past, present, and future, with verified and validated models, and synchronized at a specified frequency and fidelity with the system\\\"\",\n",
      "        \"data\": {\n",
      "            \"0\": \"{\\\"modeling language\\\":\\\"SDL\\\",\\\"note on modeling language\\\":null,\\\"model type\\\":\\\"behavior\\\",\\\"model processing technique\\\":\\\"Model to Model Transformation\\\",\\\"model usage technique\\\":null,\\\"source\\\":\\\"SDL model\\\",\\\"target\\\":\\\"Discrete Event System Specification (formal model for simulation engines)\\\",\\\"system lifecycle phase\\\":\\\"Design\\\",\\\"twin lifecycle phase\\\":\\\"As-Designed\\\"}\",\n",
      "            \"1\": \"{\\\"modeling language\\\":\\\"SDL\\\",\\\"note on modeling language\\\":null,\\\"model type\\\":\\\"behavior\\\",\\\"model processing technique\\\":\\\"model interpretation\\\",\\\"model usage technique\\\":null,\\\"source\\\":\\\"SDL model\\\",\\\"target\\\":\\\"Snap!\\\",\\\"system lifecycle phase\\\":\\\"Design\\\",\\\"twin lifecycle phase\\\":\\\"As-Designed\\\"}\"\n",
      "        },\n",
      "        \"open challenges\": null,\n",
      "        \"Technological Readiness Level\": \"4-5: das Ding l\\u00c3\\u00a4uft \\\"im Labor\\\"\",\n",
      "        \"notes\": null,\n",
      "        \"Use Case\": null,\n",
      "        \"twinning target\": \"Processes, e.g., business processes (Rambow-Hoeschele et al., 2018), medical processes (Karakra et al., 2018), or recycling processes (Popa et al., 2018).\",\n",
      "        \"purpose of MDE application\": \"execute/simulate modeled behavior\",\n",
      "        \"use case domain\": \"P \\u00c2\\u2014 Education\",\n",
      "        \"purpose /expected benefit of using models\": \"low-code programming; enable industrial users to test and/or build their own Digital Twin models at a suitable abstraction level and with low entry barriers ; create an open-source and web-based tool that facilitates the implementation and validation of Digital Twin prototypes\",\n",
      "        \"Publication Title\": \"2021 ACM/IEEE International Conference on Model Driven Engineering Languages and Systems Companion (MODELS-C)\",\n",
      "        \"Authors\": \"X. P. i. Palom\\u00e9s; P. Tuset-Peir\\u00f3; P. F. i. Casas\",\n",
      "        \"Publication Year\": 2021.0,\n",
      "        \"Document Identifier\": \"IEEE Conferences\",\n",
      "        \"Publisher\": \"IEEE\"\n",
      "    },\n",
      "    \"CPSAML: A Language and Code Generation Framework for Digital Twin Based Monitoring of Mobile Cyber-Physical Systems\": {\n",
      "        \"DT_Definition\": \"middleware between CPS and a monitoring cockpit; \\\"A digital twin of a system consists of a set of models of the system, a set of digital shadows and their aggregation and abstraction collected from a system, and a set of services that allow using the data and models purposefully with respect to the original system\\\"\",\n",
      "        \"data\": {\n",
      "            \"0\": \"{\\\"modeling language\\\":\\\"SysML v2\\\",\\\"note on modeling language\\\":null,\\\"model type\\\":\\\"structure\\\",\\\"model processing technique\\\":\\\"Model to Model Transformation\\\",\\\"model usage technique\\\":\\\"Multi Paradigm Approach\\\",\\\"source\\\":\\\"CPSAML\\\",\\\"target\\\":\\\"SysML (partial model)\\\",\\\"system lifecycle phase\\\":\\\"Design\\\",\\\"twin lifecycle phase\\\":\\\"As-Designed\\\"}\",\n",
      "            \"1\": \"{\\\"modeling language\\\":\\\"CPSAML\\\",\\\"note on modeling language\\\":\\\"contribution of the paper\\\",\\\"model type\\\":\\\"structure\\\",\\\"model processing technique\\\":\\\"code generation\\\",\\\"model usage technique\\\":null,\\\"source\\\":\\\"SysML (complete model)\\\",\\\"target\\\":\\\"CPS software code (ROS Packages, DT, Monitoring Cockpit). Sprachen: Java, Typescript, Python, Docker\\\",\\\"system lifecycle phase\\\":\\\"Implement\\\",\\\"twin lifecycle phase\\\":null}\"\n",
      "        },\n",
      "        \"open challenges\": null,\n",
      "        \"Technological Readiness Level\": \"4-5: das Ding l\\u00c3\\u00a4uft \\\"im Labor\\\"\",\n",
      "        \"notes\": \"github repository: https://github.com/me-big-tuwien-ac-at/cpsaml\",\n",
      "        \"Use Case\": \"Roomba floor cleaning robot\",\n",
      "        \"twinning target\": \"Individual Systems, such as automated cars (Atorf and Ro\\u00dfmann, 2018), gas turbines (Dawes et al., 2019), or manufacturing machines (Debroy et al., 2017).\",\n",
      "        \"purpose of MDE application\": \"Integration of CPS and Information Systems; transform System Architect vision (CPSAML) into starting point for System Engineer (partial SysML model); \\\"better support both the system architect and the operator for the development of a mobile CPS. The system architect only keeps the focus on her interests through the introduced DSL, while the oper\\u0002ator is supported by the generated cockpit application. In addition, the used code generation should save a lot of implementation effort for developers\\\"\",\n",
      "        \"purpose of DT\": \"aggregates data from CPS into a \\\"single system snapchot\\\"\",\n",
      "        \"use case domain\": \"I \\u00c2\\u2014 Accommodation and Food Service Activities\",\n",
      "        \"purpose /expected benefit of using models\": \"\\\"Model engineering abstracts real world concepts in a way, such that only the relevant properties are left. A model therefore is a simplified representation of reality. This helps planning and designing complex systems, as a model should give a common sense of the underlying system.\\\"\",\n",
      "        \"Publication Title\": \"Proceedings of the 25th International Conference on Model Driven Engineering Languages and Systems: Companion Proceedings\",\n",
      "        \"Authors\": \"Fend A,Bork D\",\n",
      "        \"Publication Year\": 2022.0,\n",
      "        \"Document Identifier\": \"Conference Paper\",\n",
      "        \"Publisher\": \"ACM\"\n",
      "    },\n",
      "    \"Interface Development for Digital Twin of an Electric Motor Based on Empirical Performance Model\": {\n",
      "        \"DT_Definition\": \"\\\"The concept of Digital Twin (DT) is creating and maintaining a digital representation of the real physical entity and supporting its performance through simulation and optimization tools, which are fed with real and updated data\\\"; \\\"A perfect DT will be identical to the real physical entity in terms of appearance and behavior with the extra advantage of making future predictions.\\\"\",\n",
      "        \"data\": {\n",
      "            \"0\": \"{\\\"modeling language\\\":\\\"Unity 3D simulation model\\\",\\\"note on modeling language\\\":\\\" describing detailed physics of twinned asset\\\",\\\"model type\\\":\\\"behavior, physics\\\",\\\"model processing technique\\\":\\\"code generation\\\",\\\"model usage technique\\\":null,\\\"source\\\":\\\"Unity Model\\\",\\\"target\\\":\\\"Simulation Controller\\\",\\\"system lifecycle phase\\\":\\\"Operate\\\",\\\"twin lifecycle phase\\\":\\\"As-Designed\\\"}\",\n",
      "            \"1\": \"{\\\"modeling language\\\":\\\"Unity 3D simulation model\\\",\\\"note on modeling language\\\":\\\" describing detailed physics of twinned asset\\\",\\\"model type\\\":\\\"behavior, physics\\\",\\\"model processing technique\\\":\\\"code generation\\\",\\\"model usage technique\\\":null,\\\"source\\\":\\\"Unity Model\\\",\\\"target\\\":\\\"ROS Bridge\\\",\\\"system lifecycle phase\\\":\\\"Operate\\\",\\\"twin lifecycle phase\\\":null}\"\n",
      "        },\n",
      "        \"open challenges\": null,\n",
      "        \"Technological Readiness Level\": \"1-3: die Technologie gibt's, evtl. am Toy Example gezeigt\",\n",
      "        \"notes\": null,\n",
      "        \"Use Case\": null,\n",
      "        \"twinning target\": \"Individual Systems, such as automated cars (Atorf and Ro\\u00dfmann, 2018), gas turbines (Dawes et al., 2019), or manufacturing machines (Debroy et al., 2017).\",\n",
      "        \"purpose of DT\": \"3D simulation model that is updated with live data from the twinned asset\",\n",
      "        \"use case domain\": \"H \\u00c2\\u2014 Transportation and Storage\",\n",
      "        \"Publication Title\": \"IEEE Access\",\n",
      "        \"Authors\": \"A. Rass\\u00f5lkin; V. Rjabt\\u009aikov; V. Kuts; T. Vaimann; A. Kallaste; B. Asad; A. Partyshev\",\n",
      "        \"Publication Year\": 2022.0,\n",
      "        \"Document Identifier\": \"IEEE Journals\",\n",
      "        \"Publisher\": \"IEEE\"\n",
      "    },\n",
      "    \"Digital Twins Driving Model Based on Petri Net in Industrial Pipeline\": {\n",
      "        \"DT_Definition\": \"\\\"the digital twin, that is, real-time data synchronization and feedback control of the entity\\\"\",\n",
      "        \"data\": {\n",
      "            \"0\": \"{\\\"modeling language\\\":\\\"Petri Net\\\",\\\"note on modeling language\\\":null,\\\"model type\\\":\\\"behavior\\\",\\\"model processing technique\\\":\\\"model interpretation\\\",\\\"model usage technique\\\":null,\\\"source\\\":\\\"Petrinet\\\",\\\"target\\\":\\\"real time simulation of state\\\",\\\"system lifecycle phase\\\":\\\"Operate\\\",\\\"twin lifecycle phase\\\":\\\"As-Operated\\\"}\"\n",
      "        },\n",
      "        \"open challenges\": null,\n",
      "        \"Technological Readiness Level\": \"1-3: die Technologie gibt's, evtl. am Toy Example gezeigt\",\n",
      "        \"notes\": null,\n",
      "        \"Use Case\": \"Suit tailoring\",\n",
      "        \"twinning target\": \"Processes, e.g., business processes (Rambow-Hoeschele et al., 2018), medical processes (Karakra et al., 2018), or recycling processes (Popa et al., 2018).\",\n",
      "        \"purpose of DT\": \"online syncronization of physical and digital system\",\n",
      "        \"use case domain\": \"C \\u00c2\\u2014 Manufacturing\",\n",
      "        \"purpose /expected benefit of using models\": \"single source of truth for simulation\",\n",
      "        \"Publication Title\": \"2020 International Conference on Artificial Intelligence and Electromechanical Automation (AIEA)\",\n",
      "        \"Authors\": \"Y. Dai; Y. Shi; Z. Zhang; R. Tao; F. Fang\",\n",
      "        \"Publication Year\": 2020.0,\n",
      "        \"Document Identifier\": \"IEEE Conferences\",\n",
      "        \"Publisher\": \"IEEE\"\n",
      "    },\n",
      "    \"Enabling Semantic Interoperability of Asset Administration Shells through an Ontology-Based Modeling Method\": {\n",
      "        \"DT_Definition\": \"= AAS Model\",\n",
      "        \"data\": {\n",
      "            \"0\": \"{\\\"modeling language\\\":\\\"OWL Ontology + OML Vocabulary\\\",\\\"note on modeling language\\\":null,\\\"model type\\\":\\\"rule\\\",\\\"model processing technique\\\":null,\\\"model usage technique\\\":null,\\\"source\\\":\\\"OML Vocabulary\\\",\\\"target\\\":\\\"UML Profile\\\",\\\"system lifecycle phase\\\":\\\"Design\\\",\\\"twin lifecycle phase\\\":\\\"As-Designed\\\"}\",\n",
      "            \"1\": \"{\\\"modeling language\\\":\\\"UML Profile\\\",\\\"note on modeling language\\\":null,\\\"model type\\\":null,\\\"model processing technique\\\":null,\\\"model usage technique\\\":null,\\\"source\\\":null,\\\"target\\\":null,\\\"system lifecycle phase\\\":null,\\\"twin lifecycle phase\\\":null}\",\n",
      "            \"2\": \"{\\\"modeling language\\\":\\\"AAS\\\",\\\"note on modeling language\\\":null,\\\"model type\\\":null,\\\"model processing technique\\\":null,\\\"model usage technique\\\":null,\\\"source\\\":null,\\\"target\\\":null,\\\"system lifecycle phase\\\":null,\\\"twin lifecycle phase\\\":null}\"\n",
      "        },\n",
      "        \"open challenges\": null,\n",
      "        \"Technological Readiness Level\": \"1-3: die Technologie gibt's, evtl. am Toy Example gezeigt\",\n",
      "        \"notes\": \"twinning target is systems-of-systems, including modeling of individual systems\",\n",
      "        \"Use Case\": \"robotic cell (niryo ned for gripping + turtlebot for transportation)\",\n",
      "        \"twinning target\": \"Systems of Systems, such as complete factories (Biesinger et al., 2018), oil wells (Kosenkov et al., 2018), or railway systems (Vatn, 2018).\",\n",
      "        \"purpose of DT\": \"\\\" the Asset Administration Shell (AAS), provides a syntactic interoperability interface for all assets involved in smart factories\\\"\",\n",
      "        \"use case domain\": \"C \\u00c2\\u2014 Manufacturing\",\n",
      "        \"purpose /expected benefit of using models\": \"formal definition that allows reasoning on/interpretation of models, interoperability\",\n",
      "        \"Publication Title\": \"Proceedings of the 25th International Conference on Model Driven Engineering Languages and Systems: Companion Proceedings\",\n",
      "        \"Authors\": \"Huang Y,Dhouib S,Medinacelli LP,Malenfant J\",\n",
      "        \"Publication Year\": 2022.0,\n",
      "        \"Document Identifier\": \"Conference Paper\",\n",
      "        \"Publisher\": \"ACM\"\n",
      "    },\n",
      "    \"Generating customized low-code development platforms for digital twins\": {\n",
      "        \"DT_Definition\": \"\\\"A digital twin is a set of models of the system, a set of digital shadows and their aggregation and abstraction collected from a system, and a set of services that allow using the data and models purposefully with respect to the original system\\\"\",\n",
      "        \"data\": {\n",
      "            \"0\": \"{\\\"modeling language\\\":\\\"DSL Component\\\",\\\"note on modeling language\\\":null,\\\"model type\\\":\\\"structure\\\",\\\"model processing technique\\\":\\\"code generation\\\",\\\"model usage technique\\\":null,\\\"source\\\":\\\"DSL component + GUI models for editor and viewer + DT components\\\",\\\"target\\\":\\\"Digital Twin Implementation: Low-code editor for DT configuration\\\",\\\"system lifecycle phase\\\":\\\"Implement\\\",\\\"twin lifecycle phase\\\":\\\"As-Operated\\\"}\",\n",
      "            \"1\": \"{\\\"modeling language\\\":\\\"MontiArc\\\",\\\"note on modeling language\\\":null,\\\"model type\\\":\\\"structure\\\",\\\"model processing technique\\\":\\\"code generation\\\",\\\"model usage technique\\\":null,\\\"source\\\":\\\"MontiArc model\\\",\\\"target\\\":\\\"Digital Twin Implementation: Java code, Software Architecture Components + Glue Code\\\",\\\"system lifecycle phase\\\":\\\"Implement\\\",\\\"twin lifecycle phase\\\":null}\",\n",
      "            \"2\": \"{\\\"modeling language\\\":\\\"GUI Language\\\",\\\"note on modeling language\\\":null,\\\"model type\\\":\\\"structure\\\",\\\"model processing technique\\\":\\\"code generation\\\",\\\"model usage technique\\\":null,\\\"source\\\":\\\"GUI Model\\\",\\\"target\\\":\\\"Digital Twin Implementation: DT Cockpit\\\",\\\"system lifecycle phase\\\":\\\"Implement\\\",\\\"twin lifecycle phase\\\":null}\",\n",
      "            \"3\": \"{\\\"modeling language\\\":\\\"UML Classdiagram\\\",\\\"note on modeling language\\\":null,\\\"model type\\\":\\\"structure\\\",\\\"model processing technique\\\":\\\"code generation\\\",\\\"model usage technique\\\":null,\\\"source\\\":\\\"CD\\\",\\\"target\\\":\\\"Digital Twin Implementation: Java code (Backend)\\\",\\\"system lifecycle phase\\\":\\\"Implement\\\",\\\"twin lifecycle phase\\\":null}\",\n",
      "            \"4\": \"{\\\"modeling language\\\":\\\"Case-based reasoning (CBR9)\\\",\\\"note on modeling language\\\":null,\\\"model type\\\":\\\"rule\\\",\\\"model processing technique\\\":\\\"model interpretation\\\",\\\"model usage technique\\\":null,\\\"source\\\":\\\"CBR\\\",\\\"target\\\":\\\"Reasoner Component of DT Architecture\\\",\\\"system lifecycle phase\\\":\\\"Operate\\\",\\\"twin lifecycle phase\\\":null}\",\n",
      "            \"5\": \"{\\\"modeling language\\\":\\\"Event-Condition-Action (ECA) language\\\",\\\"note on modeling language\\\":null,\\\"model type\\\":\\\"rule\\\",\\\"model processing technique\\\":\\\"model interpretation\\\",\\\"model usage technique\\\":null,\\\"source\\\":\\\"ECA\\\",\\\"target\\\":\\\"Evaluator Component of DT Archtiecture\\\",\\\"system lifecycle phase\\\":\\\"Operate\\\",\\\"twin lifecycle phase\\\":null}\",\n",
      "            \"6\": \"{\\\"modeling language\\\":\\\"Communication specification language\\\",\\\"note on modeling language\\\":null,\\\"model type\\\":\\\"behavior\\\",\\\"model processing technique\\\":\\\"code generation\\\",\\\"model usage technique\\\":null,\\\"source\\\":\\\"Communication specification\\\",\\\"target\\\":\\\"Java Code for communication between CPS and DT\\\",\\\"system lifecycle phase\\\":\\\"Implement\\\",\\\"twin lifecycle phase\\\":null}\"\n",
      "        },\n",
      "        \"open challenges\": \"account for future variability; DT as part of an ecosystem\",\n",
      "        \"Technological Readiness Level\": \"4-5: das Ding l\\u00c3\\u00a4uft \\\"im Labor\\\"\",\n",
      "        \"notes\": null,\n",
      "        \"Use Case\": \"injection molding machine\",\n",
      "        \"twinning target\": \"Individual Systems, such as automated cars (Atorf and Ro\\u00dfmann, 2018), gas turbines (Dawes et al., 2019), or manufacturing machines (Debroy et al., 2017).\",\n",
      "        \"purpose of MDE application\": \"generation of low-code development platform;  generation of dt architecture; visualization; data modelling; adaptive behavior of DT; recognizing error states in CPS behavior; generating a communication protocol;\",\n",
      "        \"purpose of DT\": \"realize self-adaptation loop for CPS; \\\"Leveraging DTs that monitor and control the system of interest can reduce configuration time, save energy, and prevent waste.\\\"\",\n",
      "        \"use case domain\": \"C \\u00c2\\u2014 Manufacturing\",\n",
      "        \"purpose /expected benefit of using models\": \"Custom Low-code development for domain experts; configurability: easily configure 1 implementation for different CPSs; easily integrate different implementations (monti arc as definition of common interfaces); \\\"The models we use for configuration are more ab\\u0002stract than programming languages and allow domain experts to create powerful full digital twin applications nonetheless.\\\"\",\n",
      "        \"Publication Title\": \"Journal of Computer Languages\",\n",
      "        \"Authors\": \"Dalibor M.; Heithoff M.; Michael J.; Netz L.; Pfeiffer J.; Rumpe B.; Varga S.; Wortmann A.\",\n",
      "        \"Publication Year\": 2022.0,\n",
      "        \"Document Identifier\": \"Article\",\n",
      "        \"Publisher\": \"Elsevier Ltd\"\n",
      "    },\n",
      "    \"Generating Digital Twin Cockpits for Parameter Management in the Engineering of Wind Turbines\": {\n",
      "        \"DT_Definition\": null,\n",
      "        \"data\": {\n",
      "            \"0\": \"{\\\"modeling language\\\":\\\"UML Class Diagram\\\",\\\"note on modeling language\\\":null,\\\"model type\\\":\\\"structure\\\",\\\"model processing technique\\\":\\\"Model to Model Transformation\\\",\\\"model usage technique\\\":null,\\\"source\\\":\\\"UML Class Diagram\\\",\\\"target\\\":\\\"UI Model\\\",\\\"system lifecycle phase\\\":\\\"Implement\\\",\\\"twin lifecycle phase\\\":\\\"As-Designed\\\"}\",\n",
      "            \"1\": \"{\\\"modeling language\\\":\\\"UI Model\\\",\\\"note on modeling language\\\":null,\\\"model type\\\":\\\"structure\\\",\\\"model processing technique\\\":\\\"code generation\\\",\\\"model usage technique\\\":null,\\\"source\\\":\\\"UML Class Diagram\\\",\\\"target\\\":\\\"Part of DT UI Cockpit (Python + Typescript)\\\",\\\"system lifecycle phase\\\":\\\"Implement\\\",\\\"twin lifecycle phase\\\":null}\",\n",
      "            \"2\": \"{\\\"modeling language\\\":null,\\\"note on modeling language\\\":null,\\\"model type\\\":\\\"structure\\\",\\\"model processing technique\\\":\\\"code generation\\\",\\\"model usage technique\\\":null,\\\"source\\\":\\\"UI Model\\\",\\\"target\\\":\\\"Part of DT UI Cockpit (Typescript)\\\",\\\"system lifecycle phase\\\":\\\"Implement\\\",\\\"twin lifecycle phase\\\":null}\"\n",
      "        },\n",
      "        \"open challenges\": null,\n",
      "        \"Technological Readiness Level\": \"1-3: die Technologie gibt's, evtl. am Toy Example gezeigt\",\n",
      "        \"notes\": null,\n",
      "        \"Use Case\": \"cooling system of a wind turbine\",\n",
      "        \"twinning target\": \"Individual Systems, such as automated cars (Atorf and Ro\\u00dfmann, 2018), gas turbines (Dawes et al., 2019), or manufacturing machines (Debroy et al., 2017).\",\n",
      "        \"purpose of MDE application\": \"Derive UI from Cd; Data structure and DT cockpit backend and frontend api generation; UI generation\",\n",
      "        \"use case domain\": \"D \\u00c2\\u2014 Electricity, Gas, Steam and Air Conditioning Supply\",\n",
      "        \"purpose /expected benefit of using models\": \"reduce complexity in system design by bridging the gap between high-level requirements and high-detail implementations; \\\"Suitable models in the early phase are engineering models and models to describe behavior-to-be that can be simulated and analyzed\\\"\",\n",
      "        \"Publication Title\": \"Lecture Notes in Informatics (LNI), Proceedings - Series of the Gesellschaft fur Informatik (GI)\",\n",
      "        \"Authors\": \"Michael J.; Nachmann I.; Netz L.; Rumpe B.; St\\u00fcber S.\",\n",
      "        \"Publication Year\": 2022.0,\n",
      "        \"Document Identifier\": \"Conference paper\",\n",
      "        \"Publisher\": \"Gesellschaft fur Informatik (GI)\"\n",
      "    },\n",
      "    \"Generative and Model-driven SDK development for the Industrie 4.0 Digital Twin\": {\n",
      "        \"DT_Definition\": \" \\\"A digital twin allows us to reason about a physical and/or ideal assets in the virtual (i.e. cyber) space thus providing a necessary foundation for complex and large cyber-physical systems.\\\"\",\n",
      "        \"data\": {\n",
      "            \"0\": \"{\\\"modeling language\\\":\\\"AAS model\\\",\\\"note on modeling language\\\":null,\\\"model type\\\":\\\"structure\\\",\\\"model processing technique\\\":\\\"code generation\\\",\\\"model usage technique\\\":null,\\\"source\\\":\\\"AAS model\\\",\\\"target\\\":\\\"GPL (shown for C#\\\\/Java) Stubs + Contracts\\\",\\\"system lifecycle phase\\\":\\\"Implement\\\",\\\"twin lifecycle phase\\\":\\\"As-Designed\\\"}\"\n",
      "        },\n",
      "        \"open challenges\": \"further GPLs, build parser for OWL ontologies\",\n",
      "        \"Technological Readiness Level\": \"1-3: die Technologie gibt's, evtl. am Toy Example gezeigt\",\n",
      "        \"notes\": \"no demonstration or evaluation provided, only description of the prototypical implementation of the proposed concept\",\n",
      "        \"Use Case\": null,\n",
      "        \"twinning target\": null,\n",
      "        \"purpose of DT\": \"reasoning in the virtual space\",\n",
      "        \"Publication Title\": \"2021 26th IEEE International Conference on Emerging Technologies and Factory Automation (ETFA )\",\n",
      "        \"Authors\": \"N. Braunisch; M. Ristin-Kaufmann; R. Lehmann; H. W. van de Venn\",\n",
      "        \"Publication Year\": 2021.0,\n",
      "        \"Document Identifier\": \"IEEE Conferences\",\n",
      "        \"Publisher\": \"IEEE\"\n",
      "    },\n",
      "    \"Integration of SysML Models in a 3D Environment for Virtual Testing and Validation\": {\n",
      "        \"DT_Definition\": \"\\\"A Digital Twin is\\na digital 3D - CAD replica of a living or non-living physical entity, allowing to replicate the same behavior as that of the actual\\ncomponent\\\"\",\n",
      "        \"data\": {\n",
      "            \"0\": \"{\\\"modeling language\\\":\\\"SysML\\\",\\\"note on modeling language\\\":\\\"Block Definition Diagram, Internal Block Diagram, Requirements Diagram and a State Machine Diagram\\\",\\\"model type\\\":\\\"structure\\\",\\\"model processing technique\\\":null,\\\"model usage technique\\\":null,\\\"source\\\":\\\"SysML Modelle\\\",\\\"target\\\":\\\"Unity Model\\\",\\\"system lifecycle phase\\\":\\\"Design\\\",\\\"twin lifecycle phase\\\":null}\",\n",
      "            \"1\": \"{\\\"modeling language\\\":\\\"Unity 3D Model\\\",\\\"note on modeling language\\\":null,\\\"model type\\\":null,\\\"model processing technique\\\":null,\\\"model usage technique\\\":null,\\\"source\\\":null,\\\"target\\\":null,\\\"system lifecycle phase\\\":null,\\\"twin lifecycle phase\\\":null}\"\n",
      "        },\n",
      "        \"open challenges\": \"However, more research and development are needed to improve the 3D representation of the SysML\\nmodel. In future work, the steps presented in the aforementioned\\ntimeline will be implemented.\",\n",
      "        \"Technological Readiness Level\": \"1-3: die Technologie gibt's, evtl. am Toy Example gezeigt\",\n",
      "        \"notes\": null,\n",
      "        \"Use Case\": null,\n",
      "        \"twinning target\": \"Systems of Systems, such as complete factories (Biesinger et al., 2018), oil wells (Kosenkov et al., 2018), or railway systems (Vatn, 2018).\",\n",
      "        \"purpose of MDE application\": \"3D Visualization of SYSML model; \\\"comprehend and understand the complexity of the models.\\\"\",\n",
      "        \"use case domain\": \"D \\u00c2\\u2014 Electricity, Gas, Steam and Air Conditioning Supply\",\n",
      "        \"Publication Title\": \"Proceedings of the Federated Africa and Middle East Conference on Software Engineering\",\n",
      "        \"Authors\": \"Barosan I,van der Heijden J\",\n",
      "        \"Publication Year\": 2022.0,\n",
      "        \"Document Identifier\": \"Conference Paper\",\n",
      "        \"Publisher\": \"ACM\"\n",
      "    },\n",
      "    \"Digital Twin of an Electrical Motor Based on Empirical Performance Model\": {\n",
      "        \"DT_Definition\": \"\\\"The concept of Digital Twin (DT) is creating and maintaining a digital representation of the real physical entity and supporting its performance through simulation and optimization tools, which are fed with real and updated data\\\"; \\\"A perfect DT will be identical to the real physical entity in terms of appearance and behavior with the extra advantage of making future predictions.\\\"\",\n",
      "        \"data\": {\n",
      "            \"0\": \"{\\\"modeling language\\\":\\\"Unity 3D simulation model\\\",\\\"note on modeling language\\\":\\\"describing detailed physics of twinned asset\\\",\\\"model type\\\":\\\"behavior, physics\\\",\\\"model processing technique\\\":null,\\\"model usage technique\\\":null,\\\"source\\\":\\\"Unity Model\\\",\\\"target\\\":\\\"Simulation Controller\\\",\\\"system lifecycle phase\\\":\\\"Operate\\\",\\\"twin lifecycle phase\\\":\\\"As-Designed\\\"}\",\n",
      "            \"1\": \"{\\\"modeling language\\\":null,\\\"note on modeling language\\\":null,\\\"model type\\\":\\\"structure\\\",\\\"model processing technique\\\":null,\\\"model usage technique\\\":null,\\\"source\\\":\\\"Unity Model\\\",\\\"target\\\":\\\"ROS Bridge\\\",\\\"system lifecycle phase\\\":\\\"Operate\\\",\\\"twin lifecycle phase\\\":null}\"\n",
      "        },\n",
      "        \"open challenges\": null,\n",
      "        \"Technological Readiness Level\": \"1-3: die Technologie gibt's, evtl. am Toy Example gezeigt\",\n",
      "        \"notes\": null,\n",
      "        \"Use Case\": null,\n",
      "        \"twinning target\": \"Individual Systems, such as automated cars (Atorf and Ro\\u00dfmann, 2018), gas turbines (Dawes et al., 2019), or manufacturing machines (Debroy et al., 2017).\",\n",
      "        \"purpose of DT\": \"3D simulation model that is updated with live data from the twinned asset\",\n",
      "        \"use case domain\": \"H \\u00c2\\u2014 Transportation and Storage\",\n",
      "        \"Publication Title\": \"2020 XI International Conference on Electrical Power Drive Systems (ICEPDS)\",\n",
      "        \"Authors\": \"A. Rass\\u00f5lkin; V. Rjabt\\u009aikov; T. Vaimann; A. Kallaste; V. Kuts; A. Partyshev\",\n",
      "        \"Publication Year\": 2020.0,\n",
      "        \"Document Identifier\": \"IEEE Conferences\",\n",
      "        \"Publisher\": \"IEEE\"\n",
      "    },\n",
      "    \"Knowledge driven rapid development of white box digital twins for industrial plant systems\": {\n",
      "        \"DT_Definition\": null,\n",
      "        \"data\": {\n",
      "            \"0\": \"{\\\"modeling language\\\":\\\"SADL ontology\\\",\\\"note on modeling language\\\":null,\\\"model type\\\":\\\"structure\\\",\\\"model processing technique\\\":null,\\\"model usage technique\\\":null,\\\"source\\\":\\\"SADL ontology\\\",\\\"target\\\":\\\"M&CML control systems model\\\",\\\"system lifecycle phase\\\":\\\"Implement\\\",\\\"twin lifecycle phase\\\":\\\"As-Designed\\\"}\",\n",
      "            \"1\": \"{\\\"modeling language\\\":\\\"Control Systems Model (M&CML)\\\",\\\"note on modeling language\\\":null,\\\"model type\\\":\\\"behavior\\\",\\\"model processing technique\\\":null,\\\"model usage technique\\\":null,\\\"source\\\":\\\"M&CML\\\",\\\"target\\\":\\\"fininte state machine\\\",\\\"system lifecycle phase\\\":\\\"Implement\\\",\\\"twin lifecycle phase\\\":null}\",\n",
      "            \"2\": \"{\\\"modeling language\\\":\\\"finite state machines (FSM)\\\",\\\"note on modeling language\\\":\\\"represented in SCXML\\\",\\\"model type\\\":null,\\\"model processing technique\\\":null,\\\"model usage technique\\\":null,\\\"source\\\":null,\\\"target\\\":null,\\\"system lifecycle phase\\\":null,\\\"twin lifecycle phase\\\":null}\"\n",
      "        },\n",
      "        \"open challenges\": null,\n",
      "        \"Technological Readiness Level\": \"1-3: die Technologie gibt's, evtl. am Toy Example gezeigt\",\n",
      "        \"notes\": null,\n",
      "        \"Use Case\": \"power plant\",\n",
      "        \"twinning target\": \"Individual Systems, such as automated cars (Atorf and Ro\\u00dfmann, 2018), gas turbines (Dawes et al., 2019), or manufacturing machines (Debroy et al., 2017).\",\n",
      "        \"purpose of DT\": \"enable a virtual sand-box environment simulating the behaviour of a plant to perform analyses and predictions.\",\n",
      "        \"use case domain\": \"D \\u00c2\\u2014 Electricity, Gas, Steam and Air Conditioning Supply\",\n",
      "        \"Publication Title\": \"IECON 2021 \\u0096 47th Annual Conference of the IEEE Industrial Electronics Society\",\n",
      "        \"Authors\": \"A. B.; S. R.C.; B. B.; R. Dhakshinamoorthy; S. A.; N. S.\",\n",
      "        \"Publication Year\": 2021.0,\n",
      "        \"Document Identifier\": \"IEEE Conferences\",\n",
      "        \"Publisher\": \"IEEE\"\n",
      "    },\n",
      "    \"Meta-model-based shop-floor digital twin architecture, modeling and application\": {\n",
      "        \"DT_Definition\": \"\\\"DT is considered a new paradigm of modeling and simulationtechnology, extending the use of models to all stages of the product\\\"; the Shop-floor Digital Twin (SDT), as the digital counterpart of physical entities including the humans, machines, material, methods and environments in the existing shop-floor, mirrors the physical shop-floor behavior and performance in the virtual space. The digital counterpart is comprised of a series of se\\u0002mantic digital models and simulation models of the physical shop-floor and has the automatic data synchronization between the physical and virtual space. By establishing the automatic data flow between the physical shop-floor and digital counterpart, the semantic digital models and simulation \\nmodels could be converted to digital shadow and further evolved into SDT.\",\n",
      "        \"data\": {\n",
      "            \"0\": \"{\\\"modeling language\\\":\\\"SysML BDD\\\",\\\"note on modeling language\\\":null,\\\"model type\\\":null,\\\"model processing technique\\\":\\\"model interpretation\\\",\\\"model usage technique\\\":null,\\\"source\\\":\\\"raw data (conforming to data model)\\\",\\\"target\\\":\\\"SysML BDD\\\",\\\"system lifecycle phase\\\":\\\"Operate\\\",\\\"twin lifecycle phase\\\":\\\"As-Operated\\\"}\",\n",
      "            \"1\": \"{\\\"modeling language\\\":\\\"Data Model\\\",\\\"note on modeling language\\\":\\\"contribution of the paper\\\",\\\"model type\\\":null,\\\"model processing technique\\\":null,\\\"model usage technique\\\":null,\\\"source\\\":null,\\\"target\\\":null,\\\"system lifecycle phase\\\":null,\\\"twin lifecycle phase\\\":null}\"\n",
      "        },\n",
      "        \"open challenges\": null,\n",
      "        \"Technological Readiness Level\": \"4-5: das Ding l\\u00c3\\u00a4uft \\\"im Labor\\\"\",\n",
      "        \"notes\": null,\n",
      "        \"Use Case\": \"shopfloor\",\n",
      "        \"twinning target\": \"Systems of Systems, such as complete factories (Biesinger et al., 2018), oil wells (Kosenkov et al., 2018), or railway systems (Vatn, 2018).\",\n",
      "        \"purpose of DT\": \"Provide Self-Adapation/Optimization based on (i) data from PT, (ii) operations offered by the PT; \\\"DT has a strong vitality in the whole product lifecycle and could provide strong support for the digital and intelligent transformation of manufacturing industry in the aspects of virtual model construction and cyber-physical information fusion.\\\"\",\n",
      "        \"use case domain\": \"C \\u00c2\\u2014 Manufacturing\",\n",
      "        \"Publication Title\": \"Robotics and Computer-Integrated Manufacturing\",\n",
      "        \"Authors\": \"Yang X.; Liu X.; Zhang H.; Fu L.; Yu Y.\",\n",
      "        \"Publication Year\": 2023.0,\n",
      "        \"Document Identifier\": \"Article\",\n",
      "        \"Publisher\": \"Elsevier Ltd\"\n",
      "    },\n",
      "    \"Model-Driven Development of a Digital Twin for Injection Molding\": {\n",
      "        \"DT_Definition\": \"\\\"A digital twin of a system consists of a set of models of the system, a set of digital shadows, and provides a set of services to use the data and models purposefully with respect to the original system.\\\"\",\n",
      "        \"data\": {\n",
      "            \"0\": \"{\\\"modeling language\\\":\\\"MontiArc\\\",\\\"note on modeling language\\\":null,\\\"model type\\\":\\\"structure\\\",\\\"model processing technique\\\":null,\\\"model usage technique\\\":null,\\\"source\\\":\\\"MontiArc\\\",\\\"target\\\":\\\"Java\\\",\\\"system lifecycle phase\\\":\\\"Implement\\\",\\\"twin lifecycle phase\\\":\\\"As-Designed\\\"}\",\n",
      "            \"1\": \"{\\\"modeling language\\\":\\\"UML Class Diagram\\\",\\\"note on modeling language\\\":null,\\\"model type\\\":\\\"structure\\\",\\\"model processing technique\\\":null,\\\"model usage technique\\\":null,\\\"source\\\":\\\"Classdiagrams\\\",\\\"target\\\":\\\"Java\\\",\\\"system lifecycle phase\\\":\\\"Operate\\\",\\\"twin lifecycle phase\\\":\\\"As-Designed\\\"}\",\n",
      "            \"2\": \"{\\\"modeling language\\\":\\\"Event language\\\",\\\"note on modeling language\\\":null,\\\"model type\\\":\\\"behavior\\\",\\\"model processing technique\\\":null,\\\"model usage technique\\\":null,\\\"source\\\":\\\"Event model\\\",\\\"target\\\":null,\\\"system lifecycle phase\\\":\\\"Operate, Maintain\\\",\\\"twin lifecycle phase\\\":\\\"As-Designed, As-Operated\\\"}\",\n",
      "            \"3\": \"{\\\"modeling language\\\":\\\"design of experiment language\\\",\\\"note on modeling language\\\":null,\\\"model type\\\":\\\"rule\\\",\\\"model processing technique\\\":null,\\\"model usage technique\\\":null,\\\"source\\\":null,\\\"target\\\":null,\\\"system lifecycle phase\\\":\\\"Maintain\\\",\\\"twin lifecycle phase\\\":\\\"As-Operated\\\"}\",\n",
      "            \"4\": \"{\\\"modeling language\\\":\\\"OPC UA DSL\\\",\\\"note on modeling language\\\":null,\\\"model type\\\":\\\"structure\\\",\\\"model processing technique\\\":null,\\\"model usage technique\\\":null,\\\"source\\\":\\\"OPCUA model\\\",\\\"target\\\":\\\"Java\\\",\\\"system lifecycle phase\\\":\\\"Operate\\\",\\\"twin lifecycle phase\\\":\\\"As-Designed\\\"}\",\n",
      "            \"5\": \"{\\\"modeling language\\\":\\\"Tagging Language\\\",\\\"note on modeling language\\\":null,\\\"model type\\\":null,\\\"model processing technique\\\":null,\\\"model usage technique\\\":\\\"tagging\\\",\\\"source\\\":\\\"UML Class Diagram\\\",\\\"target\\\":null,\\\"system lifecycle phase\\\":\\\"Design\\\",\\\"twin lifecycle phase\\\":\\\"As-Designed\\\"}\"\n",
      "        },\n",
      "        \"open challenges\": null,\n",
      "        \"Technological Readiness Level\": \"1-3: die Technologie gibt's, evtl. am Toy Example gezeigt\",\n",
      "        \"notes\": null,\n",
      "        \"Use Case\": null,\n",
      "        \"twinning target\": \"Individual Systems, such as automated cars (Atorf and Ro\\u00dfmann, 2018), gas turbines (Dawes et al., 2019), or manufacturing machines (Debroy et al., 2017).\",\n",
      "        \"purpose of MDE application\": \"DT software architecture; domain description; specifying the behavior of the DT based on Event, condition action; Setting up an experiment for optimization; communication;\",\n",
      "        \"purpose of DT\": \"realizes self-adaptation loop based on MAPE (cf. Figure 2)\",\n",
      "        \"use case domain\": \"C \\u00c2\\u2014 Manufacturing\",\n",
      "        \"purpose /expected benefit of using models\": \"domain experts can easily optimize their injection modling machine with domain expressions; optimization of injection molding process through repeated execution of DOE; describing the DT\\u2019s situations (events) and reactions.\",\n",
      "        \"Publication Title\": \"Lecture Notes in Computer Science (including subseries Lecture Notes in Artificial Intelligence and Lecture Notes in Bioinformatics)\",\n",
      "        \"Authors\": \"Bibow P.; Dalibor M.; Hopmann C.; Mainz B.; Rumpe B.; Schmalzing D.; Schmitz M.; Wortmann A.\",\n",
      "        \"Publication Year\": 2020.0,\n",
      "        \"Document Identifier\": \"Conference paper\",\n",
      "        \"Publisher\": \"Springer\"\n",
      "    },\n",
      "    \"Model-Driven Digital Twin Construction: Synthesizing the Integration of Cyber-Physical Systems with Their Information Systems\": {\n",
      "        \"DT_Definition\": \"\\\"A digital twin (DT) of a system consists of a set of models  of the system, a set of contextual data traces and/or their aggregation and abstraction collected from a system, and a set of services that allow using the data and models purposefully  with respects to the original system.\\\"\",\n",
      "        \"data\": {\n",
      "            \"0\": \"{\\\"modeling language\\\":\\\"UML Class Diagram\\\",\\\"note on modeling language\\\":null,\\\"model type\\\":\\\"structure\\\",\\\"model processing technique\\\":null,\\\"model usage technique\\\":null,\\\"source\\\":\\\"tagging model, Class Diagram, MontiArc Model\\\",\\\"target\\\":\\\"extended MontiArc Model\\\",\\\"system lifecycle phase\\\":\\\"Design\\\",\\\"twin lifecycle phase\\\":null}\",\n",
      "            \"1\": \"{\\\"modeling language\\\":\\\"MontiArc ADL\\\",\\\"note on modeling language\\\":null,\\\"model type\\\":\\\"structure\\\",\\\"model processing technique\\\":null,\\\"model usage technique\\\":null,\\\"source\\\":\\\"MontiArc model\\\",\\\"target\\\":\\\"GPL code for CPS\\\",\\\"system lifecycle phase\\\":\\\"Implement\\\",\\\"twin lifecycle phase\\\":\\\"As-Designed\\\"}\",\n",
      "            \"2\": \"{\\\"modeling language\\\":\\\"tagging language\\\",\\\"note on modeling language\\\":null,\\\"model type\\\":\\\"structure\\\",\\\"model processing technique\\\":null,\\\"model usage technique\\\":null,\\\"source\\\":\\\"class diagram\\\",\\\"target\\\":\\\"digital twin information system\\\",\\\"system lifecycle phase\\\":\\\"Implement\\\",\\\"twin lifecycle phase\\\":\\\"As-Designed\\\"}\",\n",
      "            \"3\": \"{\\\"modeling language\\\":\\\"GUI DSL\\\",\\\"note on modeling language\\\":null,\\\"model type\\\":\\\"structure\\\",\\\"model processing technique\\\":null,\\\"model usage technique\\\":null,\\\"source\\\":\\\"GUI Model\\\",\\\"target\\\":\\\"Webpage\\\",\\\"system lifecycle phase\\\":\\\"Implement\\\",\\\"twin lifecycle phase\\\":\\\"As-Designed\\\"}\",\n",
      "            \"4\": \"{\\\"modeling language\\\":\\\"OCL\\\",\\\"note on modeling language\\\":null,\\\"model type\\\":\\\"rule\\\",\\\"model processing technique\\\":null,\\\"model usage technique\\\":null,\\\"source\\\":\\\"MontiArc ADL + Tagging applied on ports of adl model\\\",\\\"target\\\":\\\"new MontiArc ADL with components receiving tagged ports\\\",\\\"system lifecycle phase\\\":\\\"Implement\\\",\\\"twin lifecycle phase\\\":\\\"As-Designed\\\"}\"\n",
      "        },\n",
      "        \"open challenges\": \"Although model-driven software engineering (MDSE) provides the necessary methods to generate these connections, these methods have not yet been applied to integrated development and connection of DTs to CPSs.\",\n",
      "        \"Technological Readiness Level\": \"1-3: die Technologie gibt's, evtl. am Toy Example gezeigt\",\n",
      "        \"notes\": null,\n",
      "        \"Use Case\": \"automatic fire extinguishing system\",\n",
      "        \"twinning target\": \"Individual Systems, such as automated cars (Atorf and Ro\\u00dfmann, 2018), gas turbines (Dawes et al., 2019), or manufacturing machines (Debroy et al., 2017).\",\n",
      "        \"use case domain\": \"I \\u00c2\\u2014 Accommodation and Food Service Activities\",\n",
      "        \"purpose /expected benefit of using models\": \"\\\"Reducing the effort for engineering the communication interfaces between CPS and DT implemented as information systems\\\"\",\n",
      "        \"Publication Title\": \"Proceedings of the 23rd ACM/IEEE International Conference on Model Driven Engineering Languages and Systems\",\n",
      "        \"Authors\": \"Kirchhof JC,Michael J,Rumpe B,Varga S,Wortmann A\",\n",
      "        \"Publication Year\": 2020.0,\n",
      "        \"Document Identifier\": \"Conference Paper\",\n",
      "        \"Publisher\": \"ACM\"\n",
      "    },\n",
      "    \"Model-driven engineering city spaces via bidirectional model transformations\": {\n",
      "        \"DT_Definition\": \"\\\" In the realm of smart cities, a digital twin is a virtual model of a city\\u00c2\\u2014a model representation of the physical world\\\"; a virtual model of a city\",\n",
      "        \"data\": {\n",
      "            \"0\": \"{\\\"modeling language\\\":\\\"City GML 3D city model\\\",\\\"note on modeling language\\\":null,\\\"model type\\\":\\\"structure\\\",\\\"model processing technique\\\":null,\\\"model usage technique\\\":null,\\\"source\\\":\\\"CityGML\\\",\\\"target\\\":\\\"cyber-physical spaces\\\",\\\"system lifecycle phase\\\":\\\"Plan\\\",\\\"twin lifecycle phase\\\":\\\"As-Designed\\\"}\",\n",
      "            \"1\": \"{\\\"modeling language\\\":\\\"cyber-physical spaces\\\",\\\"note on modeling language\\\":null,\\\"model type\\\":null,\\\"model processing technique\\\":null,\\\"model usage technique\\\":null,\\\"source\\\":null,\\\"target\\\":null,\\\"system lifecycle phase\\\":null,\\\"twin lifecycle phase\\\":null}\"\n",
      "        },\n",
      "        \"open challenges\": \"investigate pluggable custom application policies and support arbitrary CityGML features. generalization of synchronization to a many-to-one model; being able to support multi-model sources might enable support of a wider range of applications dealing with wide area services.\",\n",
      "        \"Technological Readiness Level\": \"1-3: die Technologie gibt's, evtl. am Toy Example gezeigt\",\n",
      "        \"notes\": null,\n",
      "        \"Use Case\": \"smart city\",\n",
      "        \"twinning target\": \"Systems of Systems, such as complete factories (Biesinger et al., 2018), oil wells (Kosenkov et al., 2018), or railway systems (Vatn, 2018).\",\n",
      "        \"purpose of DT\": \"cyber-physical spaces model upon which formal reasoning can be performed\",\n",
      "        \"use case domain\": \"F \\u00c2\\u2014 Construction\",\n",
      "        \"Publication Title\": \"Software and Systems Modeling\",\n",
      "        \"Authors\": \"Visconti E.; Tsigkanos C.; Hu Z.; Ghezzi C.\",\n",
      "        \"Publication Year\": 2021.0,\n",
      "        \"Document Identifier\": \"Article\",\n",
      "        \"Publisher\": \"Springer Science and Business Media Deutschland GmbH\"\n",
      "    },\n",
      "    \"On the Engineering of IoT-Intensive Digital Twin Software Systems\": {\n",
      "        \"DT_Definition\": null,\n",
      "        \"data\": {\n",
      "            \"0\": \"{\\\"modeling language\\\":\\\"undefined\\\",\\\"note on modeling language\\\":\\\"only \\\\\\\"structural and behavioral models\\\\\\\" mentioned\\\",\\\"model type\\\":\\\"structure\\\",\\\"model processing technique\\\":null,\\\"model usage technique\\\":null,\\\"source\\\":\\\"structural model of the PT\\\",\\\"target\\\":\\\"Model Synchronizer + Model Manager component\\\",\\\"system lifecycle phase\\\":\\\"Design\\\",\\\"twin lifecycle phase\\\":\\\"As-Designed\\\"}\",\n",
      "            \"1\": \"{\\\"modeling language\\\":null,\\\"note on modeling language\\\":null,\\\"model type\\\":\\\"behavior\\\",\\\"model processing technique\\\":null,\\\"model usage technique\\\":null,\\\"source\\\":\\\"behavioral model of the PT\\\",\\\"target\\\":\\\"Model Synchronizer + Model Manager component\\\",\\\"system lifecycle phase\\\":\\\"Design\\\",\\\"twin lifecycle phase\\\":null}\"\n",
      "        },\n",
      "        \"open challenges\": null,\n",
      "        \"Technological Readiness Level\": \"1-3: die Technologie gibt's, evtl. am Toy Example gezeigt\",\n",
      "        \"notes\": \"very high-level concept, no application to a particular example/domain, no example models given\",\n",
      "        \"Use Case\": null,\n",
      "        \"twinning target\": \"Individual Systems, such as automated cars (Atorf and Ro\\u00dfmann, 2018), gas turbines (Dawes et al., 2019), or manufacturing machines (Debroy et al., 2017).\",\n",
      "        \"purpose of DT\": \"\\\"Coping with the dynamic and uncertain characteristics of the physical world (i.e., faced by the real-twin)\\\"\",\n",
      "        \"Publication Title\": \"Proceedings of the IEEE/ACM 42nd International Conference on Software Engineering Workshops\",\n",
      "        \"Authors\": \"Rivera LF,M\\u00fcller HA,Villegas NM,Tamura G,Jim\\u00e9nez M\",\n",
      "        \"Publication Year\": 2020.0,\n",
      "        \"Document Identifier\": \"Conference Paper\",\n",
      "        \"Publisher\": \"ACM\"\n",
      "    },\n",
      "    \"Proof of Concept for a Roundtrip Engineering IS for the New Enterprise in the Industry 4.0 Era\": {\n",
      "        \"DT_Definition\": \"\\\"The concept of Digital Twin is reserved for denoting a digital representation which is fully integrated with its Physical Twin (i.e. data flow between the physical object and the digital object in both directions) [4]. Likewise, we understand the Digital Twin as a software component that is i) model and data driven (it gets inputs from both cyber and physical objects; i.e., it can be a model that gets input from another model or from a physical object) and ii) can control physical devices (can operate on them). \\\"\",\n",
      "        \"data\": {\n",
      "            \"0\": \"{\\\"modeling language\\\":\\\"BPMN\\\",\\\"note on modeling language\\\":null,\\\"model type\\\":\\\"behavior\\\",\\\"model processing technique\\\":\\\"code generation\\\",\\\"model usage technique\\\":null,\\\"source\\\":\\\"BPMN\\\",\\\"target\\\":\\\"Python Drone control code\\\",\\\"system lifecycle phase\\\":\\\"Implement\\\",\\\"twin lifecycle phase\\\":\\\"As-Designed\\\"}\"\n",
      "        },\n",
      "        \"open challenges\": null,\n",
      "        \"Technological Readiness Level\": \"1-3: die Technologie gibt's, evtl. am Toy Example gezeigt\",\n",
      "        \"notes\": null,\n",
      "        \"Use Case\": \"Drone fleet\",\n",
      "        \"twinning target\": \"Individual Systems, such as automated cars (Atorf and Ro\\u00dfmann, 2018), gas turbines (Dawes et al., 2019), or manufacturing machines (Debroy et al., 2017).\",\n",
      "        \"use case domain\": \"H \\u00c2\\u2014 Transportation and Storage\",\n",
      "        \"Publication Title\": \"2022 24th International Symposium on Symbolic and Numeric Algorithms for Scientific Computing (SYNASC)\",\n",
      "        \"Authors\": \"A. Chi?; A. -M. Ghiran; R. A. Buchmann\",\n",
      "        \"Publication Year\": 2022.0,\n",
      "        \"Document Identifier\": \"IEEE Conferences\",\n",
      "        \"Publisher\": \"IEEE\"\n",
      "    },\n",
      "    \"Semantic Interoperability of Digital Twins: Ontology-based Capability Checking in AAS Modeling Framework\": {\n",
      "        \"DT_Definition\": null,\n",
      "        \"data\": {\n",
      "            \"0\": \"{\\\"modeling language\\\":\\\"OWL Ontology\\\",\\\"note on modeling language\\\":null,\\\"model type\\\":\\\"rule\\\",\\\"model processing technique\\\":null,\\\"model usage technique\\\":null,\\\"source\\\":\\\"OML\\\",\\\"target\\\":\\\"UML Stereotypes\\\",\\\"system lifecycle phase\\\":\\\"Design\\\",\\\"twin lifecycle phase\\\":\\\"As-Designed\\\"}\",\n",
      "            \"1\": \"{\\\"modeling language\\\":\\\"OML Vocabulary\\\",\\\"note on modeling language\\\":null,\\\"model type\\\":\\\"structure\\\",\\\"model processing technique\\\":null,\\\"model usage technique\\\":null,\\\"source\\\":\\\"AAS\\\",\\\"target\\\":\\\"OWL Individuals (MaRCO)\\\",\\\"system lifecycle phase\\\":\\\"Design\\\",\\\"twin lifecycle phase\\\":null}\",\n",
      "            \"2\": \"{\\\"modeling language\\\":\\\"AAS\\\",\\\"note on modeling language\\\":null,\\\"model type\\\":\\\"structure\\\",\\\"model processing technique\\\":null,\\\"model usage technique\\\":null,\\\"source\\\":\\\"OWL Ontology + OWL Individuals\\\",\\\"target\\\":\\\"capability matchmaker\\\",\\\"system lifecycle phase\\\":\\\"Design\\\",\\\"twin lifecycle phase\\\":null}\",\n",
      "            \"3\": \"{\\\"modeling language\\\":\\\"OWL Individuals\\\",\\\"note on modeling language\\\":\\\"instantiated OWL ontology\\\",\\\"model type\\\":\\\"structure\\\",\\\"model processing technique\\\":null,\\\"model usage technique\\\":null,\\\"source\\\":\\\"AAS Model\\\",\\\"target\\\":\\\"user interface created by the authors (cf. Section 4.C)\\\",\\\"system lifecycle phase\\\":\\\"Design\\\",\\\"twin lifecycle phase\\\":null}\"\n",
      "        },\n",
      "        \"open challenges\": null,\n",
      "        \"Technological Readiness Level\": \"1-3: die Technologie gibt's, evtl. am Toy Example gezeigt\",\n",
      "        \"notes\": null,\n",
      "        \"Use Case\": \"robotic cell (niryo ned for gripping + turtlebot for transportation)\",\n",
      "        \"twinning target\": null,\n",
      "        \"purpose of DT\": \"AAS model, enriched with semantic annotations based on OWL ontology\",\n",
      "        \"use case domain\": \"C \\u00c2\\u2014 Manufacturing\",\n",
      "        \"Publication Title\": \"2023 IEEE 6th International Conference on Industrial Cyber-Physical Systems (ICPS)\",\n",
      "        \"Authors\": \"Y. Huang; S. Dhouib; L. P. Medinacelli; J. Malenfant\",\n",
      "        \"Publication Year\": 2023.0,\n",
      "        \"Document Identifier\": \"IEEE Conferences\",\n",
      "        \"Publisher\": \"IEEE\"\n",
      "    },\n",
      "    \"Towards a Digital Twin for Cyber-Physical Production Systems: A Multi-Paradigm Modeling Approach in the Postal Industry\": {\n",
      "        \"DT_Definition\": \"\\\"However, the characteristics commonly associated to the DT are that it must be able to 1) behave like the real system during its entire life cycle, 2) allow to predict possible failures and 3) take autonomous decisions accordingly. Moreover, it appears to be fundamental to have a seamless connection and synchronization between the DT and the system.\\\"\",\n",
      "        \"data\": {\n",
      "            \"0\": \"{\\\"modeling language\\\":\\\"BPMN\\\",\\\"note on modeling language\\\":null,\\\"model type\\\":\\\"behavior\\\",\\\"model processing technique\\\":\\\"Model to Model Transformation\\\",\\\"model usage technique\\\":null,\\\"source\\\":\\\"BPMN\\\",\\\"target\\\":\\\"Activity Diagram\\\",\\\"system lifecycle phase\\\":\\\"Design\\\",\\\"twin lifecycle phase\\\":\\\"As-Designed\\\"}\",\n",
      "            \"1\": \"{\\\"modeling language\\\":\\\"UML Activity Diagram\\\",\\\"note on modeling language\\\":null,\\\"model type\\\":\\\"behavior\\\",\\\"model processing technique\\\":\\\"Model to Model Transformation\\\",\\\"model usage technique\\\":null,\\\"source\\\":\\\"Activity Diagram\\\",\\\"target\\\":\\\"Class Diagram\\\",\\\"system lifecycle phase\\\":\\\"Design\\\",\\\"twin lifecycle phase\\\":null}\",\n",
      "            \"2\": \"{\\\"modeling language\\\":\\\"UML Class Diagram\\\",\\\"note on modeling language\\\":null,\\\"model type\\\":null,\\\"model processing technique\\\":null,\\\"model usage technique\\\":null,\\\"source\\\":null,\\\"target\\\":null,\\\"system lifecycle phase\\\":null,\\\"twin lifecycle phase\\\":null}\"\n",
      "        },\n",
      "        \"open challenges\": null,\n",
      "        \"Technological Readiness Level\": \"1-3: die Technologie gibt's, evtl. am Toy Example gezeigt\",\n",
      "        \"notes\": null,\n",
      "        \"Use Case\": \"sorting robot of a postal center\",\n",
      "        \"twinning target\": \"Processes, e.g., business processes (Rambow-Hoeschele et al., 2018), medical processes (Karakra et al., 2018), or recycling processes (Popa et al., 2018).\",\n",
      "        \"purpose of MDE application\": \"Multi-paradigm modeling: convert BPMN Model into an executable AD; Multi-paradigm modeling: extract structural information from AD\",\n",
      "        \"purpose of DT\": \"\\\"emulate the sorting CPPS via Multi-Agent System\\\"\",\n",
      "        \"use case domain\": \"N \\u00c2\\u2014 Administrative and Support Service Activities\",\n",
      "        \"Publication Title\": \"Proceedings of the 23rd ACM/IEEE International Conference on Model Driven Engineering Languages and Systems: Companion Proceedings\",\n",
      "        \"Authors\": \"Niati A,Selma C,Tamzalit D,Bruneliere H,Mebarki N,Cardin O\",\n",
      "        \"Publication Year\": 2020.0,\n",
      "        \"Document Identifier\": \"Conference Paper\",\n",
      "        \"Publisher\": \"ACM\"\n",
      "    },\n",
      "    \"Towards a Model-Driven Architecture for Interactive Digital Twin Cockpits\": {\n",
      "        \"DT_Definition\": \"\\\"A digital twin of a system consists of a set of models of the system, a set of digital shadows and their aggregation and abstraction collected from a system, and a set of services that allow using the data and models purposefully with respect to the original system. \\\"\",\n",
      "        \"data\": {\n",
      "            \"0\": \"{\\\"modeling language\\\":\\\"MontiArc\\\",\\\"note on modeling language\\\":null,\\\"model type\\\":\\\"structure\\\",\\\"model processing technique\\\":null,\\\"model usage technique\\\":null,\\\"source\\\":\\\"CD\\\",\\\"target\\\":\\\"Java Code\\\",\\\"system lifecycle phase\\\":\\\"Implement\\\",\\\"twin lifecycle phase\\\":\\\"As-Designed\\\"}\",\n",
      "            \"1\": \"{\\\"modeling language\\\":\\\"MontiGem GUI Model\\\",\\\"note on modeling language\\\":null,\\\"model type\\\":\\\"structure\\\",\\\"model processing technique\\\":null,\\\"model usage technique\\\":null,\\\"source\\\":\\\"GUI Model\\\",\\\"target\\\":\\\"DT cockpits\\\",\\\"system lifecycle phase\\\":\\\"Implement\\\",\\\"twin lifecycle phase\\\":null}\",\n",
      "            \"2\": \"{\\\"modeling language\\\":\\\"Class Diagram\\\",\\\"note on modeling language\\\":null,\\\"model type\\\":\\\"structure\\\",\\\"model processing technique\\\":null,\\\"model usage technique\\\":null,\\\"source\\\":\\\"MontiArc model\\\",\\\"target\\\":\\\"system architecture\\\",\\\"system lifecycle phase\\\":\\\"Implement\\\",\\\"twin lifecycle phase\\\":null}\"\n",
      "        },\n",
      "        \"open challenges\": null,\n",
      "        \"Technological Readiness Level\": \"1-3: die Technologie gibt's, evtl. am Toy Example gezeigt\",\n",
      "        \"notes\": null,\n",
      "        \"Use Case\": null,\n",
      "        \"twinning target\": \"Individual Systems, such as automated cars (Atorf and Ro\\u00dfmann, 2018), gas turbines (Dawes et al., 2019), or manufacturing machines (Debroy et al., 2017).\",\n",
      "        \"use case domain\": \"C \\u00c2\\u2014 Manufacturing\",\n",
      "        \"purpose /expected benefit of using models\": \"no manual writing of code needed, because code generation can be applied\",\n",
      "        \"Publication Title\": \"Lecture Notes in Computer Science (including subseries Lecture Notes in Artificial Intelligence and Lecture Notes in Bioinformatics)\",\n",
      "        \"Authors\": \"Dalibor M.; Michael J.; Rumpe B.; Varga S.; Wortmann A.\",\n",
      "        \"Publication Year\": 2020.0,\n",
      "        \"Document Identifier\": \"Conference paper\",\n",
      "        \"Publisher\": \"Springer Science and Business Media Deutschland GmbH\"\n",
      "    },\n",
      "    \"Towards Reactive Planning with Digital Twins and Model-Driven Optimization\": {\n",
      "        \"DT_Definition\": \"\\\"DTs enable a bi-directional data flow between a physical system and its virtual representation, requiring different software components to enable this communication\\\"\",\n",
      "        \"data\": {\n",
      "            \"0\": \"{\\\"modeling language\\\":\\\"EMF Meta-Models\\\",\\\"note on modeling language\\\":\\\" + according Models\\\",\\\"model type\\\":\\\"structure\\\",\\\"model processing technique\\\":null,\\\"model usage technique\\\":null,\\\"source\\\":\\\"Henshin model\\\",\\\"target\\\":\\\"Digital Twin\\\",\\\"system lifecycle phase\\\":\\\"Operate\\\",\\\"twin lifecycle phase\\\":\\\"As-Designed, As-Operated\\\"}\"\n",
      "        },\n",
      "        \"open challenges\": null,\n",
      "        \"Technological Readiness Level\": \"1-3: die Technologie gibt's, evtl. am Toy Example gezeigt\",\n",
      "        \"notes\": null,\n",
      "        \"Use Case\": null,\n",
      "        \"twinning target\": \"Individual Systems, such as automated cars (Atorf and Ro\\u00dfmann, 2018), gas turbines (Dawes et al., 2019), or manufacturing machines (Debroy et al., 2017).\",\n",
      "        \"purpose of DT\": \"provide an interface to both simulation and PT\",\n",
      "        \"use case domain\": \"application to generic optimization problem - no specific domain\",\n",
      "        \"Publication Title\": \"Lecture Notes in Computer Science (including subseries Lecture Notes in Artificial Intelligence and Lecture Notes in Bioinformatics)\",\n",
      "        \"Authors\": \"Eisenberg M.; Lehner D.; Sindelar R.; Wimmer M.\",\n",
      "        \"Publication Year\": 2022.0,\n",
      "        \"Document Identifier\": \"Conference paper\",\n",
      "        \"Publisher\": \"Springer Science and Business Media Deutschland GmbH\"\n",
      "    },\n",
      "    \"Twin Process Model Driven Machining Quality Optimization for Complex Parts\": {\n",
      "        \"DT_Definition\": \"\\\"Digital twin is an efficient method to realize simulation, monitoring and control of multi scale and physical quantity.\\\"\",\n",
      "        \"data\": {\n",
      "            \"0\": \"{\\\"modeling language\\\":\\\"Twin Process Model\\\",\\\"note on modeling language\\\":\\\"Twin Process Model = model containing structural and behavioral (process) information, stored as XML, but no language\\\\/metamodel described\\\",\\\"model type\\\":\\\"structure\\\",\\\"model processing technique\\\":null,\\\"model usage technique\\\":null,\\\"source\\\":\\\"Twin Process Model\\\",\\\"target\\\":\\\"Numeric Control (NC)Code\\\",\\\"system lifecycle phase\\\":\\\"Operate\\\",\\\"twin lifecycle phase\\\":\\\"As-Designed\\\"}\"\n",
      "        },\n",
      "        \"open challenges\": null,\n",
      "        \"Technological Readiness Level\": \"1-3: die Technologie gibt's, evtl. am Toy Example gezeigt\",\n",
      "        \"notes\": null,\n",
      "        \"Use Case\": null,\n",
      "        \"twinning target\": \"Individual Systems, such as automated cars (Atorf and Ro\\u00dfmann, 2018), gas turbines (Dawes et al., 2019), or manufacturing machines (Debroy et al., 2017).\",\n",
      "        \"purpose of DT\": \"efficiently realizes \\\"simulation, monitoring and control of multi scale and physical quantity\\\"\",\n",
      "        \"use case domain\": \"C \\u00c2\\u2014 Manufacturing\",\n",
      "        \"Publication Title\": \"2021 International Conference on Digital Society and Intelligent Systems (DSInS)\",\n",
      "        \"Authors\": \"J. Li; G. Zhou; C. Zhang\",\n",
      "        \"Publication Year\": 2021.0,\n",
      "        \"Document Identifier\": \"IEEE Conferences\",\n",
      "        \"Publisher\": \"IEEE\"\n",
      "    },\n",
      "    \"Understanding and Improving Model-Driven IoT Systems through Accompanying Digital Twins\": {\n",
      "        \"DT_Definition\": \"\\\"A digital twin (DT) of a system consists of a set of models of the system, a set of contextual data traces and/or their ag\\u0002gregation and abstraction collected from a system, and a set of services that allow using the data and models purposefully with respects to the original system.\\\"; \\\"Digital twins (DTs) are digital representations of cyber-physical systems. They monitor systems to offer services to analyze, control, and optimize the system. Alas, there is no commonly agreed on definition of DTs\\\"\",\n",
      "        \"data\": {\n",
      "            \"0\": \"{\\\"modeling language\\\":\\\"MontiThings\\\",\\\"note on modeling language\\\":null,\\\"model type\\\":\\\"structure\\\",\\\"model processing technique\\\":\\\"Model-to-Model transformation\\\",\\\"model usage technique\\\":null,\\\"source\\\":\\\"MontiThings model or real system\\\",\\\"target\\\":\\\"MontiThings model or reproduced system\\\",\\\"system lifecycle phase\\\":\\\"Operate\\\",\\\"twin lifecycle phase\\\":\\\"As-Operated\\\"}\",\n",
      "            \"1\": \"{\\\"modeling language\\\":null,\\\"note on modeling language\\\":null,\\\"model type\\\":\\\"structure\\\",\\\"model processing technique\\\":\\\"Code generation\\\",\\\"model usage technique\\\":null,\\\"source\\\":\\\"MontiThings\\\",\\\"target\\\":\\\"IoT controller code in C++\\\",\\\"system lifecycle phase\\\":\\\"Implement\\\",\\\"twin lifecycle phase\\\":null}\"\n",
      "        },\n",
      "        \"open challenges\": null,\n",
      "        \"Technological Readiness Level\": \"1-3: die Technologie gibt's, evtl. am Toy Example gezeigt\",\n",
      "        \"notes\": null,\n",
      "        \"Use Case\": \"smart lawn watering system; heating, ventilation, and air conditioning of a\\nsmart home\",\n",
      "        \"twinning target\": \"Individual Systems, such as automated cars (Atorf and Ro\\u00dfmann, 2018), gas turbines (Dawes et al., 2019), or manufacturing machines (Debroy et al., 2017).\",\n",
      "        \"purpose of MDE application\": \"\\\"generates a reproduction model from the original models and the system traces. Developers can use the reproduction model to retrospectively analyze the system and refine the architecture models for the next iteration\\\"; \\\"One of the advantages of our model-driven approach is that there is no manual work involved when recording or replaying system traces.\\\"; Automatically generate controller code\",\n",
      "        \"purpose of DT\": \" collect  required data; \\\"The DT collects data from the generated IoT code, reproduces the data traces, adapts the input models accordingly, and re-generates the new software based on the adapted models\\\"\",\n",
      "        \"use case domain\": \"I \\u2014 Accommodation and Food Service Activities\",\n",
      "        \"Publication Title\": \"Proceedings of the 20th ACM SIGPLAN International Conference on Generative Programming: Concepts and Experiences\",\n",
      "        \"Authors\": \"Kirchhof JC,Malcher L,Rumpe B\",\n",
      "        \"Publication Year\": 2021.0,\n",
      "        \"Document Identifier\": \"Conference Paper\",\n",
      "        \"Publisher\": \"ACM\"\n",
      "    },\n",
      "    \"Using UML and OCL Models to Realize High-Level Digital Twins\": {\n",
      "        \"DT_Definition\": \"\\\"A Digital Twin (DT) is a comprehensive digital representation of an actual system, service or product (the Physical Twin, PT), synchronized at a specified frequency and fidelity\\\"\",\n",
      "        \"data\": {\n",
      "            \"0\": \"{\\\"modeling language\\\":\\\"UML CD + OCL constraints\\\",\\\"note on modeling language\\\":null,\\\"model type\\\":\\\"structure\\\",\\\"model processing technique\\\":\\\"model interpretation\\\",\\\"model usage technique\\\":null,\\\"source\\\":\\\"UML class diagram\\\",\\\"target\\\":\\\"uml cd adapter that interprets CD and adapts a data lake accordingly (data lake stores data from the PT)\\\",\\\"system lifecycle phase\\\":\\\"Operate\\\",\\\"twin lifecycle phase\\\":\\\"As-Designed\\\"}\"\n",
      "        },\n",
      "        \"open challenges\": null,\n",
      "        \"Technological Readiness Level\": \"1-3: die Technologie gibt's, evtl. am Toy Example gezeigt\",\n",
      "        \"notes\": null,\n",
      "        \"Use Case\": \"lego mindstorms car\",\n",
      "        \"twinning target\": null,\n",
      "        \"purpose of MDE application\": \"adapt a data lake according to CD\",\n",
      "        \"purpose of DT\": \"DT = UML class diagram; configures data lake that stores data from PT, which should be used by different services\",\n",
      "        \"use case domain\": \"H \\u00c2\\u2014 Transportation and Storage\",\n",
      "        \"Publication Title\": \"2021 ACM/IEEE International Conference on Model Driven Engineering Languages and Systems Companion (MODELS-C)\",\n",
      "        \"Authors\": \"P. Mu\\u00f1oz; J. Troya; A. Vallecillo\",\n",
      "        \"Publication Year\": 2021.0,\n",
      "        \"Document Identifier\": \"IEEE Conferences\",\n",
      "        \"Publisher\": \"IEEE\"\n",
      "    },\n",
      "    \"NaN\": {\n",
      "        \"DT_Definition\": null,\n",
      "        \"data\": {},\n",
      "        \"open challenges\": null,\n",
      "        \"Technological Readiness Level\": null,\n",
      "        \"notes\": null,\n",
      "        \"Use Case\": null,\n",
      "        \"twinning target\": null\n",
      "    }\n",
      "}\n"
     ]
    }
   ],
   "source": [
    "json_object = json.dumps(out_menge_1, indent = 4) \n",
    "print(json_object)"
   ]
  },
  {
   "cell_type": "code",
   "execution_count": 55,
   "metadata": {},
   "outputs": [],
   "source": [
    "try:\n",
    "    os.remove(\"target/json/temp.json\")\n",
    "except OSError as error:\n",
    "    print(error)"
   ]
  },
  {
   "cell_type": "code",
   "execution_count": 56,
   "metadata": {},
   "outputs": [
    {
     "name": "stdout",
     "output_type": "stream",
     "text": [
      "[WinError 183] Eine Datei kann nicht erstellt werden, wenn sie bereits vorhanden ist: 'target/json/'\n"
     ]
    }
   ],
   "source": [
    "try:\n",
    "    os.mkdir('target/json/')\n",
    "except OSError as error:\n",
    "    print(error)"
   ]
  },
  {
   "cell_type": "code",
   "execution_count": 57,
   "metadata": {},
   "outputs": [],
   "source": [
    "with open(\"target/json/temp.json\", \"w\") as outfile:\n",
    "    outfile.write(json_object)"
   ]
  },
  {
   "cell_type": "markdown",
   "metadata": {},
   "source": [
    "## eine runde fegen"
   ]
  },
  {
   "cell_type": "code",
   "execution_count": 58,
   "metadata": {},
   "outputs": [],
   "source": [
    "del json_object\n",
    "del outfile\n",
    "del title\n",
    "del row\n",
    "del key\n",
    "del entry\n",
    "del index"
   ]
  }
 ],
 "metadata": {
  "kernelspec": {
   "display_name": "Python 3 (ipykernel)",
   "language": "python",
   "name": "python3"
  },
  "language_info": {
   "codemirror_mode": {
    "name": "ipython",
    "version": 3
   },
   "file_extension": ".py",
   "mimetype": "text/x-python",
   "name": "python",
   "nbconvert_exporter": "python",
   "pygments_lexer": "ipython3",
   "version": "3.10.3"
  }
 },
 "nbformat": 4,
 "nbformat_minor": 2
}
