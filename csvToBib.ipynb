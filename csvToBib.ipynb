{
 "cells": [
  {
   "cell_type": "code",
   "execution_count": 320,
   "metadata": {},
   "outputs": [],
   "source": [
    "import subprocess\n",
    "import sys\n",
    "\n",
    "def install(package):\n",
    "    subprocess.check_call([sys.executable, \"-m\", \"pip\", \"install\", package])\n",
    "\n",
    "install(\"pandas\")\n",
    "install(\"numpy\")\n",
    "install(\"matplotlib\")"
   ]
  },
  {
   "cell_type": "code",
   "execution_count": 321,
   "metadata": {},
   "outputs": [],
   "source": [
    "import pandas as pd\n",
    "import numpy as np\n",
    "import json\n",
    "import csv\n",
    "import os\n",
    "import math"
   ]
  },
  {
   "cell_type": "code",
   "execution_count": 322,
   "metadata": {},
   "outputs": [],
   "source": [
    "df = pd.read_csv(\"data/04 extraction consolidation results_backup_sepEQI.csv\", sep=\"|\")"
   ]
  },
  {
   "cell_type": "code",
   "execution_count": 323,
   "metadata": {},
   "outputs": [],
   "source": [
    "metadata = pd.read_csv(\"./data/search_results.csv\", sep=\";\", encoding=\"latin-1\")"
   ]
  },
  {
   "cell_type": "code",
   "execution_count": 324,
   "metadata": {},
   "outputs": [],
   "source": [
    "data = df.merge(metadata, how='left', on='Title')"
   ]
  },
  {
   "cell_type": "code",
   "execution_count": 325,
   "metadata": {},
   "outputs": [],
   "source": [
    "includedTitles = df['Title']"
   ]
  },
  {
   "cell_type": "code",
   "execution_count": 326,
   "metadata": {},
   "outputs": [],
   "source": [
    "includedTitles = includedTitles.dropna().unique()"
   ]
  },
  {
   "cell_type": "code",
   "execution_count": 327,
   "metadata": {},
   "outputs": [],
   "source": [
    "includedTitles = pd.DataFrame(includedTitles, columns=['Title'])"
   ]
  },
  {
   "cell_type": "code",
   "execution_count": 328,
   "metadata": {},
   "outputs": [],
   "source": [
    "data = includedTitles.merge(metadata, how='left', on='Title').dropna(subset=['Title'])"
   ]
  },
  {
   "cell_type": "code",
   "execution_count": 329,
   "metadata": {},
   "outputs": [
    {
     "data": {
      "text/plain": [
       "array(['J', 'Article', 'IEEE Journals', 'IEEE Conferences',\n",
       "       'Conference Paper', 'Conference paper', 'C', nan], dtype=object)"
      ]
     },
     "execution_count": 329,
     "metadata": {},
     "output_type": "execute_result"
    }
   ],
   "source": [
    "data['Document Identifier'].unique()"
   ]
  },
  {
   "cell_type": "code",
   "execution_count": null,
   "metadata": {},
   "outputs": [],
   "source": []
  },
  {
   "cell_type": "code",
   "execution_count": 330,
   "metadata": {},
   "outputs": [],
   "source": [
    "possibilities = ['J', 'Article', 'IEEE Journals', 'IEEE Conferences','Conference Paper', 'Conference paper', 'C']"
   ]
  },
  {
   "cell_type": "code",
   "execution_count": 331,
   "metadata": {},
   "outputs": [],
   "source": [
    "tags = []\n",
    "shorts = []"
   ]
  },
  {
   "cell_type": "code",
   "execution_count": 332,
   "metadata": {},
   "outputs": [],
   "source": [
    "for index, row in data.iterrows():\n",
    "    di = row['Document Identifier']\n",
    "\n",
    "    if di == possibilities[0]:\n",
    "        tags.append(\"@article\")\n",
    "        \n",
    "\n",
    "    elif di == possibilities[1]:\n",
    "        tags.append(\"@article\")\n",
    "        \n",
    "    \n",
    "    elif di == possibilities[2]:\n",
    "        tags.append(\"@article\")\n",
    "    \n",
    "    elif di == possibilities[3]:\n",
    "        tags.append(\"@inproceedings\")\n",
    "    \n",
    "    elif di == possibilities[4]:\n",
    "        tags.append(\"@inproceedings\")\n",
    "    \n",
    "    elif di == possibilities[5]:\n",
    "        tags.append(\"@inproceedings\")\n",
    "\n",
    "    elif di == possibilities[6]:\n",
    "        tags.append(\"@inproceedings\")\n",
    "    \n",
    "    else:\n",
    "        tags.append(\"@misc\")\n",
    "    \n"
   ]
  },
  {
   "cell_type": "code",
   "execution_count": 333,
   "metadata": {},
   "outputs": [
    {
     "data": {
      "text/plain": [
       "102"
      ]
     },
     "execution_count": 333,
     "metadata": {},
     "output_type": "execute_result"
    }
   ],
   "source": [
    "len(tags)"
   ]
  },
  {
   "cell_type": "code",
   "execution_count": 334,
   "metadata": {},
   "outputs": [],
   "source": [
    "data2 = data.assign(tag= tags)"
   ]
  },
  {
   "cell_type": "code",
   "execution_count": 335,
   "metadata": {},
   "outputs": [],
   "source": [
    "yearless = {'A digital twin-driven hybrid approach for the prediction of performance degradation in transmission unit of CNC machine tool':2022,\n",
    "'A framework for Model-Driven Engineering of resilient software-controlled systems':2021,\n",
    "'A framework for Model-Driven Engineering of resilient software-controlled systems':2021,\n",
    "'A Methodology for Digital Twin Modeling and Deployment for Industry 4.0':2020,\n",
    "'AML4DT: A Model-Driven Framework for Developing and Maintaining Digital Twins with AutomationML':2021,\n",
    "'Closed-Loop Systems Engineering (CLOSE): Integrating Experimentable Digital Twins with the Model-Driven Engineering Process':2018,\n",
    "'Combining Low-Code Programming and SDL-Based Modeling with Snap! in the Industry 4.0 Context':2021,\n",
    "'DataTime: a Framework to smoothly Integrate Past, Present and Future into Models':2021,\n",
    "'Digital Behavioral Twins for Safe Connected Cars':2018,\n",
    "'Digital Twin of an Electrical Motor Based on Empirical Performance Model':2020,\n",
    "'Ensuring consistency in scalable-detail models for DT-based control':2021,\n",
    "'Generating customized low-code development platforms for digital twins':2022,\n",
    "'Generative and Model-driven SDK development for the Industrie 4.0 Digital Twin':2021,\n",
    "'Interface Development for Digital Twin of an Electric Motor Based on Empirical Performance Model':2022,\n",
    "'Knowledge driven rapid development of white box digital twins for industrial plant systems':2021,\n",
    "'Meta-model-based shop-floor digital twin architecture, modeling and application':2023,\n",
    "'Model-Driven Development of a Digital Twin for Injection Molding':2020,\n",
    "'Model-driven engineering city spaces via bidirectional model transformations':2021,\n",
    "'Supporting Digital Twins for the Retrofit in Aviation by a Model-Driven Data Handling':2023,\n",
    "'Supporting the Implementation of Digital Twins for IoT-Enhanced BPs':2023,\n",
    "'The Framework for Designing Autonomous Cyber-Physical Multi-agent Systems for Adaptive Resource Management':2019,\n",
    "'The OMiLAB Digital Innovation environment: Agile conceptual models to bridge business value with Digital and Physical Twins for Product-Service Systems development':2022,\n",
    "'Towards a Model-Driven Architecture for Interactive Digital Twin Cockpits':2020,\n",
    "'Using UML and OCL Models to Realize High-Level Digital Twins':2021}"
   ]
  },
  {
   "cell_type": "code",
   "execution_count": 336,
   "metadata": {},
   "outputs": [],
   "source": [
    "for index, row in data2.iterrows():\n",
    "    docid = row['Document Identifier']\n",
    "    title = row['Title']\n",
    "    year = row['Publication Year']\n",
    "    name = row['Authors']\n",
    "    if pd.isna(docid):\n",
    "        di = ''\n",
    "    else:\n",
    "        di = docid[0:1]\n",
    "    if pd.isna(name):\n",
    "        out = \"\"\n",
    "        #print(year, name, di)\n",
    "\n",
    "        if year == 2018:\n",
    "            out=di+str(18)+title\n",
    "        elif year == 2019:\n",
    "            out=di+str(19)+title\n",
    "        elif year == 2020:\n",
    "            out=di+str(20)+title\n",
    "        elif year == 2021:\n",
    "            out=di+str(21)+title\n",
    "        elif year == 2022:\n",
    "            out=di+str(22)+title\n",
    "        elif year == 2023:\n",
    "            out=di+str(23)+title\n",
    "        elif year == 2024:\n",
    "            out=di+str(24)+title\n",
    "    \n",
    "        else:\n",
    "            if row['Title'] in yearless.keys():\n",
    "                out = str(di)+ str(yearless[row['Title']])+ title\n",
    "                data2.at[index,'Publication Year'] = yearless[row['Title']]\n",
    "                #row['Publication Year'] = yearless[row['Title']]\n",
    "            else:\n",
    "                out=str(di)+title\n",
    "            #print(row['Title'])\n",
    "            #out=str(di)+title\n",
    "        shorts.append(out)\n",
    "        continue\n",
    "    shname = name.replace(' ', '').replace('.','')[0:3]\n",
    "    title = title.replace(' ', '')[0:3]\n",
    "    \n",
    "    out = \"\"\n",
    "    #print(year, name, di)\n",
    "\n",
    "    if year == 2018:\n",
    "        out=di+shname+str(18)+title\n",
    "    elif year == 2019:\n",
    "        out=di+shname+str(19)+title\n",
    "    elif year == 2020:\n",
    "        out=shname+str(20)+title\n",
    "    elif year == 2021:\n",
    "        out=di+shname+str(21)+title\n",
    "    elif year == 2022:\n",
    "        out=di+shname+str(22)+title\n",
    "    elif year == 2023:\n",
    "        out=di+shname+str(23)+title\n",
    "    elif year == 2024:\n",
    "        out=di+shname+str(24)+title\n",
    "    \n",
    "    else:\n",
    "        if row['Title'] in yearless.keys():\n",
    "            out = shname+ str(yearless[row['Title']])+ title\n",
    "            data2.at[index,'Publication Year'] = yearless[row['Title']]\n",
    "        else:\n",
    "            out=shname+title\n",
    "    shorts.append(out)"
   ]
  },
  {
   "cell_type": "code",
   "execution_count": 337,
   "metadata": {},
   "outputs": [],
   "source": [
    "data2 = data2.assign(shorts= shorts)"
   ]
  },
  {
   "cell_type": "code",
   "execution_count": 338,
   "metadata": {},
   "outputs": [],
   "source": [
    "bibtext = \"\"\n",
    "for index,row in data2.iterrows():\n",
    "    bibtext+=row['tag']+ \"{\"+row['shorts']+\"\\n\"\n",
    "\n",
    "    if pd.notna(row['Authors']):\n",
    "        bibtext += \"\\tauthor = {\"+ str(row['Authors'])+\"}\"\n",
    "    if pd.notna(row['Publication Year']):\n",
    "        bibtext += \",\\n\\tyear = {\"+ str(row['Publication Year'])+\"}\"\n",
    "    if pd.notna(row['Title']):\n",
    "        bibtext += \",\\n\\ttitle = {\"+ str(row['Title'])+\"}\"\n",
    "    if pd.notna(row['Publisher']):\n",
    "        bibtext += \",\\n\\tpublisher = {\"+ str(row['Publisher'])+\"}\"\n",
    "    bibtext+=\"\\n}\\n\"\n"
   ]
  },
  {
   "cell_type": "code",
   "execution_count": 339,
   "metadata": {},
   "outputs": [],
   "source": [
    "import unicodedata\n",
    "out11 = unicodedata.normalize('NFKD', bibtext).encode('ascii', 'ignore')"
   ]
  },
  {
   "cell_type": "code",
   "execution_count": 340,
   "metadata": {},
   "outputs": [
    {
     "data": {
      "text/plain": [
       "b'@article{Yan2022Adi\\n\\tauthor = {Yang, X; Ran, Y; Zhang, GB; Wang, HW; Mu, ZY; Zhi, SG},\\n\\tyear = {2022.0},\\n\\ttitle = {A digital twin-driven hybrid approach for the prediction of performance degradation in transmission unit of CNC machine tool}\\n}\\n@article{APar21Afr\\n\\tauthor = {Parri J.; Patara F.; Sampietro S.; Vicario E.},\\n\\tyear = {2021.0},\\n\\ttitle = {A framework for Model-Driven Engineering of resilient software-controlled systems},\\n\\tpublisher = {Springer}\\n}\\n@article{Par2021Afr\\n\\tauthor = {Parri, J; Patara, F; Sampietro, S; Vicario, E},\\n\\tyear = {2021.0},\\n\\ttitle = {A framework for Model-Driven Engineering of resilient software-controlled systems}\\n}\\n@article{IGNS21AMe\\n\\tauthor = {G. N. Schroeder; C. Steinmetz; R. N. Rodrigues; R. V. B. Henriques; A. Rettberg; C. E. Pereira},\\n\\tyear = {2021.0},\\n\\ttitle = {A Methodology for Digital Twin Modeling and Deployment for Industry 4.0},\\n\\tpublisher = {IEEE}\\n}\\n@article{ASch21AMe\\n\\tauthor = {Schroeder G.N.; Steinmetz C.; Rodrigues R.N.; Henriques R.V.B.; Rettberg A.; Pereira C.E.},\\n\\tyear = {2021.0},\\n\\ttitle = {A Methodology for Digital Twin Modeling and Deployment for Industry 4.0},\\n\\tpublisher = {Institute of Electrical and Electronics Engineers Inc.}\\n}\\n@article{IGNS21AMe\\n\\tauthor = {G. N. Schroeder; C. Steinmetz; R. N. Rodrigues; R. V. B. Henriques; A. Rettberg; C. E. Pereira},\\n\\tyear = {2021.0},\\n\\ttitle = {A Methodology for Digital Twin Modeling and Deployment for Industry 4.0},\\n\\tpublisher = {IEEE}\\n}\\n@article{Sch2020AMe\\n\\tauthor = {Schroeder, GN; Steinmetz, C; Rodrigues, RN; Henriques, RVB; Rettberg, A; Pereira, CE},\\n\\tyear = {2020.0},\\n\\ttitle = {A Methodology for Digital Twin Modeling and Deployment for Industry 4.0}\\n}\\n@inproceedings{ISSh19AMo\\n\\tauthor = {S. Shokooh; G. Nordvik},\\n\\tyear = {2019.0},\\n\\ttitle = {A Model-Driven Approach for Situational Intelligence & Operational Awareness},\\n\\tpublisher = {IEEE}\\n}\\n@inproceedings{ISSh19AMo\\n\\tauthor = {S. Shokooh; G. Nordvik},\\n\\tyear = {2019.0},\\n\\ttitle = {A Model-Driven Approach for Situational Intelligence & Operational Awareness},\\n\\tpublisher = {IEEE}\\n}\\n@inproceedings{CChr22ANo\\n\\tauthor = {Christofi N,Pucel X},\\n\\tyear = {2022.0},\\n\\ttitle = {A Novel Methodology to Construct Digital Twin Models for Spacecraft Operations Using Fault and Behaviour Trees},\\n\\tpublisher = {ACM}\\n}\\n@inproceedings{CChr22ANo\\n\\tauthor = {Christofi N,Pucel X},\\n\\tyear = {2022.0},\\n\\ttitle = {A Novel Methodology to Construct Digital Twin Models for Spacecraft Operations Using Fault and Behaviour Trees},\\n\\tpublisher = {ACM}\\n}\\n@article{ALeh23Apa\\n\\tauthor = {Lehner D.; Sint S.; Eisenberg M.; Wimmer M.},\\n\\tyear = {2023.0},\\n\\ttitle = {A pattern catalog for augmenting Digital Twin models with behavior; [Ein Musterkatalog zur Erweiterung von digitalen Zwillingsmodellen um Verhaltenssichten]},\\n\\tpublisher = {De Gruyter Oldenbourg}\\n}\\n@inproceedings{IDLe21AML\\n\\tauthor = {D. Lehner; S. Sint; M. Vierhauser; W. Narzt; M. Wimmer},\\n\\tyear = {2021.0},\\n\\ttitle = {AML4DT: A Model-Driven Framework for Developing and Maintaining Digital Twins with AutomationML},\\n\\tpublisher = {IEEE}\\n}\\n@inproceedings{CLeh21AML\\n\\tauthor = {Lehner D.; Sint S.; Vierhauser M.; Narzt W.; Wimmer M.},\\n\\tyear = {2021.0},\\n\\ttitle = {AML4DT: A Model-Driven Framework for Developing and Maintaining Digital Twins with AutomationML},\\n\\tpublisher = {Institute of Electrical and Electronics Engineers Inc.}\\n}\\n@inproceedings{IDLe21AML\\n\\tauthor = {D. Lehner; S. Sint; M. Vierhauser; W. Narzt; M. Wimmer},\\n\\tyear = {2021.0},\\n\\ttitle = {AML4DT: A Model-Driven Framework for Developing and Maintaining Digital Twins with AutomationML},\\n\\tpublisher = {IEEE}\\n}\\n@inproceedings{Leh2021AML\\n\\tauthor = {Lehner, D; Sint, S; Vierhauser, M; Narzt, W; Wimmer, M},\\n\\tyear = {2021.0},\\n\\ttitle = {AML4DT: A Model-Driven Framework for Developing and Maintaining Digital Twins with AutomationML}\\n}\\n@inproceedings{IMIb23AnE\\n\\tauthor = {M. Ibrahim; H. A. Raja; A. Rassi12lkin; T. Vaimann; A. Kallaste},\\n\\tyear = {2023.0},\\n\\ttitle = {An EV-Traction Inverter Data-Driven Modelling for Digital Twin Development},\\n\\tpublisher = {IEEE}\\n}\\n@inproceedings{CGri22Cas\\n\\tauthor = {Grimmeisen P,Wortmann A,Morozov A},\\n\\tyear = {2022.0},\\n\\ttitle = {Case Study on Automated and Continuous Reliability Assessment of Software-Defined Manufacturing Based on Digital Twins},\\n\\tpublisher = {ACM}\\n}\\n@inproceedings{CGri22Cas\\n\\tauthor = {Grimmeisen P,Wortmann A,Morozov A},\\n\\tyear = {2022.0},\\n\\ttitle = {Case Study on Automated and Continuous Reliability Assessment of Software-Defined Manufacturing Based on Digital Twins},\\n\\tpublisher = {ACM}\\n}\\n@inproceedings{IMDM18Clo\\n\\tauthor = {M. D. Maio; G. -D. Kapos; N. Klusmann; L. Atorf; U. Dahmen; M. Schluse; J. Rossmann},\\n\\tyear = {2018.0},\\n\\ttitle = {Closed-Loop Systems Engineering (CLOSE): Integrating Experimentable Digital Twins with the Model-Driven Engineering Process},\\n\\tpublisher = {IEEE}\\n}\\n@inproceedings{IMDM18Clo\\n\\tauthor = {M. D. Maio; G. -D. Kapos; N. Klusmann; L. Atorf; U. Dahmen; M. Schluse; J. Rossmann},\\n\\tyear = {2018.0},\\n\\ttitle = {Closed-Loop Systems Engineering (CLOSE): Integrating Experimentable Digital Twins with the Model-Driven Engineering Process},\\n\\tpublisher = {IEEE}\\n}\\n@inproceedings{DiM2018Clo\\n\\tauthor = {Di Maio, M; Kapos, GD; Klusmann, N; Atorf, L; Dahmen, U; Schluse, M; Rossmann, J},\\n\\tyear = {2018.0},\\n\\ttitle = {Closed-Loop Systems Engineering (CLOSE): Integrating Experimentable Digital Twins with the Model-Driven Engineering Process}\\n}\\n@inproceedings{IXPi21Com\\n\\tauthor = {X. P. i. Palomi12s; P. Tuset-Peiri12; P. F. i. Casas},\\n\\tyear = {2021.0},\\n\\ttitle = {Combining Low-Code Programming and SDL-Based Modeling with Snap! in the Industry 4.0 Context},\\n\\tpublisher = {IEEE}\\n}\\n@inproceedings{IXPi21Com\\n\\tauthor = {X. P. i. Palomi12s; P. Tuset-Peiri12; P. F. i. Casas},\\n\\tyear = {2021.0},\\n\\ttitle = {Combining Low-Code Programming and SDL-Based Modeling with Snap! in the Industry 4.0 Context},\\n\\tpublisher = {IEEE}\\n}\\n@inproceedings{Pal2021Com\\n\\tauthor = {Palomes, XPI; Tuset-Peiro, P; Casas, PFI},\\n\\tyear = {2021.0},\\n\\ttitle = {Combining Low-Code Programming and SDL-Based Modeling with Snap! in the Industry 4.0 Context}\\n}\\n@inproceedings{IFWi23Con\\n\\tauthor = {F. Wilking; M. Behringer; M. Fett; S. Goetz; E. Kirchner; S. Wartzack},\\n\\tyear = {2023.0},\\n\\ttitle = {Concept of a Modular and System Model Driven Digital Twin for Engineering Education},\\n\\tpublisher = {IEEE}\\n}\\n@inproceedings{CFen22CPS\\n\\tauthor = {Fend A,Bork D},\\n\\tyear = {2022.0},\\n\\ttitle = {CPSAML: A Language and Code Generation Framework for Digital Twin Based Monitoring of Mobile Cyber-Physical Systems},\\n\\tpublisher = {ACM}\\n}\\n@inproceedings{CFen22CPS\\n\\tauthor = {Fend A,Bork D},\\n\\tyear = {2022.0},\\n\\ttitle = {CPSAML: A Language and Code Generation Framework for Digital Twin Based Monitoring of Mobile Cyber-Physical Systems},\\n\\tpublisher = {ACM}\\n}\\n@inproceedings{IGLy21Dat\\n\\tauthor = {G. Lyan; J. -M. Ji12zi12quel; D. Gross-Amblard; B. Combemale},\\n\\tyear = {2021.0},\\n\\ttitle = {DataTime: a Framework to smoothly Integrate Past, Present and Future into Models},\\n\\tpublisher = {IEEE}\\n}\\n@inproceedings{IGLy21Dat\\n\\tauthor = {G. Lyan; J. -M. Ji12zi12quel; D. Gross-Amblard; B. Combemale},\\n\\tyear = {2021.0},\\n\\ttitle = {DataTime: a Framework to smoothly Integrate Past, Present and Future into Models},\\n\\tpublisher = {IEEE}\\n}\\n@inproceedings{Lya2021Dat\\n\\tauthor = {Lyan, G; Jezequel, JM; Gross-Amblard, D; Combemale, B},\\n\\tyear = {2021.0},\\n\\ttitle = {DataTime: a Framework to smoothly Integrate Past, Present and Future into Models}\\n}\\n@inproceedings{CChe18Dig\\n\\tauthor = {Chen X,Kang E,Shiraishi S,Preciado VM,Jiang Z},\\n\\tyear = {2018.0},\\n\\ttitle = {Digital Behavioral Twins for Safe Connected Cars},\\n\\tpublisher = {ACM}\\n}\\n@inproceedings{Che2018Dig\\n\\tauthor = {Chen, XM; Kang, E; Shiraishi, S; Preciado, VM; Jiang, ZH},\\n\\tyear = {2018.0},\\n\\ttitle = {Digital Behavioral Twins for Safe Connected Cars}\\n}\\n@inproceedings{CBar22Dig\\n\\tauthor = {Barat S,Kulkarni V,Clark T,Barn B},\\n\\tyear = {2022.0},\\n\\ttitle = {Digital Twin as Risk-Free Experimentation Aid for Techno-Socio-Economic Systems},\\n\\tpublisher = {ACM}\\n}\\n@inproceedings{CBar22Dig\\n\\tauthor = {Barat S,Kulkarni V,Clark T,Barn B},\\n\\tyear = {2022.0},\\n\\ttitle = {Digital Twin as Risk-Free Experimentation Aid for Techno-Socio-Economic Systems},\\n\\tpublisher = {ACM}\\n}\\n@inproceedings{ARa20Dig\\n\\tauthor = {A. Rassi12lkin; V. Rjabti12ikov; T. Vaimann; A. Kallaste; V. Kuts; A. Partyshev},\\n\\tyear = {2020.0},\\n\\ttitle = {Digital Twin of an Electrical Motor Based on Empirical Performance Model},\\n\\tpublisher = {IEEE}\\n}\\n@inproceedings{Ras20Dig\\n\\tauthor = {Rassolkin A.; Rjabtsikov V.; Vaimann T.; Kallaste A.; Kuts V.; Partyshev A.},\\n\\tyear = {2020.0},\\n\\ttitle = {Digital Twin of an Electrical Motor Based on Empirical Performance Model},\\n\\tpublisher = {Institute of Electrical and Electronics Engineers Inc.}\\n}\\n@inproceedings{ARa20Dig\\n\\tauthor = {A. Rassi12lkin; V. Rjabt?ikov; T. Vaimann; A. Kallaste; V. Kuts; A. Partyshev},\\n\\tyear = {2020.0},\\n\\ttitle = {Digital Twin of an Electrical Motor Based on Empirical Performance Model},\\n\\tpublisher = {IEEE}\\n}\\n@inproceedings{Ras2020Dig\\n\\tauthor = {Rassolkin, A; Rjabtsikov, V; Vaimann, T; Kallaste, A; Kuts, V; Partyshev, A},\\n\\tyear = {2020.0},\\n\\ttitle = {Digital Twin of an Electrical Motor Based on Empirical Performance Model}\\n}\\n@inproceedings{YDa20Dig\\n\\tauthor = {Y. Dai; Y. Shi; Z. Zhang; R. Tao; F. Fang},\\n\\tyear = {2020.0},\\n\\ttitle = {Digital Twins Driving Model Based on Petri Net in Industrial Pipeline},\\n\\tpublisher = {IEEE}\\n}\\n@inproceedings{YDa20Dig\\n\\tauthor = {Y. Dai; Y. Shi; Z. Zhang; R. Tao; F. Fang},\\n\\tyear = {2020.0},\\n\\ttitle = {Digital Twins Driving Model Based on Petri Net in Industrial Pipeline},\\n\\tpublisher = {IEEE}\\n}\\n@inproceedings{CHua22Ena\\n\\tauthor = {Huang Y,Dhouib S,Medinacelli LP,Malenfant J},\\n\\tyear = {2022.0},\\n\\ttitle = {Enabling Semantic Interoperability of Asset Administration Shells through an Ontology-Based Modeling Method},\\n\\tpublisher = {ACM}\\n}\\n@inproceedings{CHua22Ena\\n\\tauthor = {Huang Y,Dhouib S,Medinacelli LP,Malenfant J},\\n\\tyear = {2022.0},\\n\\ttitle = {Enabling Semantic Interoperability of Asset Administration Shells through an Ontology-Based Modeling Method},\\n\\tpublisher = {ACM}\\n}\\n@inproceedings{CCim21Ens\\n\\tauthor = {Cimino C.; Leva A.; Ferretti G.},\\n\\tyear = {2021.0},\\n\\ttitle = {Ensuring consistency in scalable-detail models for DT-based control},\\n\\tpublisher = {Elsevier B.V.}\\n}\\n@inproceedings{Cim2021Ens\\n\\tauthor = {Cimino, C; Leva, A; Ferretti, G},\\n\\tyear = {2021.0},\\n\\ttitle = {Ensuring consistency in scalable-detail models for DT-based control}\\n}\\n@article{ADal22Gen\\n\\tauthor = {Dalibor M.; Heithoff M.; Michael J.; Netz L.; Pfeiffer J.; Rumpe B.; Varga S.; Wortmann A.},\\n\\tyear = {2022.0},\\n\\ttitle = {Generating customized low-code development platforms for digital twins},\\n\\tpublisher = {Elsevier Ltd}\\n}\\n@article{Dal2022Gen\\n\\tauthor = {Dalibor, M; Heithoff, M; Michael, J; Netz, L; Pfeiffer, J; Rumpe, B; Varga, S; Wortmann, A},\\n\\tyear = {2022.0},\\n\\ttitle = {Generating customized low-code development platforms for digital twins}\\n}\\n@inproceedings{CMic22Gen\\n\\tauthor = {Michael J.; Nachmann I.; Netz L.; Rumpe B.; Sti12ber S.},\\n\\tyear = {2022.0},\\n\\ttitle = {Generating Digital Twin Cockpits for Parameter Management in the Engineering of Wind Turbines},\\n\\tpublisher = {Gesellschaft fur Informatik (GI)}\\n}\\n@inproceedings{INBr21Gen\\n\\tauthor = {N. Braunisch; M. Ristin-Kaufmann; R. Lehmann; H. W. van de Venn},\\n\\tyear = {2021.0},\\n\\ttitle = {Generative and Model-driven SDK development for the Industrie 4.0 Digital Twin},\\n\\tpublisher = {IEEE}\\n}\\n@inproceedings{CBra21Gen\\n\\tauthor = {Braunisch N.; Ristin-Kaufmann M.; Lehmann R.; Van De Venn H.W.},\\n\\tyear = {2021.0},\\n\\ttitle = {Generative and Model-driven SDK development for the Industrie 4.0 Digital Twin},\\n\\tpublisher = {Institute of Electrical and Electronics Engineers Inc.}\\n}\\n@inproceedings{INBr21Gen\\n\\tauthor = {N. Braunisch; M. Ristin-Kaufmann; R. Lehmann; H. W. van de Venn},\\n\\tyear = {2021.0},\\n\\ttitle = {Generative and Model-driven SDK development for the Industrie 4.0 Digital Twin},\\n\\tpublisher = {IEEE}\\n}\\n@inproceedings{Bra2021Gen\\n\\tauthor = {Braunisch, N; Ristin-Kaufmann, M; Lehmann, R; Van de Venn, HW},\\n\\tyear = {2021.0},\\n\\ttitle = {Generative and Model-driven SDK development for the Industrie 4.0 Digital Twin}\\n}\\n@inproceedings{CBar22Int\\n\\tauthor = {Barosan I,van der Heijden J},\\n\\tyear = {2022.0},\\n\\ttitle = {Integration of SysML Models in a 3D Environment for Virtual Testing and Validation},\\n\\tpublisher = {ACM}\\n}\\n@inproceedings{CBar22Int\\n\\tauthor = {Barosan I,van der Heijden J},\\n\\tyear = {2022.0},\\n\\ttitle = {Integration of SysML Models in a 3D Environment for Virtual Testing and Validation},\\n\\tpublisher = {ACM}\\n}\\n@article{IARa22Int\\n\\tauthor = {A. Rassi12lkin; V. Rjabti12ikov; V. Kuts; T. Vaimann; A. Kallaste; B. Asad; A. Partyshev},\\n\\tyear = {2022.0},\\n\\ttitle = {Interface Development for Digital Twin of an Electric Motor Based on Empirical Performance Model},\\n\\tpublisher = {IEEE}\\n}\\n@article{ARas22Int\\n\\tauthor = {Rassolkin A.; Rjabtsikov V.; Kuts V.; Vaimann T.; Kallaste A.; Asad B.; Partyshev A.},\\n\\tyear = {2022.0},\\n\\ttitle = {Interface Development for Digital Twin of an Electric Motor Based on Empirical Performance Model},\\n\\tpublisher = {Institute of Electrical and Electronics Engineers Inc.}\\n}\\n@article{IARa22Int\\n\\tauthor = {A. Rassi12lkin; V. Rjabt?ikov; V. Kuts; T. Vaimann; A. Kallaste; B. Asad; A. Partyshev},\\n\\tyear = {2022.0},\\n\\ttitle = {Interface Development for Digital Twin of an Electric Motor Based on Empirical Performance Model},\\n\\tpublisher = {IEEE}\\n}\\n@article{Ras2022Int\\n\\tauthor = {Rassolkin, A; Rjabtsikov, V; Kuts, V; Vaimann, T; Kallaste, A; Asad, B; Partyshev, A},\\n\\tyear = {2022.0},\\n\\ttitle = {Interface Development for Digital Twin of an Electric Motor Based on Empirical Performance Model}\\n}\\n@inproceedings{IAB;21Kno\\n\\tauthor = {A. B.; S. R.C.; B. B.; R. Dhakshinamoorthy; S. A.; N. S.},\\n\\tyear = {2021.0},\\n\\ttitle = {Knowledge driven rapid development of white box digital twins for industrial plant systems},\\n\\tpublisher = {IEEE}\\n}\\n@inproceedings{IAB;21Kno\\n\\tauthor = {A. B.; S. R.C.; B. B.; R. Dhakshinamoorthy; S. A.; N. S.},\\n\\tyear = {2021.0},\\n\\ttitle = {Knowledge driven rapid development of white box digital twins for industrial plant systems},\\n\\tpublisher = {IEEE}\\n}\\n@inproceedings{Ama2021Kno\\n\\tauthor = {Amar, B; Subhrojyoti, RC; Barnali, B; Dhakshinamoorthy, R; Seenivasan, A; Naveenkumar, S},\\n\\tyear = {2021.0},\\n\\ttitle = {Knowledge driven rapid development of white box digital twins for industrial plant systems}\\n}\\n@article{AYan23Met\\n\\tauthor = {Yang X.; Liu X.; Zhang H.; Fu L.; Yu Y.},\\n\\tyear = {2023.0},\\n\\ttitle = {Meta-model-based shop-floor digital twin architecture, modeling and application},\\n\\tpublisher = {Elsevier Ltd}\\n}\\n@article{Yan2023Met\\n\\tauthor = {Yang, XL; Liu, XM; Zhang, H; Fu, L; Yu, YB},\\n\\tyear = {2023.0},\\n\\ttitle = {Meta-model-based shop-floor digital twin architecture, modeling and application}\\n}\\n@inproceedings{Bib20Mod\\n\\tauthor = {Bibow P.; Dalibor M.; Hopmann C.; Mainz B.; Rumpe B.; Schmalzing D.; Schmitz M.; Wortmann A.},\\n\\tyear = {2020.0},\\n\\ttitle = {Model-Driven Development of a Digital Twin for Injection Molding},\\n\\tpublisher = {Springer}\\n}\\n@inproceedings{Bib2020Mod\\n\\tauthor = {Bibow, P; Dalibor, M; Hopmann, C; Mainz, B; Rumpe, B; Schmalzing, D; Schmitz, M; Wortmann, A},\\n\\tyear = {2020.0},\\n\\ttitle = {Model-Driven Development of a Digital Twin for Injection Molding}\\n}\\n@inproceedings{Kir20Mod\\n\\tauthor = {Kirchhof JC,Michael J,Rumpe B,Varga S,Wortmann A},\\n\\tyear = {2020.0},\\n\\ttitle = {Model-Driven Digital Twin Construction: Synthesizing the Integration of Cyber-Physical Systems with Their Information Systems},\\n\\tpublisher = {ACM}\\n}\\n@inproceedings{Kir20Mod\\n\\tauthor = {Kirchhof JC,Michael J,Rumpe B,Varga S,Wortmann A},\\n\\tyear = {2020.0},\\n\\ttitle = {Model-Driven Digital Twin Construction: Synthesizing the Integration of Cyber-Physical Systems with Their Information Systems},\\n\\tpublisher = {ACM}\\n}\\n@article{AVis21Mod\\n\\tauthor = {Visconti E.; Tsigkanos C.; Hu Z.; Ghezzi C.},\\n\\tyear = {2021.0},\\n\\ttitle = {Model-driven engineering city spaces via bidirectional model transformations},\\n\\tpublisher = {Springer Science and Business Media Deutschland GmbH}\\n}\\n@article{Vis2021Mod\\n\\tauthor = {Visconti, E; Tsigkanos, C; Hu, ZJ; Ghezzi, C},\\n\\tyear = {2021.0},\\n\\ttitle = {Model-driven engineering city spaces via bidirectional model transformations}\\n}\\n@inproceedings{CCha22Mod\\n\\tauthor = {Chaudhary H.A.A.; Guevara I.; John J.; Singh A.; Ghosal A.; Pesch D.; Margaria T.},\\n\\tyear = {2022.0},\\n\\ttitle = {Model-Driven Engineering in Digital Thread Platforms: A Practical Use Case and Future Challenges},\\n\\tpublisher = {Springer Science and Business Media Deutschland GmbH}\\n}\\n@inproceedings{Riv20Ont\\n\\tauthor = {Rivera LF,Mi12ller HA,Villegas NM,Tamura G,Jimi12nez M},\\n\\tyear = {2020.0},\\n\\ttitle = {On the Engineering of IoT-Intensive Digital Twin Software Systems},\\n\\tpublisher = {ACM}\\n}\\n@inproceedings{Riv20Ont\\n\\tauthor = {Rivera LF,Mi12ller HA,Villegas NM,Tamura G,Jimi12nez M},\\n\\tyear = {2020.0},\\n\\ttitle = {On the Engineering of IoT-Intensive Digital Twin Software Systems},\\n\\tpublisher = {ACM}\\n}\\n@inproceedings{IACh22Pro\\n\\tauthor = {A. Chi?; A. -M. Ghiran; R. A. Buchmann},\\n\\tyear = {2022.0},\\n\\ttitle = {Proof of Concept for a Roundtrip Engineering IS for the New Enterprise in the Industry 4.0 Era},\\n\\tpublisher = {IEEE}\\n}\\n@inproceedings{IACh22Pro\\n\\tauthor = {A. Chi?; A. -M. Ghiran; R. A. Buchmann},\\n\\tyear = {2022.0},\\n\\ttitle = {Proof of Concept for a Roundtrip Engineering IS for the New Enterprise in the Industry 4.0 Era},\\n\\tpublisher = {IEEE}\\n}\\n@inproceedings{CSom22Rel\\n\\tauthor = {Somers RJ,Clark AG,Walkinshaw N,Hierons RM},\\n\\tyear = {2022.0},\\n\\ttitle = {Reliable Counterparts: Efficiently Testing Causal Relationships in Digital Twins},\\n\\tpublisher = {ACM}\\n}\\n@inproceedings{IYHu23Sem\\n\\tauthor = {Y. Huang; S. Dhouib; L. P. Medinacelli; J. Malenfant},\\n\\tyear = {2023.0},\\n\\ttitle = {Semantic Interoperability of Digital Twins: Ontology-based Capability Checking in AAS Modeling Framework},\\n\\tpublisher = {IEEE}\\n}\\n@inproceedings{IYHu23Sem\\n\\tauthor = {Y. Huang; S. Dhouib; L. P. Medinacelli; J. Malenfant},\\n\\tyear = {2023.0},\\n\\ttitle = {Semantic Interoperability of Digital Twins: Ontology-based Capability Checking in AAS Modeling Framework},\\n\\tpublisher = {IEEE}\\n}\\n@article{Lau2023Sup\\n\\tauthor = {Laukotka, FN; Krause, D},\\n\\tyear = {2023.0},\\n\\ttitle = {Supporting Digital Twins for the Retrofit in Aviation by a Model-Driven Data Handling}\\n}\\n@misc{2023Supporting the Implementation of Digital Twins for IoT-Enhanced BPs\\n,\\n\\tyear = {2023.0},\\n\\ttitle = {Supporting the Implementation of Digital Twins for IoT-Enhanced BPs}\\n}\\n@inproceedings{CGor19The\\n\\tauthor = {Gorodetsky V.I.; Kozhevnikov S.S.; Novichkov D.; Skobelev P.O.},\\n\\tyear = {2019.0},\\n\\ttitle = {The Framework for Designing Autonomous Cyber-Physical Multi-agent Systems for Adaptive Resource Management},\\n\\tpublisher = {Springer}\\n}\\n@inproceedings{Gor2019The\\n\\tauthor = {Gorodetsky, VI; Kozhevnikov, SS; Novichkov, D; Skobelev, PO},\\n\\tyear = {2019.0},\\n\\ttitle = {The Framework for Designing Autonomous Cyber-Physical Multi-agent Systems for Adaptive Resource Management}\\n}\\n@article{AKar22The\\n\\tauthor = {Karagiannis D.; Buchmann R.A.; Utz W.},\\n\\tyear = {2022.0},\\n\\ttitle = {The OMiLAB Digital Innovation environment: Agile conceptual models to bridge business value with Digital and Physical Twins for Product-Service Systems development},\\n\\tpublisher = {Elsevier B.V.}\\n}\\n@article{Kar2022The\\n\\tauthor = {Karagiannis, D; Buchmann, RA; Utz, W},\\n\\tyear = {2022.0},\\n\\ttitle = {The OMiLAB Digital Innovation environment: Agile conceptual models to bridge business value with Digital and Physical Twins for Product-Service Systems development}\\n}\\n@inproceedings{Nia20Tow\\n\\tauthor = {Niati A,Selma C,Tamzalit D,Bruneliere H,Mebarki N,Cardin O},\\n\\tyear = {2020.0},\\n\\ttitle = {Towards a Digital Twin for Cyber-Physical Production Systems: A Multi-Paradigm Modeling Approach in the Postal Industry},\\n\\tpublisher = {ACM}\\n}\\n@inproceedings{Nia20Tow\\n\\tauthor = {Niati A,Selma C,Tamzalit D,Bruneliere H,Mebarki N,Cardin O},\\n\\tyear = {2020.0},\\n\\ttitle = {Towards a Digital Twin for Cyber-Physical Production Systems: A Multi-Paradigm Modeling Approach in the Postal Industry},\\n\\tpublisher = {ACM}\\n}\\n@inproceedings{Dal20Tow\\n\\tauthor = {Dalibor M.; Michael J.; Rumpe B.; Varga S.; Wortmann A.},\\n\\tyear = {2020.0},\\n\\ttitle = {Towards a Model-Driven Architecture for Interactive Digital Twin Cockpits},\\n\\tpublisher = {Springer Science and Business Media Deutschland GmbH}\\n}\\n@inproceedings{Dal2020Tow\\n\\tauthor = {Dalibor, M; Michael, J; Rumpe, B; Varga, S; Wortmann, A},\\n\\tyear = {2020.0},\\n\\ttitle = {Towards a Model-Driven Architecture for Interactive Digital Twin Cockpits}\\n}\\n@inproceedings{CEis22Tow\\n\\tauthor = {Eisenberg M.; Lehner D.; Sindelar R.; Wimmer M.},\\n\\tyear = {2022.0},\\n\\ttitle = {Towards Reactive Planning with Digital Twins and Model-Driven Optimization},\\n\\tpublisher = {Springer Science and Business Media Deutschland GmbH}\\n}\\n@inproceedings{IJLi21Twi\\n\\tauthor = {J. Li; G. Zhou; C. Zhang},\\n\\tyear = {2021.0},\\n\\ttitle = {Twin Process Model Driven Machining Quality Optimization for Complex Parts},\\n\\tpublisher = {IEEE}\\n}\\n@inproceedings{CLiJ21Twi\\n\\tauthor = {Li J.; Zhou G.; Zhang C.},\\n\\tyear = {2021.0},\\n\\ttitle = {Twin Process Model Driven Machining Quality Optimization for Complex Parts},\\n\\tpublisher = {Institute of Electrical and Electronics Engineers Inc.}\\n}\\n@inproceedings{IJLi21Twi\\n\\tauthor = {J. Li; G. Zhou; C. Zhang},\\n\\tyear = {2021.0},\\n\\ttitle = {Twin Process Model Driven Machining Quality Optimization for Complex Parts},\\n\\tpublisher = {IEEE}\\n}\\n@inproceedings{Hug20Twi\\n\\tauthor = {Hugues J,Hristosov A,Hudak JJ,Yankel J},\\n\\tyear = {2020.0},\\n\\ttitle = {TwinOps - DevOps Meets Model-Based Engineering and Digital Twins for the Engineering of CPS},\\n\\tpublisher = {ACM}\\n}\\n@inproceedings{CKir21Und\\n\\tauthor = {Kirchhof JC,Malcher L,Rumpe B},\\n\\tyear = {2021.0},\\n\\ttitle = {Understanding and Improving Model-Driven IoT Systems through Accompanying Digital Twins},\\n\\tpublisher = {ACM}\\n}\\n@inproceedings{CKir21Und\\n\\tauthor = {Kirchhof JC,Malcher L,Rumpe B},\\n\\tyear = {2021.0},\\n\\ttitle = {Understanding and Improving Model-Driven IoT Systems through Accompanying Digital Twins},\\n\\tpublisher = {ACM}\\n}\\n@inproceedings{CMui22Usi\\n\\tauthor = {Mui12oz P,Wimmer M,Troya J,Vallecillo A},\\n\\tyear = {2022.0},\\n\\ttitle = {Using Trace Alignments for Measuring the Similarity between a Physical and Its Digital Twin},\\n\\tpublisher = {ACM}\\n}\\n@inproceedings{CMui22Usi\\n\\tauthor = {Mui12oz P,Wimmer M,Troya J,Vallecillo A},\\n\\tyear = {2022.0},\\n\\ttitle = {Using Trace Alignments for Measuring the Similarity between a Physical and Its Digital Twin},\\n\\tpublisher = {ACM}\\n}\\n@inproceedings{IPMu21Usi\\n\\tauthor = {P. Mui12oz; J. Troya; A. Vallecillo},\\n\\tyear = {2021.0},\\n\\ttitle = {Using UML and OCL Models to Realize High-Level Digital Twins},\\n\\tpublisher = {IEEE}\\n}\\n@inproceedings{CMun21Usi\\n\\tauthor = {Munoz P.; Troya J.; Vallecillo A.},\\n\\tyear = {2021.0},\\n\\ttitle = {Using UML and OCL Models to Realize High-Level Digital Twins},\\n\\tpublisher = {Institute of Electrical and Electronics Engineers Inc.}\\n}\\n@inproceedings{IPMu21Usi\\n\\tauthor = {P. Mui12oz; J. Troya; A. Vallecillo},\\n\\tyear = {2021.0},\\n\\ttitle = {Using UML and OCL Models to Realize High-Level Digital Twins},\\n\\tpublisher = {IEEE}\\n}\\n@inproceedings{Mun2021Usi\\n\\tauthor = {Munoz, P; Troya, J; Vallecillo, A},\\n\\tyear = {2021.0},\\n\\ttitle = {Using UML and OCL Models to Realize High-Level Digital Twins}\\n}\\n@inproceedings{IGWa22Wor\\n\\tauthor = {G. Wang; Z. Bing; Z. Hou; Y. Guan; X. Qi; M. Liu},\\n\\tyear = {2022.0},\\n\\ttitle = {Workshop Management and Control System Based on Digital Twin},\\n\\tpublisher = {IEEE}\\n}\\n@inproceedings{IGWa22Wor\\n\\tauthor = {G. Wang; Z. Bing; Z. Hou; Y. Guan; X. Qi; M. Liu},\\n\\tyear = {2022.0},\\n\\ttitle = {Workshop Management and Control System Based on Digital Twin},\\n\\tpublisher = {IEEE}\\n}\\n'"
      ]
     },
     "execution_count": 340,
     "metadata": {},
     "output_type": "execute_result"
    }
   ],
   "source": [
    "out11"
   ]
  },
  {
   "cell_type": "code",
   "execution_count": 341,
   "metadata": {},
   "outputs": [],
   "source": [
    "with open(\"lib.bib\", \"w\") as f:#, encoding=\"utf-8\"\n",
    "    f.write(out11.decode(\"ascii\"))"
   ]
  }
 ],
 "metadata": {
  "kernelspec": {
   "display_name": "Python 3",
   "language": "python",
   "name": "python3"
  },
  "language_info": {
   "codemirror_mode": {
    "name": "ipython",
    "version": 3
   },
   "file_extension": ".py",
   "mimetype": "text/x-python",
   "name": "python",
   "nbconvert_exporter": "python",
   "pygments_lexer": "ipython3",
   "version": "3.11.2"
  },
  "orig_nbformat": 4
 },
 "nbformat": 4,
 "nbformat_minor": 2
}
