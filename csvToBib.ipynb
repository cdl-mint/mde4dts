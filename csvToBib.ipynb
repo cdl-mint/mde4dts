{
 "cells": [
  {
   "cell_type": "code",
   "execution_count": 169,
   "metadata": {},
   "outputs": [],
   "source": [
    "import subprocess\n",
    "import sys\n",
    "\n",
    "def install(package):\n",
    "    subprocess.check_call([sys.executable, \"-m\", \"pip\", \"install\", package])\n",
    "\n",
    "install(\"pandas\")\n",
    "install(\"numpy\")\n",
    "install(\"matplotlib\")"
   ]
  },
  {
   "cell_type": "code",
   "execution_count": 170,
   "metadata": {},
   "outputs": [],
   "source": [
    "import pandas as pd\n",
    "import numpy as np\n",
    "import json\n",
    "import csv\n",
    "import os\n",
    "import math"
   ]
  },
  {
   "cell_type": "code",
   "execution_count": 171,
   "metadata": {},
   "outputs": [],
   "source": [
    "df = pd.read_csv(\"data/04 extraction consolidation results_backup_sepEQI.csv\", sep=\"|\")"
   ]
  },
  {
   "cell_type": "code",
   "execution_count": 172,
   "metadata": {},
   "outputs": [],
   "source": [
    "metadata = pd.read_csv(\"./data/search_results.csv\", sep=\";\", encoding=\"latin-1\")"
   ]
  },
  {
   "cell_type": "code",
   "execution_count": 173,
   "metadata": {},
   "outputs": [],
   "source": [
    "data = df.merge(metadata, how='left', on='Title')"
   ]
  },
  {
   "cell_type": "code",
   "execution_count": 174,
   "metadata": {},
   "outputs": [],
   "source": [
    "includedTitles = df['Title']"
   ]
  },
  {
   "cell_type": "code",
   "execution_count": 175,
   "metadata": {},
   "outputs": [],
   "source": [
    "includedTitles = includedTitles.dropna().unique()"
   ]
  },
  {
   "cell_type": "code",
   "execution_count": 176,
   "metadata": {},
   "outputs": [],
   "source": [
    "includedTitles = pd.DataFrame(includedTitles, columns=['Title'])"
   ]
  },
  {
   "cell_type": "code",
   "execution_count": 177,
   "metadata": {},
   "outputs": [],
   "source": [
    "data = includedTitles.merge(metadata, how='left', on='Title').dropna(subset=['Title'])"
   ]
  },
  {
   "cell_type": "code",
   "execution_count": 178,
   "metadata": {},
   "outputs": [
    {
     "data": {
      "text/plain": [
       "array(['J', 'Article', 'IEEE Journals', 'IEEE Conferences',\n",
       "       'Conference Paper', 'Conference paper', 'C', nan], dtype=object)"
      ]
     },
     "execution_count": 178,
     "metadata": {},
     "output_type": "execute_result"
    }
   ],
   "source": [
    "data['Document Identifier'].unique()"
   ]
  },
  {
   "cell_type": "code",
   "execution_count": 179,
   "metadata": {},
   "outputs": [],
   "source": [
    "possibilities = ['J', 'Article', 'IEEE Journals', 'IEEE Conferences','Conference Paper', 'Conference paper', 'C']"
   ]
  },
  {
   "cell_type": "code",
   "execution_count": 180,
   "metadata": {},
   "outputs": [],
   "source": [
    "tags = []\n",
    "shorts = []"
   ]
  },
  {
   "cell_type": "code",
   "execution_count": 181,
   "metadata": {},
   "outputs": [],
   "source": [
    "for index, row in data.iterrows():\n",
    "    di = row['Document Identifier']\n",
    "\n",
    "    if di == possibilities[0]:\n",
    "        tags.append(\"@article\")\n",
    "        \n",
    "\n",
    "    elif di == possibilities[1]:\n",
    "        tags.append(\"@article\")\n",
    "        \n",
    "    \n",
    "    elif di == possibilities[2]:\n",
    "        tags.append(\"@article\")\n",
    "    \n",
    "    elif di == possibilities[3]:\n",
    "        tags.append(\"@inproceedings\")\n",
    "    \n",
    "    elif di == possibilities[4]:\n",
    "        tags.append(\"@inproceedings\")\n",
    "    \n",
    "    elif di == possibilities[5]:\n",
    "        tags.append(\"@inproceedings\")\n",
    "\n",
    "    elif di == possibilities[6]:\n",
    "        tags.append(\"@inproceedings\")\n",
    "    \n",
    "    else:\n",
    "        tags.append(\"@misc\")\n",
    "    \n"
   ]
  },
  {
   "cell_type": "code",
   "execution_count": 182,
   "metadata": {},
   "outputs": [
    {
     "data": {
      "text/plain": [
       "102"
      ]
     },
     "execution_count": 182,
     "metadata": {},
     "output_type": "execute_result"
    }
   ],
   "source": [
    "len(tags)"
   ]
  },
  {
   "cell_type": "code",
   "execution_count": 183,
   "metadata": {},
   "outputs": [],
   "source": [
    "data2 = data.assign(tag= tags)"
   ]
  },
  {
   "cell_type": "code",
   "execution_count": 184,
   "metadata": {},
   "outputs": [],
   "source": [
    "for index, row in data2.iterrows():\n",
    "    di = row['Document Identifier']\n",
    "    title = row['Title']\n",
    "    year = row['Publication Year']\n",
    "    name = row['Authors']\n",
    "    if pd.isna(di):\n",
    "        docid = ''\n",
    "    else:\n",
    "        docid = di[0:0]\n",
    "    if pd.isna(name):\n",
    "        out = \"\"\n",
    "        #print(year, name, di)\n",
    "\n",
    "        if year == 2018:\n",
    "            out=di+str(18)+title\n",
    "        elif year == 2019:\n",
    "            out=di+str(19)+title\n",
    "        elif year == 2020:\n",
    "            out=di+str(20)+title\n",
    "        elif year == 2021:\n",
    "            out=di+str(21)+title\n",
    "        elif year == 2022:\n",
    "            out=di+str(22)+title\n",
    "        elif year == 2023:\n",
    "            out=di+str(23)+title\n",
    "        elif year == 2024:\n",
    "            out=di+str(24)+title\n",
    "    \n",
    "        else:\n",
    "            out=str(di)+title\n",
    "        shorts.append(out)\n",
    "        continue\n",
    "    shname = name.replace(' ', '').replace('.','')[0:3]\n",
    "    title = title.replace(' ', '')[0:3]\n",
    "    \n",
    "    out = \"\"\n",
    "    #print(year, name, di)\n",
    "\n",
    "    if year == 2018:\n",
    "        out=di+shname+str(18)+title\n",
    "    elif year == 2019:\n",
    "        out=di+shname+str(19)+title\n",
    "    elif year == 2020:\n",
    "        out=shname+str(20)+title\n",
    "    elif year == 2021:\n",
    "        out=di+shname+str(21)+title\n",
    "    elif year == 2022:\n",
    "        out=di+shname+str(22)+title\n",
    "    elif year == 2023:\n",
    "        out=di+shname+str(23)+title\n",
    "    elif year == 2024:\n",
    "        out=di+shname+str(24)+title\n",
    "    \n",
    "    else:\n",
    "        out=shname+title\n",
    "    shorts.append(out)"
   ]
  },
  {
   "cell_type": "code",
   "execution_count": 185,
   "metadata": {},
   "outputs": [
    {
     "data": {
      "text/plain": [
       "['YanAdi',\n",
       " 'ArticlePar21Afr',\n",
       " 'ParAfr',\n",
       " 'IEEE JournalsGNS21AMe',\n",
       " 'ArticleSch21AMe',\n",
       " 'IEEE JournalsGNS21AMe',\n",
       " 'SchAMe',\n",
       " 'IEEE ConferencesSSh19AMo',\n",
       " 'IEEE ConferencesSSh19AMo',\n",
       " 'Conference PaperChr22ANo',\n",
       " 'Conference PaperChr22ANo',\n",
       " 'ArticleLeh23Apa',\n",
       " 'IEEE ConferencesDLe21AML',\n",
       " 'Conference paperLeh21AML',\n",
       " 'IEEE ConferencesDLe21AML',\n",
       " 'LehAML',\n",
       " 'IEEE ConferencesMIb23AnE',\n",
       " 'Conference PaperGri22Cas',\n",
       " 'Conference PaperGri22Cas',\n",
       " 'IEEE ConferencesMDM18Clo',\n",
       " 'IEEE ConferencesMDM18Clo',\n",
       " 'DiMClo',\n",
       " 'IEEE ConferencesXPi21Com',\n",
       " 'IEEE ConferencesXPi21Com',\n",
       " 'PalCom',\n",
       " 'IEEE ConferencesFWi23Con',\n",
       " 'Conference PaperFen22CPS',\n",
       " 'Conference PaperFen22CPS',\n",
       " 'IEEE ConferencesGLy21Dat',\n",
       " 'IEEE ConferencesGLy21Dat',\n",
       " 'LyaDat',\n",
       " 'Conference PaperChe18Dig',\n",
       " 'CheDig',\n",
       " 'Conference PaperBar22Dig',\n",
       " 'Conference PaperBar22Dig',\n",
       " 'ARa20Dig',\n",
       " 'Ras20Dig',\n",
       " 'ARa20Dig',\n",
       " 'RasDig',\n",
       " 'YDa20Dig',\n",
       " 'YDa20Dig',\n",
       " 'Conference PaperHua22Ena',\n",
       " 'Conference PaperHua22Ena',\n",
       " 'Conference paperCim21Ens',\n",
       " 'CimEns',\n",
       " 'ArticleDal22Gen',\n",
       " 'DalGen',\n",
       " 'Conference paperMic22Gen',\n",
       " 'IEEE ConferencesNBr21Gen',\n",
       " 'Conference paperBra21Gen',\n",
       " 'IEEE ConferencesNBr21Gen',\n",
       " 'BraGen',\n",
       " 'Conference PaperBar22Int',\n",
       " 'Conference PaperBar22Int',\n",
       " 'IEEE JournalsARa22Int',\n",
       " 'ArticleRas22Int',\n",
       " 'IEEE JournalsARa22Int',\n",
       " 'RasInt',\n",
       " 'IEEE ConferencesAB;21Kno',\n",
       " 'IEEE ConferencesAB;21Kno',\n",
       " 'AmaKno',\n",
       " 'ArticleYan23Met',\n",
       " 'YanMet',\n",
       " 'Bib20Mod',\n",
       " 'BibMod',\n",
       " 'Kir20Mod',\n",
       " 'Kir20Mod',\n",
       " 'ArticleVis21Mod',\n",
       " 'VisMod',\n",
       " 'Conference paperCha22Mod',\n",
       " 'Riv20Ont',\n",
       " 'Riv20Ont',\n",
       " 'IEEE ConferencesACh22Pro',\n",
       " 'IEEE ConferencesACh22Pro',\n",
       " 'Conference PaperSom22Rel',\n",
       " 'IEEE ConferencesYHu23Sem',\n",
       " 'IEEE ConferencesYHu23Sem',\n",
       " 'LauSup',\n",
       " 'nanSupporting the Implementation of Digital Twins for IoT-Enhanced BPs',\n",
       " 'Conference paperGor19The',\n",
       " 'GorThe',\n",
       " 'ArticleKar22The',\n",
       " 'KarThe',\n",
       " 'Nia20Tow',\n",
       " 'Nia20Tow',\n",
       " 'Dal20Tow',\n",
       " 'DalTow',\n",
       " 'Conference paperEis22Tow',\n",
       " 'IEEE ConferencesJLi21Twi',\n",
       " 'Conference paperLiJ21Twi',\n",
       " 'IEEE ConferencesJLi21Twi',\n",
       " 'Hug20Twi',\n",
       " 'Conference PaperKir21Und',\n",
       " 'Conference PaperKir21Und',\n",
       " 'Conference PaperMuñ22Usi',\n",
       " 'Conference PaperMu¤22Usi',\n",
       " 'IEEE ConferencesPMu21Usi',\n",
       " 'Conference paperMun21Usi',\n",
       " 'IEEE ConferencesPMu21Usi',\n",
       " 'MunUsi',\n",
       " 'IEEE ConferencesGWa22Wor',\n",
       " 'IEEE ConferencesGWa22Wor']"
      ]
     },
     "execution_count": 185,
     "metadata": {},
     "output_type": "execute_result"
    }
   ],
   "source": [
    "shorts"
   ]
  },
  {
   "cell_type": "code",
   "execution_count": 186,
   "metadata": {},
   "outputs": [
    {
     "data": {
      "text/plain": [
       "['YanAdi',\n",
       " 'ArticlePar21Afr',\n",
       " 'ParAfr',\n",
       " 'IEEE JournalsGNS21AMe',\n",
       " 'ArticleSch21AMe',\n",
       " 'IEEE JournalsGNS21AMe',\n",
       " 'SchAMe',\n",
       " 'IEEE ConferencesSSh19AMo',\n",
       " 'IEEE ConferencesSSh19AMo',\n",
       " 'Conference PaperChr22ANo',\n",
       " 'Conference PaperChr22ANo',\n",
       " 'ArticleLeh23Apa',\n",
       " 'IEEE ConferencesDLe21AML',\n",
       " 'Conference paperLeh21AML',\n",
       " 'IEEE ConferencesDLe21AML',\n",
       " 'LehAML',\n",
       " 'IEEE ConferencesMIb23AnE',\n",
       " 'Conference PaperGri22Cas',\n",
       " 'Conference PaperGri22Cas',\n",
       " 'IEEE ConferencesMDM18Clo',\n",
       " 'IEEE ConferencesMDM18Clo',\n",
       " 'DiMClo',\n",
       " 'IEEE ConferencesXPi21Com',\n",
       " 'IEEE ConferencesXPi21Com',\n",
       " 'PalCom',\n",
       " 'IEEE ConferencesFWi23Con',\n",
       " 'Conference PaperFen22CPS',\n",
       " 'Conference PaperFen22CPS',\n",
       " 'IEEE ConferencesGLy21Dat',\n",
       " 'IEEE ConferencesGLy21Dat',\n",
       " 'LyaDat',\n",
       " 'Conference PaperChe18Dig',\n",
       " 'CheDig',\n",
       " 'Conference PaperBar22Dig',\n",
       " 'Conference PaperBar22Dig',\n",
       " 'ARa20Dig',\n",
       " 'Ras20Dig',\n",
       " 'ARa20Dig',\n",
       " 'RasDig',\n",
       " 'YDa20Dig',\n",
       " 'YDa20Dig',\n",
       " 'Conference PaperHua22Ena',\n",
       " 'Conference PaperHua22Ena',\n",
       " 'Conference paperCim21Ens',\n",
       " 'CimEns',\n",
       " 'ArticleDal22Gen',\n",
       " 'DalGen',\n",
       " 'Conference paperMic22Gen',\n",
       " 'IEEE ConferencesNBr21Gen',\n",
       " 'Conference paperBra21Gen',\n",
       " 'IEEE ConferencesNBr21Gen',\n",
       " 'BraGen',\n",
       " 'Conference PaperBar22Int',\n",
       " 'Conference PaperBar22Int',\n",
       " 'IEEE JournalsARa22Int',\n",
       " 'ArticleRas22Int',\n",
       " 'IEEE JournalsARa22Int',\n",
       " 'RasInt',\n",
       " 'IEEE ConferencesAB;21Kno',\n",
       " 'IEEE ConferencesAB;21Kno',\n",
       " 'AmaKno',\n",
       " 'ArticleYan23Met',\n",
       " 'YanMet',\n",
       " 'Bib20Mod',\n",
       " 'BibMod',\n",
       " 'Kir20Mod',\n",
       " 'Kir20Mod',\n",
       " 'ArticleVis21Mod',\n",
       " 'VisMod',\n",
       " 'Conference paperCha22Mod',\n",
       " 'Riv20Ont',\n",
       " 'Riv20Ont',\n",
       " 'IEEE ConferencesACh22Pro',\n",
       " 'IEEE ConferencesACh22Pro',\n",
       " 'Conference PaperSom22Rel',\n",
       " 'IEEE ConferencesYHu23Sem',\n",
       " 'IEEE ConferencesYHu23Sem',\n",
       " 'LauSup',\n",
       " 'nanSupporting the Implementation of Digital Twins for IoT-Enhanced BPs',\n",
       " 'Conference paperGor19The',\n",
       " 'GorThe',\n",
       " 'ArticleKar22The',\n",
       " 'KarThe',\n",
       " 'Nia20Tow',\n",
       " 'Nia20Tow',\n",
       " 'Dal20Tow',\n",
       " 'DalTow',\n",
       " 'Conference paperEis22Tow',\n",
       " 'IEEE ConferencesJLi21Twi',\n",
       " 'Conference paperLiJ21Twi',\n",
       " 'IEEE ConferencesJLi21Twi',\n",
       " 'Hug20Twi',\n",
       " 'Conference PaperKir21Und',\n",
       " 'Conference PaperKir21Und',\n",
       " 'Conference PaperMuñ22Usi',\n",
       " 'Conference PaperMu¤22Usi',\n",
       " 'IEEE ConferencesPMu21Usi',\n",
       " 'Conference paperMun21Usi',\n",
       " 'IEEE ConferencesPMu21Usi',\n",
       " 'MunUsi',\n",
       " 'IEEE ConferencesGWa22Wor',\n",
       " 'IEEE ConferencesGWa22Wor']"
      ]
     },
     "execution_count": 186,
     "metadata": {},
     "output_type": "execute_result"
    }
   ],
   "source": [
    "shorts"
   ]
  }
 ],
 "metadata": {
  "kernelspec": {
   "display_name": "Python 3",
   "language": "python",
   "name": "python3"
  },
  "language_info": {
   "codemirror_mode": {
    "name": "ipython",
    "version": 3
   },
   "file_extension": ".py",
   "mimetype": "text/x-python",
   "name": "python",
   "nbconvert_exporter": "python",
   "pygments_lexer": "ipython3",
   "version": "3.11.2"
  },
  "orig_nbformat": 4
 },
 "nbformat": 4,
 "nbformat_minor": 2
}
