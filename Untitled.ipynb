{
 "cells": [
  {
   "cell_type": "code",
   "execution_count": 1,
   "id": "6eeffd1e",
   "metadata": {},
   "outputs": [],
   "source": [
    "import pandas as pd"
   ]
  },
  {
   "cell_type": "code",
   "execution_count": 2,
   "id": "fad89a35",
   "metadata": {},
   "outputs": [],
   "source": [
    "metadata = pd.read_csv(\"./data/search_results.csv\", sep=\";\", encoding=\"latin-1\")"
   ]
  },
  {
   "cell_type": "code",
   "execution_count": 10,
   "id": "ba574d5b",
   "metadata": {},
   "outputs": [],
   "source": [
    "metadata = metadata[metadata[['Title']].notnull().all(1)]\n",
    "metadata = metadata.drop_duplicates(subset=[\"Title\"])"
   ]
  },
  {
   "cell_type": "code",
   "execution_count": 14,
   "id": "5ee423b8",
   "metadata": {},
   "outputs": [],
   "source": [
    "metadata = metadata.groupby('Publisher').count()\n",
    "metadata.to_csv(\"temp.csv\", sep=\";\")"
   ]
  },
  {
   "cell_type": "code",
   "execution_count": null,
   "id": "97b84e01",
   "metadata": {},
   "outputs": [],
   "source": []
  }
 ],
 "metadata": {
  "kernelspec": {
   "display_name": "Python 3 (ipykernel)",
   "language": "python",
   "name": "python3"
  },
  "language_info": {
   "codemirror_mode": {
    "name": "ipython",
    "version": 3
   },
   "file_extension": ".py",
   "mimetype": "text/x-python",
   "name": "python",
   "nbconvert_exporter": "python",
   "pygments_lexer": "ipython3",
   "version": "3.10.3"
  }
 },
 "nbformat": 4,
 "nbformat_minor": 5
}
